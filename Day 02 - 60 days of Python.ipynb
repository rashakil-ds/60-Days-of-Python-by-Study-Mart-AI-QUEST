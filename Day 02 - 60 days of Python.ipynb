{
 "cells": [
  {
   "cell_type": "markdown",
   "id": "9b13dea7",
   "metadata": {},
   "source": [
    "# 60 Days of Python by STUDY MART & AI QUEST"
   ]
  },
  {
   "cell_type": "markdown",
   "id": "51984b56",
   "metadata": {},
   "source": [
    "Learn Data Science: https://aiquest.org/ <br>\n",
    "Python for Everybody: https://aiquest.org/courses/python-for-everybody/ <br>\n",
    "Join Facebook Group: https://www.facebook.com/groups/StudyMart <br>\n",
    "Cell/WhatsApp: +8801704265972"
   ]
  },
  {
   "cell_type": "markdown",
   "id": "5ee01546",
   "metadata": {},
   "source": [
    "# Variables and I/O"
   ]
  },
  {
   "cell_type": "code",
   "execution_count": 5,
   "id": "ff544770",
   "metadata": {},
   "outputs": [
    {
     "data": {
      "text/plain": [
       "'data science'"
      ]
     },
     "execution_count": 5,
     "metadata": {},
     "output_type": "execute_result"
    }
   ],
   "source": [
    "'data science' #shift+enter"
   ]
  },
  {
   "cell_type": "code",
   "execution_count": 10,
   "id": "38dc2559",
   "metadata": {},
   "outputs": [
    {
     "name": "stdout",
     "output_type": "stream",
     "text": [
      "Hello World & Welcome to 60 Days of Python * "
     ]
    }
   ],
   "source": [
    "print('Hello World', 'Welcome to 60 Days of Python', sep=' & ', end=' * ') #shift+tab"
   ]
  },
  {
   "cell_type": "code",
   "execution_count": 13,
   "id": "4ebbebff",
   "metadata": {},
   "outputs": [
    {
     "name": "stdout",
     "output_type": "stream",
     "text": [
      "Hello World\n"
     ]
    }
   ],
   "source": [
    "var = 'Hello World'\n",
    "print(var)"
   ]
  },
  {
   "cell_type": "code",
   "execution_count": 14,
   "id": "b8bbe6a7",
   "metadata": {},
   "outputs": [
    {
     "name": "stdout",
     "output_type": "stream",
     "text": [
      "var\n"
     ]
    }
   ],
   "source": [
    "var = 'Hello World'\n",
    "print('var')"
   ]
  },
  {
   "cell_type": "code",
   "execution_count": 15,
   "id": "748ce8be",
   "metadata": {},
   "outputs": [
    {
     "name": "stdout",
     "output_type": "stream",
     "text": [
      "Hello World\n",
      "My Sentence is Hello World\n"
     ]
    }
   ],
   "source": [
    "var = 'Hello World'\n",
    "print(var)\n",
    "\n",
    "print('My Sentence is '+var)"
   ]
  },
  {
   "cell_type": "code",
   "execution_count": 16,
   "id": "a83b19e6",
   "metadata": {},
   "outputs": [
    {
     "data": {
      "text/plain": [
       "2322291629168"
      ]
     },
     "execution_count": 16,
     "metadata": {},
     "output_type": "execute_result"
    }
   ],
   "source": [
    "id(var)"
   ]
  },
  {
   "cell_type": "code",
   "execution_count": 17,
   "id": "dae09ed6",
   "metadata": {},
   "outputs": [
    {
     "data": {
      "text/plain": [
       "60"
      ]
     },
     "execution_count": 17,
     "metadata": {},
     "output_type": "execute_result"
    }
   ],
   "source": [
    "import sys\n",
    "sys.getsizeof(var)"
   ]
  },
  {
   "cell_type": "code",
   "execution_count": 18,
   "id": "cf57390f",
   "metadata": {},
   "outputs": [],
   "source": [
    "x = 100"
   ]
  },
  {
   "cell_type": "code",
   "execution_count": 19,
   "id": "d9e5647d",
   "metadata": {},
   "outputs": [
    {
     "data": {
      "text/plain": [
       "100"
      ]
     },
     "execution_count": 19,
     "metadata": {},
     "output_type": "execute_result"
    }
   ],
   "source": [
    "x"
   ]
  },
  {
   "cell_type": "code",
   "execution_count": 20,
   "id": "ee6c86ce",
   "metadata": {},
   "outputs": [],
   "source": [
    "y = 100"
   ]
  },
  {
   "cell_type": "code",
   "execution_count": 21,
   "id": "8c907036",
   "metadata": {},
   "outputs": [
    {
     "data": {
      "text/plain": [
       "100"
      ]
     },
     "execution_count": 21,
     "metadata": {},
     "output_type": "execute_result"
    }
   ],
   "source": [
    "y"
   ]
  },
  {
   "cell_type": "code",
   "execution_count": 22,
   "id": "182f3d34",
   "metadata": {},
   "outputs": [
    {
     "data": {
      "text/plain": [
       "140723000259472"
      ]
     },
     "execution_count": 22,
     "metadata": {},
     "output_type": "execute_result"
    }
   ],
   "source": [
    "id(x)"
   ]
  },
  {
   "cell_type": "code",
   "execution_count": 23,
   "id": "2547b92d",
   "metadata": {},
   "outputs": [
    {
     "data": {
      "text/plain": [
       "140723000259472"
      ]
     },
     "execution_count": 23,
     "metadata": {},
     "output_type": "execute_result"
    }
   ],
   "source": [
    "id(y)"
   ]
  },
  {
   "cell_type": "code",
   "execution_count": 24,
   "id": "63f71fa0",
   "metadata": {},
   "outputs": [
    {
     "data": {
      "text/plain": [
       "2322291420336"
      ]
     },
     "execution_count": 24,
     "metadata": {},
     "output_type": "execute_result"
    }
   ],
   "source": [
    "x = 1000\n",
    "y = 1000\n",
    "id(x)"
   ]
  },
  {
   "cell_type": "code",
   "execution_count": 25,
   "id": "4dff259b",
   "metadata": {},
   "outputs": [
    {
     "data": {
      "text/plain": [
       "2322291420272"
      ]
     },
     "execution_count": 25,
     "metadata": {},
     "output_type": "execute_result"
    }
   ],
   "source": [
    "id(y)"
   ]
  },
  {
   "cell_type": "code",
   "execution_count": 26,
   "id": "326be51c",
   "metadata": {},
   "outputs": [
    {
     "data": {
      "text/plain": [
       "'shakil'"
      ]
     },
     "execution_count": 26,
     "metadata": {},
     "output_type": "execute_result"
    }
   ],
   "source": [
    "name = 'shakil'\n",
    "x = 'shakil'\n",
    "x"
   ]
  },
  {
   "cell_type": "code",
   "execution_count": 27,
   "id": "92896dc2",
   "metadata": {},
   "outputs": [
    {
     "ename": "SyntaxError",
     "evalue": "invalid syntax (<ipython-input-27-1c82ac4c87ed>, line 1)",
     "output_type": "error",
     "traceback": [
      "\u001b[1;36m  File \u001b[1;32m\"<ipython-input-27-1c82ac4c87ed>\"\u001b[1;36m, line \u001b[1;32m1\u001b[0m\n\u001b[1;33m    9vzr = 100\u001b[0m\n\u001b[1;37m     ^\u001b[0m\n\u001b[1;31mSyntaxError\u001b[0m\u001b[1;31m:\u001b[0m invalid syntax\n"
     ]
    }
   ],
   "source": [
    "9vzr = 100"
   ]
  },
  {
   "cell_type": "code",
   "execution_count": 30,
   "id": "5f32ae83",
   "metadata": {},
   "outputs": [
    {
     "data": {
      "text/plain": [
       "100"
      ]
     },
     "execution_count": 30,
     "metadata": {},
     "output_type": "execute_result"
    }
   ],
   "source": [
    "var9 = 100\n",
    "var9"
   ]
  },
  {
   "cell_type": "code",
   "execution_count": 31,
   "id": "fc16ea75",
   "metadata": {},
   "outputs": [
    {
     "ename": "SyntaxError",
     "evalue": "cannot assign to operator (<ipython-input-31-e0056c43bb6d>, line 1)",
     "output_type": "error",
     "traceback": [
      "\u001b[1;36m  File \u001b[1;32m\"<ipython-input-31-e0056c43bb6d>\"\u001b[1;36m, line \u001b[1;32m1\u001b[0m\n\u001b[1;33m    var-2 = 100\u001b[0m\n\u001b[1;37m    ^\u001b[0m\n\u001b[1;31mSyntaxError\u001b[0m\u001b[1;31m:\u001b[0m cannot assign to operator\n"
     ]
    }
   ],
   "source": [
    "var-2 = 100"
   ]
  },
  {
   "cell_type": "code",
   "execution_count": 32,
   "id": "37e780d3",
   "metadata": {},
   "outputs": [
    {
     "data": {
      "text/plain": [
       "8"
      ]
     },
     "execution_count": 32,
     "metadata": {},
     "output_type": "execute_result"
    }
   ],
   "source": [
    "10-2"
   ]
  },
  {
   "cell_type": "code",
   "execution_count": 33,
   "id": "24de70ee",
   "metadata": {},
   "outputs": [
    {
     "data": {
      "text/plain": [
       "100"
      ]
     },
     "execution_count": 33,
     "metadata": {},
     "output_type": "execute_result"
    }
   ],
   "source": [
    "var_2 = 100\n",
    "var_2"
   ]
  },
  {
   "cell_type": "code",
   "execution_count": 34,
   "id": "170230f3",
   "metadata": {},
   "outputs": [],
   "source": [
    "x,y,z = 10,100,1000"
   ]
  },
  {
   "cell_type": "code",
   "execution_count": 35,
   "id": "bf9d201e",
   "metadata": {},
   "outputs": [
    {
     "data": {
      "text/plain": [
       "1000"
      ]
     },
     "execution_count": 35,
     "metadata": {},
     "output_type": "execute_result"
    }
   ],
   "source": [
    "z"
   ]
  },
  {
   "cell_type": "code",
   "execution_count": 36,
   "id": "d7ca979f",
   "metadata": {},
   "outputs": [
    {
     "data": {
      "text/plain": [
       "100"
      ]
     },
     "execution_count": 36,
     "metadata": {},
     "output_type": "execute_result"
    }
   ],
   "source": [
    "y"
   ]
  },
  {
   "cell_type": "code",
   "execution_count": 37,
   "id": "404f837b",
   "metadata": {},
   "outputs": [
    {
     "data": {
      "text/plain": [
       "10"
      ]
     },
     "execution_count": 37,
     "metadata": {},
     "output_type": "execute_result"
    }
   ],
   "source": [
    "x"
   ]
  },
  {
   "cell_type": "code",
   "execution_count": 38,
   "id": "8b251be0",
   "metadata": {},
   "outputs": [
    {
     "ename": "ValueError",
     "evalue": "not enough values to unpack (expected 3, got 2)",
     "output_type": "error",
     "traceback": [
      "\u001b[1;31m---------------------------------------------------------------------------\u001b[0m",
      "\u001b[1;31mValueError\u001b[0m                                Traceback (most recent call last)",
      "\u001b[1;32m<ipython-input-38-0c5290149664>\u001b[0m in \u001b[0;36m<module>\u001b[1;34m\u001b[0m\n\u001b[1;32m----> 1\u001b[1;33m \u001b[0mx\u001b[0m\u001b[1;33m,\u001b[0m\u001b[0my\u001b[0m\u001b[1;33m,\u001b[0m\u001b[0mz\u001b[0m \u001b[1;33m=\u001b[0m \u001b[1;36m10\u001b[0m\u001b[1;33m,\u001b[0m\u001b[1;36m100\u001b[0m\u001b[1;33m\u001b[0m\u001b[1;33m\u001b[0m\u001b[0m\n\u001b[0m",
      "\u001b[1;31mValueError\u001b[0m: not enough values to unpack (expected 3, got 2)"
     ]
    }
   ],
   "source": [
    "x,y,z = 10,100"
   ]
  },
  {
   "cell_type": "code",
   "execution_count": 39,
   "id": "4729ab91",
   "metadata": {},
   "outputs": [],
   "source": [
    "x,y,z = 10,100,0"
   ]
  },
  {
   "cell_type": "code",
   "execution_count": 40,
   "id": "a28101dc",
   "metadata": {},
   "outputs": [],
   "source": [
    "x,y,z = 10,100,'shakil'"
   ]
  },
  {
   "cell_type": "code",
   "execution_count": 41,
   "id": "84f32d51",
   "metadata": {},
   "outputs": [
    {
     "data": {
      "text/plain": [
       "'shakil'"
      ]
     },
     "execution_count": 41,
     "metadata": {},
     "output_type": "execute_result"
    }
   ],
   "source": [
    "z"
   ]
  },
  {
   "cell_type": "code",
   "execution_count": 43,
   "id": "4f818b1c",
   "metadata": {},
   "outputs": [
    {
     "ename": "NameError",
     "evalue": "name 'Var_2' is not defined",
     "output_type": "error",
     "traceback": [
      "\u001b[1;31m---------------------------------------------------------------------------\u001b[0m",
      "\u001b[1;31mNameError\u001b[0m                                 Traceback (most recent call last)",
      "\u001b[1;32m<ipython-input-43-d51711dddbea>\u001b[0m in \u001b[0;36m<module>\u001b[1;34m\u001b[0m\n\u001b[1;32m----> 1\u001b[1;33m \u001b[0mVar_2\u001b[0m \u001b[1;31m# var_2\u001b[0m\u001b[1;33m\u001b[0m\u001b[1;33m\u001b[0m\u001b[0m\n\u001b[0m",
      "\u001b[1;31mNameError\u001b[0m: name 'Var_2' is not defined"
     ]
    }
   ],
   "source": [
    "Var_2 # var_2"
   ]
  },
  {
   "cell_type": "code",
   "execution_count": 44,
   "id": "5f5b1c92",
   "metadata": {},
   "outputs": [],
   "source": [
    "X = 1\n",
    "x = 2"
   ]
  },
  {
   "cell_type": "code",
   "execution_count": 45,
   "id": "355f9e11",
   "metadata": {},
   "outputs": [
    {
     "data": {
      "text/plain": [
       "2"
      ]
     },
     "execution_count": 45,
     "metadata": {},
     "output_type": "execute_result"
    }
   ],
   "source": [
    "x"
   ]
  },
  {
   "cell_type": "code",
   "execution_count": 46,
   "id": "9e8a1286",
   "metadata": {},
   "outputs": [
    {
     "data": {
      "text/plain": [
       "1"
      ]
     },
     "execution_count": 46,
     "metadata": {},
     "output_type": "execute_result"
    }
   ],
   "source": [
    "X"
   ]
  },
  {
   "cell_type": "code",
   "execution_count": 47,
   "id": "bfa6f158",
   "metadata": {},
   "outputs": [],
   "source": [
    "VARSITYID = 1001\n",
    "varsity_id = 1001 #snake case"
   ]
  },
  {
   "cell_type": "code",
   "execution_count": 48,
   "id": "5dca0f16",
   "metadata": {},
   "outputs": [
    {
     "data": {
      "text/plain": [
       "1001"
      ]
     },
     "execution_count": 48,
     "metadata": {},
     "output_type": "execute_result"
    }
   ],
   "source": [
    "varsity_id"
   ]
  },
  {
   "cell_type": "code",
   "execution_count": 49,
   "id": "50157868",
   "metadata": {},
   "outputs": [
    {
     "data": {
      "text/plain": [
       "1001"
      ]
     },
     "execution_count": 49,
     "metadata": {},
     "output_type": "execute_result"
    }
   ],
   "source": [
    "VARSITYID"
   ]
  },
  {
   "cell_type": "markdown",
   "id": "c9c781a8",
   "metadata": {},
   "source": [
    "# lacal vs global"
   ]
  },
  {
   "cell_type": "code",
   "execution_count": 53,
   "id": "b3970342",
   "metadata": {},
   "outputs": [
    {
     "name": "stdout",
     "output_type": "stream",
     "text": [
      "My Num is :  500\n"
     ]
    }
   ],
   "source": [
    "x = 1000 #global\n",
    "\n",
    "def func1():\n",
    "    x = 500 #local\n",
    "    print('My Num is : ',x)\n",
    "func1()\n",
    "\n"
   ]
  },
  {
   "cell_type": "code",
   "execution_count": 57,
   "id": "2e260d18",
   "metadata": {},
   "outputs": [
    {
     "name": "stdout",
     "output_type": "stream",
     "text": [
      "My Num is :  500\n",
      "My Num is :  1000\n"
     ]
    }
   ],
   "source": [
    "x = 1000 #global\n",
    "\n",
    "def func1():\n",
    "    x = 500 #local\n",
    "    print('My Num is : ',x)\n",
    "func1()\n",
    "print('My Num is : ',x)"
   ]
  },
  {
   "cell_type": "code",
   "execution_count": 58,
   "id": "2e67c62b",
   "metadata": {},
   "outputs": [
    {
     "name": "stdout",
     "output_type": "stream",
     "text": [
      "My Num is :  500\n",
      "My Num is :  1000\n"
     ]
    }
   ],
   "source": [
    "def func1():\n",
    "    x = 500 #local\n",
    "    print('My Num is : ',x)\n",
    "func1()\n",
    "print('My Num is : ',x)"
   ]
  },
  {
   "cell_type": "code",
   "execution_count": 59,
   "id": "0f7e69b5",
   "metadata": {},
   "outputs": [
    {
     "name": "stdout",
     "output_type": "stream",
     "text": [
      "My Num is :  500\n",
      "My Num is :  500\n"
     ]
    }
   ],
   "source": [
    "def func1():\n",
    "    global x\n",
    "    x = 500 #local\n",
    "    print('My Num is : ',x)\n",
    "func1()\n",
    "print('My Num is : ',x)"
   ]
  },
  {
   "cell_type": "code",
   "execution_count": null,
   "id": "c014128c",
   "metadata": {},
   "outputs": [],
   "source": [
    "Visit: https://www.aiquest.org"
   ]
  }
 ],
 "metadata": {
  "kernelspec": {
   "display_name": "Python 3 (ipykernel)",
   "language": "python",
   "name": "python3"
  },
  "language_info": {
   "codemirror_mode": {
    "name": "ipython",
    "version": 3
   },
   "file_extension": ".py",
   "mimetype": "text/x-python",
   "name": "python",
   "nbconvert_exporter": "python",
   "pygments_lexer": "ipython3",
   "version": "3.9.13"
  }
 },
 "nbformat": 4,
 "nbformat_minor": 5
}
