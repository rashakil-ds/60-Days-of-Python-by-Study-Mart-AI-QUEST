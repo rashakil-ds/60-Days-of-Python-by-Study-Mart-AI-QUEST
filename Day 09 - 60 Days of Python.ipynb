{
 "cells": [
  {
   "cell_type": "markdown",
   "id": "57f8fc27",
   "metadata": {},
   "source": [
    "Learn Data Science: https://aiquest.org/ <br>\n",
    "Python for Everybody: https://aiquest.org/courses/python-for-everybody/ <br>\n",
    "Join Facebook Group: https://www.facebook.com/groups/StudyMart <br>\n",
    "Cell/WhatsApp: +8801704265972"
   ]
  },
  {
   "cell_type": "code",
   "execution_count": 1,
   "id": "5183ea2b",
   "metadata": {},
   "outputs": [],
   "source": [
    "data = 'python'"
   ]
  },
  {
   "cell_type": "code",
   "execution_count": 2,
   "id": "7b2721ca",
   "metadata": {},
   "outputs": [
    {
     "data": {
      "text/plain": [
       "'p'"
      ]
     },
     "execution_count": 2,
     "metadata": {},
     "output_type": "execute_result"
    }
   ],
   "source": [
    "data[0]"
   ]
  },
  {
   "cell_type": "code",
   "execution_count": 3,
   "id": "ccfb7a33",
   "metadata": {},
   "outputs": [
    {
     "data": {
      "text/plain": [
       "'n'"
      ]
     },
     "execution_count": 3,
     "metadata": {},
     "output_type": "execute_result"
    }
   ],
   "source": [
    "data[-1]"
   ]
  },
  {
   "cell_type": "code",
   "execution_count": 6,
   "id": "884cf099",
   "metadata": {},
   "outputs": [
    {
     "name": "stdout",
     "output_type": "stream",
     "text": [
      "p x\n",
      "y x\n",
      "t x\n",
      "h x\n",
      "o x\n",
      "n x\n"
     ]
    }
   ],
   "source": [
    "for x in data:\n",
    "    print(x,'x')"
   ]
  },
  {
   "cell_type": "code",
   "execution_count": 7,
   "id": "a9ba2b4a",
   "metadata": {},
   "outputs": [
    {
     "data": {
      "text/plain": [
       "range(0, 10)"
      ]
     },
     "execution_count": 7,
     "metadata": {},
     "output_type": "execute_result"
    }
   ],
   "source": [
    "range(10)"
   ]
  },
  {
   "cell_type": "code",
   "execution_count": 8,
   "id": "cdf13b1f",
   "metadata": {},
   "outputs": [
    {
     "name": "stdout",
     "output_type": "stream",
     "text": [
      "p\n",
      "y\n",
      "t\n",
      "h\n",
      "o\n",
      "n\n"
     ]
    }
   ],
   "source": [
    "for x in range(len(data)):\n",
    "    print(data[x])"
   ]
  },
  {
   "cell_type": "code",
   "execution_count": 9,
   "id": "670f4f9e",
   "metadata": {},
   "outputs": [
    {
     "data": {
      "text/plain": [
       "6"
      ]
     },
     "execution_count": 9,
     "metadata": {},
     "output_type": "execute_result"
    }
   ],
   "source": [
    "len(data)"
   ]
  },
  {
   "cell_type": "code",
   "execution_count": 10,
   "id": "6108daa5",
   "metadata": {},
   "outputs": [
    {
     "name": "stdout",
     "output_type": "stream",
     "text": [
      "p\n",
      "y\n",
      "t\n",
      "h\n",
      "o\n",
      "n\n"
     ]
    }
   ],
   "source": [
    "for x in range(6):\n",
    "    print(data[x])"
   ]
  },
  {
   "cell_type": "code",
   "execution_count": 12,
   "id": "a7349f01",
   "metadata": {},
   "outputs": [
    {
     "name": "stdout",
     "output_type": "stream",
     "text": [
      "i\n",
      " \n",
      "l\n",
      "o\n",
      "v\n",
      "e\n",
      " \n",
      "d\n",
      "a\n",
      "t\n",
      "a\n",
      " \n",
      "s\n",
      "c\n",
      "i\n",
      "e\n",
      "n\n",
      "c\n",
      "e\n",
      " \n",
      "s\n",
      "o\n",
      " \n",
      "m\n",
      "u\n",
      "c\n",
      "h\n"
     ]
    }
   ],
   "source": [
    "data = 'i love data science so much'\n",
    "for i in range(len(data)):\n",
    "    print(data[i])"
   ]
  },
  {
   "cell_type": "code",
   "execution_count": 13,
   "id": "662ce24d",
   "metadata": {},
   "outputs": [
    {
     "name": "stdout",
     "output_type": "stream",
     "text": [
      "i\n",
      " \n",
      "l\n",
      "o\n",
      "v\n",
      "e\n",
      " \n",
      "d\n",
      "a\n",
      "t\n",
      "a\n",
      " \n",
      "s\n",
      "c\n",
      "i\n",
      "e\n",
      "n\n",
      "c\n",
      "e\n",
      " \n",
      "s\n",
      "o\n",
      " \n",
      "m\n",
      "u\n",
      "c\n",
      "h\n"
     ]
    }
   ],
   "source": [
    "data = 'i love data science so much'\n",
    "for x in range(len(data)):\n",
    "    print(data[x])"
   ]
  },
  {
   "cell_type": "code",
   "execution_count": 14,
   "id": "8cf81041",
   "metadata": {},
   "outputs": [
    {
     "data": {
      "text/plain": [
       "['i', 'love', 'data', 'science', 'so', 'much']"
      ]
     },
     "execution_count": 14,
     "metadata": {},
     "output_type": "execute_result"
    }
   ],
   "source": [
    "data.split()"
   ]
  },
  {
   "cell_type": "code",
   "execution_count": 1,
   "id": "78ae1ebd",
   "metadata": {},
   "outputs": [
    {
     "name": "stdout",
     "output_type": "stream",
     "text": [
      "i 0\n",
      "love 1\n",
      "data 2\n",
      "science 3\n",
      "so 4\n",
      "much 5\n"
     ]
    }
   ],
   "source": [
    "data = 'i love data science so much'\n",
    "data = data.split()\n",
    "for i in range(len(data)):\n",
    "    print(data[i],i)"
   ]
  },
  {
   "cell_type": "code",
   "execution_count": 17,
   "id": "6d701de8",
   "metadata": {},
   "outputs": [
    {
     "data": {
      "text/plain": [
       "'love'"
      ]
     },
     "execution_count": 17,
     "metadata": {},
     "output_type": "execute_result"
    }
   ],
   "source": [
    "data[1]"
   ]
  },
  {
   "cell_type": "code",
   "execution_count": 3,
   "id": "f53338d3",
   "metadata": {},
   "outputs": [
    {
     "name": "stdout",
     "output_type": "stream",
     "text": [
      "301\n"
     ]
    }
   ],
   "source": [
    "n = [2,3,4,55,60,77,100]\n",
    "total = 0\n",
    "for x in n:\n",
    "    total = total+x\n",
    "    #print(total,x)\n",
    "print(total)"
   ]
  },
  {
   "cell_type": "code",
   "execution_count": 7,
   "id": "529856df",
   "metadata": {},
   "outputs": [
    {
     "name": "stdout",
     "output_type": "stream",
     "text": [
      "2 2\n",
      "5 3\n",
      "9 4\n",
      "64 55\n",
      "124 60\n",
      "201 77\n",
      "301 100\n",
      "Total 301\n"
     ]
    }
   ],
   "source": [
    "n = [2,3,4,55,60,77,100]\n",
    "total = 0\n",
    "for x in n:\n",
    "    total = total+x\n",
    "    print(total,x)\n",
    "print('Total',total)"
   ]
  },
  {
   "cell_type": "code",
   "execution_count": 25,
   "id": "e5f7dfca",
   "metadata": {},
   "outputs": [
    {
     "name": "stdout",
     "output_type": "stream",
     "text": [
      "data science 0\n",
      "data science 1\n",
      "data science 2\n",
      "data science 3\n",
      "data science 4\n",
      "data science 5\n",
      "data science 6\n",
      "data science 7\n",
      "data science 8\n",
      "data science 9\n"
     ]
    }
   ],
   "source": [
    "for i in range(10):\n",
    "    print('data science',i)"
   ]
  },
  {
   "cell_type": "code",
   "execution_count": 26,
   "id": "1cf8f59b",
   "metadata": {},
   "outputs": [
    {
     "name": "stdout",
     "output_type": "stream",
     "text": [
      "data science 5\n",
      "data science 6\n",
      "data science 7\n",
      "data science 8\n",
      "data science 9\n"
     ]
    }
   ],
   "source": [
    "for i in range(5,10): #n-1\n",
    "    print('data science',i)"
   ]
  },
  {
   "cell_type": "code",
   "execution_count": 27,
   "id": "ac109b2b",
   "metadata": {},
   "outputs": [
    {
     "name": "stdout",
     "output_type": "stream",
     "text": [
      "data science 5\n",
      "data science 7\n",
      "data science 9\n"
     ]
    }
   ],
   "source": [
    "for i in range(5,10,2): # i = i+2\n",
    "    print('data science',i)"
   ]
  },
  {
   "cell_type": "code",
   "execution_count": 28,
   "id": "dc02a16f",
   "metadata": {},
   "outputs": [
    {
     "name": "stdout",
     "output_type": "stream",
     "text": [
      "data science 100\n",
      "data science 90\n",
      "data science 80\n",
      "data science 70\n",
      "data science 60\n"
     ]
    }
   ],
   "source": [
    "for i in range(100,50,-10): # i = i+2\n",
    "    print('data science',i)"
   ]
  },
  {
   "cell_type": "code",
   "execution_count": 29,
   "id": "bd78f1ee",
   "metadata": {},
   "outputs": [
    {
     "name": "stdout",
     "output_type": "stream",
     "text": [
      "100\n",
      "98\n",
      "96\n",
      "94\n",
      "92\n",
      "90\n",
      "88\n",
      "86\n",
      "84\n",
      "82\n",
      "80\n",
      "78\n",
      "76\n",
      "74\n",
      "72\n",
      "70\n",
      "68\n",
      "66\n",
      "64\n",
      "62\n",
      "60\n",
      "58\n",
      "56\n",
      "54\n",
      "52\n",
      "50\n",
      "48\n",
      "46\n",
      "44\n",
      "42\n",
      "40\n",
      "38\n",
      "36\n",
      "34\n",
      "32\n",
      "30\n",
      "28\n",
      "26\n",
      "24\n",
      "22\n",
      "20\n",
      "18\n",
      "16\n",
      "14\n",
      "12\n",
      "10\n",
      "8\n",
      "6\n",
      "4\n",
      "2\n"
     ]
    }
   ],
   "source": [
    "for i in range(100,0,-2): # i = i+2\n",
    "    print(i)"
   ]
  },
  {
   "cell_type": "code",
   "execution_count": null,
   "id": "bb06263c",
   "metadata": {},
   "outputs": [],
   "source": []
  }
 ],
 "metadata": {
  "kernelspec": {
   "display_name": "Python 3 (ipykernel)",
   "language": "python",
   "name": "python3"
  },
  "language_info": {
   "codemirror_mode": {
    "name": "ipython",
    "version": 3
   },
   "file_extension": ".py",
   "mimetype": "text/x-python",
   "name": "python",
   "nbconvert_exporter": "python",
   "pygments_lexer": "ipython3",
   "version": "3.9.13"
  }
 },
 "nbformat": 4,
 "nbformat_minor": 5
}
