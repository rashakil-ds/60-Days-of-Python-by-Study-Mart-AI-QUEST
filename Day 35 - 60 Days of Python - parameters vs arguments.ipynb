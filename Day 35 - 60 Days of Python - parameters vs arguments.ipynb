{
 "cells": [
  {
   "cell_type": "markdown",
   "id": "d46ff95b",
   "metadata": {},
   "source": [
    "# Parameters Vs. Arguments?"
   ]
  },
  {
   "cell_type": "markdown",
   "id": "e91a37c5",
   "metadata": {},
   "source": [
    "1. Parameters: These are the names listed in the function definition. They act as placeholders for the actual values that will be passed into the function when it is called. \n",
    "2. Arguments: These are the actual values that are passed to a function when it is called. Arguments are the values that replace the parameters when the function is invoked."
   ]
  },
  {
   "cell_type": "code",
   "execution_count": 1,
   "id": "db4f5a4c",
   "metadata": {},
   "outputs": [
    {
     "data": {
      "text/plain": [
       "40"
      ]
     },
     "execution_count": 1,
     "metadata": {},
     "output_type": "execute_result"
    }
   ],
   "source": [
    "def add_num(x,y):\n",
    "    result = x+y\n",
    "    return result\n",
    "add_num(10, 30)"
   ]
  },
  {
   "cell_type": "code",
   "execution_count": 2,
   "id": "269e00d5",
   "metadata": {},
   "outputs": [
    {
     "name": "stdout",
     "output_type": "stream",
     "text": [
      "10\n"
     ]
    }
   ],
   "source": [
    "def add_num(x,y):\n",
    "    print(x)\n",
    "add_num(10, 30)"
   ]
  },
  {
   "cell_type": "markdown",
   "id": "338e3dfd",
   "metadata": {},
   "source": [
    "1. positional argument\n",
    "2. keyword argument\n",
    "3. default argument\n",
    "4. variable length argument"
   ]
  },
  {
   "cell_type": "markdown",
   "id": "4d61ac93",
   "metadata": {},
   "source": [
    "# Positional argument"
   ]
  },
  {
   "cell_type": "code",
   "execution_count": 3,
   "id": "5cc4f4de",
   "metadata": {},
   "outputs": [
    {
     "data": {
      "text/plain": [
       "40"
      ]
     },
     "execution_count": 3,
     "metadata": {},
     "output_type": "execute_result"
    }
   ],
   "source": [
    "def add_num(x,y):\n",
    "    result = x+y\n",
    "    return result\n",
    "add_num(10, 30)"
   ]
  },
  {
   "cell_type": "markdown",
   "id": "8fa35698",
   "metadata": {},
   "source": [
    "# Default argument"
   ]
  },
  {
   "cell_type": "code",
   "execution_count": 4,
   "id": "37900720",
   "metadata": {},
   "outputs": [
    {
     "name": "stdout",
     "output_type": "stream",
     "text": [
      "job =  DATA SCIENTIST\n",
      "income = 200000\n"
     ]
    }
   ],
   "source": [
    "def personal(job, income=10000):\n",
    "    print('job = ',job)\n",
    "    print('income =' ,income)\n",
    "personal('DATA SCIENTIST', 200000)"
   ]
  },
  {
   "cell_type": "markdown",
   "id": "b42f33b2",
   "metadata": {},
   "source": [
    "# Variable length argument"
   ]
  },
  {
   "cell_type": "code",
   "execution_count": 5,
   "id": "b601f956",
   "metadata": {},
   "outputs": [
    {
     "name": "stdout",
     "output_type": "stream",
     "text": [
      "(10, 30, 10, 1000, 4000)\n"
     ]
    },
    {
     "data": {
      "text/plain": [
       "5050"
      ]
     },
     "execution_count": 5,
     "metadata": {},
     "output_type": "execute_result"
    }
   ],
   "source": [
    "def add_num(*x):\n",
    "    print(x)\n",
    "    result = sum(x)\n",
    "    return result\n",
    "    \n",
    "add_num(10, 30, 10, 1000,4000)"
   ]
  },
  {
   "cell_type": "code",
   "execution_count": 6,
   "id": "3e16aa5d",
   "metadata": {},
   "outputs": [
    {
     "name": "stdout",
     "output_type": "stream",
     "text": [
      "10\n",
      "(30, 10, 1000, 4000)\n"
     ]
    }
   ],
   "source": [
    "def add_num(x, *y):\n",
    "    print(x)\n",
    "    print(y)\n",
    "    \n",
    "add_num(10, 30, 10, 1000,4000)"
   ]
  },
  {
   "cell_type": "markdown",
   "id": "a7d642d0",
   "metadata": {},
   "source": [
    "# Keyword argument"
   ]
  },
  {
   "cell_type": "code",
   "execution_count": 7,
   "id": "2f5da937",
   "metadata": {},
   "outputs": [
    {
     "name": "stdout",
     "output_type": "stream",
     "text": [
      "job =  data scientist\n",
      "income = 200000\n"
     ]
    }
   ],
   "source": [
    "def personal(job, income):\n",
    "    print('job = ',job)\n",
    "    print('income =' ,income)\n",
    "personal(income=200000, job='data scientist')"
   ]
  },
  {
   "cell_type": "markdown",
   "id": "c4607bd8",
   "metadata": {},
   "source": [
    "# *args and **kwargs"
   ]
  },
  {
   "cell_type": "code",
   "execution_count": 8,
   "id": "09a2418d",
   "metadata": {},
   "outputs": [],
   "source": [
    "# Keyworded variable-length argument (**kwargs)"
   ]
  },
  {
   "cell_type": "markdown",
   "id": "0633a35b",
   "metadata": {},
   "source": [
    "Name: 'Rashedul Alam Shakil' <br>\n",
    "University: 'FAU' <br>\n",
    "City: 'Erlangen'"
   ]
  },
  {
   "cell_type": "code",
   "execution_count": 9,
   "id": "f4ce7777",
   "metadata": {},
   "outputs": [
    {
     "name": "stdout",
     "output_type": "stream",
     "text": [
      "Rashedul Alam Shakil\n",
      "('FAU', 'Erlangen')\n",
      "<class 'tuple'>\n"
     ]
    }
   ],
   "source": [
    "def personal_data(name, *arg):\n",
    "    print(name)\n",
    "    print(arg)\n",
    "    print(type(arg))\n",
    "\n",
    "personal_data('Rashedul Alam Shakil', 'FAU','Erlangen')"
   ]
  },
  {
   "cell_type": "code",
   "execution_count": 10,
   "id": "30555deb",
   "metadata": {},
   "outputs": [
    {
     "name": "stdout",
     "output_type": "stream",
     "text": [
      "Rashedul Alam Shakil\n",
      "{'vrsity': 'FAU', 'city': 'Erlangen'}\n",
      "<class 'dict'>\n"
     ]
    }
   ],
   "source": [
    "def personal_data(name, **arg):\n",
    "    print(name)\n",
    "    print(arg)\n",
    "    print(type(arg))\n",
    "personal_data('Rashedul Alam Shakil', vrsity = 'FAU', city = 'Erlangen')"
   ]
  },
  {
   "cell_type": "code",
   "execution_count": null,
   "id": "49272731",
   "metadata": {},
   "outputs": [],
   "source": []
  }
 ],
 "metadata": {
  "kernelspec": {
   "display_name": "Python 3 (ipykernel)",
   "language": "python",
   "name": "python3"
  },
  "language_info": {
   "codemirror_mode": {
    "name": "ipython",
    "version": 3
   },
   "file_extension": ".py",
   "mimetype": "text/x-python",
   "name": "python",
   "nbconvert_exporter": "python",
   "pygments_lexer": "ipython3",
   "version": "3.9.13"
  }
 },
 "nbformat": 4,
 "nbformat_minor": 5
}
