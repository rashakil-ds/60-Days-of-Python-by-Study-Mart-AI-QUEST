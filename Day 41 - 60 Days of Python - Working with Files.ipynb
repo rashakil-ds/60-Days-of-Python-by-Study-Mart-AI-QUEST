{
 "cells": [
  {
   "cell_type": "markdown",
   "id": "89e4f216",
   "metadata": {},
   "source": [
    "# Example 1: Reading Text from a File"
   ]
  },
  {
   "cell_type": "markdown",
   "id": "33f4f217",
   "metadata": {},
   "source": [
    "Before reading from a file, you need to make sure the file exists. This example will show you how to open a text file and read its contents line by line, which is useful for processing files that are too large to fit into memory all at once."
   ]
  },
  {
   "cell_type": "code",
   "execution_count": 1,
   "id": "73522115",
   "metadata": {},
   "outputs": [
    {
     "name": "stdout",
     "output_type": "stream",
     "text": [
      "We are allowing you to learn Python, Django, Machine Learning & AI. Visit: www.aiquest.org\n"
     ]
    }
   ],
   "source": [
    "with open('py1.txt', 'r') as file:\n",
    "    # Read each line in the file one at a time\n",
    "    for line in file:\n",
    "        # Process each line\n",
    "        print(line.strip())  # The strip() method removes any leading/trailing whitespace & newline characters"
   ]
  },
  {
   "cell_type": "markdown",
   "id": "38d358e2",
   "metadata": {},
   "source": [
    "This approach uses the \"with statement\" to ensure that the file is properly closed after its suite finishes, even if an exception is raised. It's a best practice for resource management."
   ]
  },
  {
   "cell_type": "markdown",
   "id": "2c5f14a3",
   "metadata": {},
   "source": [
    "# Example 2: Writing Text to a File"
   ]
  },
  {
   "cell_type": "markdown",
   "id": "649c69be",
   "metadata": {},
   "source": [
    "Write strings to a file, which is useful for logging, saving outputs, etc. We'll open a file in write mode ('w'), which creates the file if it doesn't exist or truncates it if it does."
   ]
  },
  {
   "cell_type": "code",
   "execution_count": 2,
   "id": "9a8d9cdc",
   "metadata": {},
   "outputs": [],
   "source": [
    "lines_to_write = ['We are allowing you to learn Python, Django, Machine Learning & AI', 'Python makes file handling easy.','Visit: www.aiquest.org']"
   ]
  },
  {
   "cell_type": "code",
   "execution_count": 3,
   "id": "cd953cc9",
   "metadata": {},
   "outputs": [],
   "source": [
    "# Open the file in write mode ('w')\n",
    "with open('py2.txt', 'w') as file:\n",
    "    for line in lines_to_write:\n",
    "        # Write each line to the file with a newline character at the end\n",
    "        file.write(line + '\\n')"
   ]
  },
  {
   "cell_type": "markdown",
   "id": "62fe6028",
   "metadata": {},
   "source": [
    "Using file.write() allows you to add text to a file. If you need to write multiple lines, you might use file.writelines() where you can pass a list of strings."
   ]
  },
  {
   "cell_type": "code",
   "execution_count": 4,
   "id": "3c52d3dd",
   "metadata": {},
   "outputs": [],
   "source": [
    "# Open the file in write mode ('w')\n",
    "with open('py22.txt', 'w') as file:\n",
    "    for line in lines_to_write:\n",
    "        # Write each line to the file with a newline character at the end\n",
    "        file.writelines(line + '\\n')"
   ]
  },
  {
   "cell_type": "markdown",
   "id": "12412be6",
   "metadata": {},
   "source": [
    "# Example 3: Appending Text to an Existing File"
   ]
  },
  {
   "cell_type": "markdown",
   "id": "3a3adf27",
   "metadata": {},
   "source": [
    "If you want to add text to the end of an existing file without overwriting its contents, you should open the file in append mode ('a'). This example demonstrates how to append multiple lines to an existing file."
   ]
  },
  {
   "cell_type": "code",
   "execution_count": 5,
   "id": "cafea074",
   "metadata": {},
   "outputs": [],
   "source": [
    "new_text1 = ['Learn data science smartly', 'AI is Future']\n",
    "\n",
    "# Open the file in append mode ('a')\n",
    "with open('py22.txt', 'a') as file:\n",
    "    for line in new_text1:\n",
    "        # Append each line to the file\n",
    "        file.write(line + '\\n')\n"
   ]
  },
  {
   "cell_type": "markdown",
   "id": "f5e69ec5",
   "metadata": {},
   "source": [
    "This method is particularly useful for logging scenarios where new entries need to be added to a log file over time without losing the existing data."
   ]
  },
  {
   "cell_type": "code",
   "execution_count": null,
   "id": "3eb074bc",
   "metadata": {},
   "outputs": [],
   "source": []
  }
 ],
 "metadata": {
  "kernelspec": {
   "display_name": "Python 3 (ipykernel)",
   "language": "python",
   "name": "python3"
  },
  "language_info": {
   "codemirror_mode": {
    "name": "ipython",
    "version": 3
   },
   "file_extension": ".py",
   "mimetype": "text/x-python",
   "name": "python",
   "nbconvert_exporter": "python",
   "pygments_lexer": "ipython3",
   "version": "3.9.13"
  }
 },
 "nbformat": 4,
 "nbformat_minor": 5
}
