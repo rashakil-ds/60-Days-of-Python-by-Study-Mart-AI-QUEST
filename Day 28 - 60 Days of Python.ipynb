{
 "cells": [
  {
   "cell_type": "markdown",
   "id": "16f66e51",
   "metadata": {},
   "source": [
    "Learn Data Science: https://aiquest.org/ <br>\n",
    "Python for Everybody: https://aiquest.org/courses/python-for-everybody/ <br>\n",
    "Join Facebook Group: https://www.facebook.com/groups/StudyMart <br>\n",
    "Cell/WhatsApp: +8801704265972"
   ]
  },
  {
   "cell_type": "markdown",
   "id": "a24702f4",
   "metadata": {},
   "source": [
    "# Commonly used built-in functions in Python"
   ]
  },
  {
   "cell_type": "markdown",
   "id": "0ca1c27c",
   "metadata": {},
   "source": [
    "# 1. print(): Outputs text or variables to the console."
   ]
  },
  {
   "cell_type": "code",
   "execution_count": 1,
   "id": "5468c460",
   "metadata": {},
   "outputs": [
    {
     "name": "stdout",
     "output_type": "stream",
     "text": [
      "Data Science!\n"
     ]
    }
   ],
   "source": [
    "print(\"Data Science!\")"
   ]
  },
  {
   "cell_type": "markdown",
   "id": "7a4a5983",
   "metadata": {},
   "source": [
    "# 2. len(): Returns the length of an object.\n",
    "\n"
   ]
  },
  {
   "cell_type": "code",
   "execution_count": 2,
   "id": "86821a5d",
   "metadata": {},
   "outputs": [],
   "source": [
    "my_list = [1, 2, 3, 4, 5]\n",
    "length = len(my_list)"
   ]
  },
  {
   "cell_type": "code",
   "execution_count": 3,
   "id": "986a9906",
   "metadata": {},
   "outputs": [
    {
     "data": {
      "text/plain": [
       "5"
      ]
     },
     "execution_count": 3,
     "metadata": {},
     "output_type": "execute_result"
    }
   ],
   "source": [
    "length"
   ]
  },
  {
   "cell_type": "markdown",
   "id": "251b68af",
   "metadata": {},
   "source": [
    "# 3. input(): Reads input from the user."
   ]
  },
  {
   "cell_type": "code",
   "execution_count": 4,
   "id": "25acfaf7",
   "metadata": {},
   "outputs": [
    {
     "name": "stdout",
     "output_type": "stream",
     "text": [
      "Enter something: study mart\n"
     ]
    }
   ],
   "source": [
    "user_input = input(\"Enter something: \")"
   ]
  },
  {
   "cell_type": "code",
   "execution_count": 5,
   "id": "0ef56976",
   "metadata": {},
   "outputs": [
    {
     "data": {
      "text/plain": [
       "'study mart'"
      ]
     },
     "execution_count": 5,
     "metadata": {},
     "output_type": "execute_result"
    }
   ],
   "source": [
    "user_input"
   ]
  },
  {
   "cell_type": "markdown",
   "id": "00c39492",
   "metadata": {},
   "source": [
    "# 4. type(): Returns the type of an object."
   ]
  },
  {
   "cell_type": "code",
   "execution_count": 6,
   "id": "98a34e23",
   "metadata": {},
   "outputs": [
    {
     "data": {
      "text/plain": [
       "int"
      ]
     },
     "execution_count": 6,
     "metadata": {},
     "output_type": "execute_result"
    }
   ],
   "source": [
    "x = 5\n",
    "type_of_x = type(x)\n",
    "type_of_x"
   ]
  },
  {
   "cell_type": "markdown",
   "id": "8f06f0f7",
   "metadata": {},
   "source": [
    "# 5. int(), float(), str(): Converts values to integers, floats, or strings."
   ]
  },
  {
   "cell_type": "code",
   "execution_count": 7,
   "id": "e835d4d5",
   "metadata": {},
   "outputs": [
    {
     "data": {
      "text/plain": [
       "42"
      ]
     },
     "execution_count": 7,
     "metadata": {},
     "output_type": "execute_result"
    }
   ],
   "source": [
    "num_str = \"42\"\n",
    "num_int = int(num_str)\n",
    "num_int"
   ]
  },
  {
   "cell_type": "code",
   "execution_count": 8,
   "id": "3d50a798",
   "metadata": {},
   "outputs": [
    {
     "data": {
      "text/plain": [
       "42.0"
      ]
     },
     "execution_count": 8,
     "metadata": {},
     "output_type": "execute_result"
    }
   ],
   "source": [
    "float(num_int)"
   ]
  },
  {
   "cell_type": "markdown",
   "id": "25b4059b",
   "metadata": {},
   "source": [
    "# 6. range(): Generates a sequence of numbers."
   ]
  },
  {
   "cell_type": "code",
   "execution_count": 9,
   "id": "5eab5f15",
   "metadata": {},
   "outputs": [
    {
     "data": {
      "text/plain": [
       "[1, 2, 3, 4, 5]"
      ]
     },
     "execution_count": 9,
     "metadata": {},
     "output_type": "execute_result"
    }
   ],
   "source": [
    "numbers = list(range(1, 6))  # creates a list [1, 2, 3, 4, 5]\n",
    "numbers"
   ]
  },
  {
   "cell_type": "markdown",
   "id": "07891caa",
   "metadata": {},
   "source": [
    "# 7. sum(): Returns the sum of all elements in an iterable."
   ]
  },
  {
   "cell_type": "code",
   "execution_count": 10,
   "id": "a73549f7",
   "metadata": {},
   "outputs": [
    {
     "data": {
      "text/plain": [
       "15"
      ]
     },
     "execution_count": 10,
     "metadata": {},
     "output_type": "execute_result"
    }
   ],
   "source": [
    "my_list = [1, 2, 3, 4, 5]\n",
    "total = sum(my_list)\n",
    "total"
   ]
  },
  {
   "cell_type": "markdown",
   "id": "817ba180",
   "metadata": {},
   "source": [
    "# 8. max(), min(): Returns the maximum or minimum value from an iterable."
   ]
  },
  {
   "cell_type": "code",
   "execution_count": 11,
   "id": "1ec9cb35",
   "metadata": {},
   "outputs": [],
   "source": [
    "numbers = [3, 1, 4, 1, 5, 9, 2]\n",
    "max_val = max(numbers)\n",
    "min_val = min(numbers)\n"
   ]
  },
  {
   "cell_type": "code",
   "execution_count": 12,
   "id": "d9e24d92",
   "metadata": {},
   "outputs": [
    {
     "data": {
      "text/plain": [
       "9"
      ]
     },
     "execution_count": 12,
     "metadata": {},
     "output_type": "execute_result"
    }
   ],
   "source": [
    "max_val"
   ]
  },
  {
   "cell_type": "code",
   "execution_count": 13,
   "id": "9dedbc77",
   "metadata": {},
   "outputs": [
    {
     "data": {
      "text/plain": [
       "1"
      ]
     },
     "execution_count": 13,
     "metadata": {},
     "output_type": "execute_result"
    }
   ],
   "source": [
    "min_val"
   ]
  },
  {
   "cell_type": "markdown",
   "id": "511a29ad",
   "metadata": {},
   "source": [
    "# 9. abs(): Returns the absolute value of a number."
   ]
  },
  {
   "cell_type": "code",
   "execution_count": 14,
   "id": "f9204b1b",
   "metadata": {},
   "outputs": [
    {
     "data": {
      "text/plain": [
       "10"
      ]
     },
     "execution_count": 14,
     "metadata": {},
     "output_type": "execute_result"
    }
   ],
   "source": [
    "absolute_value = abs(-10)\n",
    "absolute_value"
   ]
  },
  {
   "cell_type": "markdown",
   "id": "f747f6c1",
   "metadata": {},
   "source": [
    "# 10. round(): Rounds a floating-point number to a specified number of decimals."
   ]
  },
  {
   "cell_type": "code",
   "execution_count": 15,
   "id": "0ef6c754",
   "metadata": {},
   "outputs": [
    {
     "data": {
      "text/plain": [
       "3.14"
      ]
     },
     "execution_count": 15,
     "metadata": {},
     "output_type": "execute_result"
    }
   ],
   "source": [
    "rounded_num = round(3.14159, 2)  # rounds to 2 decimal places\n",
    "rounded_num"
   ]
  },
  {
   "cell_type": "markdown",
   "id": "f41986b1",
   "metadata": {},
   "source": [
    "# 11. sorted(): Returns a new sorted list from the elements of an iterable."
   ]
  },
  {
   "cell_type": "code",
   "execution_count": 16,
   "id": "03502e8c",
   "metadata": {},
   "outputs": [
    {
     "data": {
      "text/plain": [
       "[1, 1, 2, 3, 4, 5, 9]"
      ]
     },
     "execution_count": 16,
     "metadata": {},
     "output_type": "execute_result"
    }
   ],
   "source": [
    "numbers = [3, 1, 4, 1, 5, 9, 2]\n",
    "sorted_numbers = sorted(numbers)\n",
    "sorted_numbers"
   ]
  },
  {
   "cell_type": "markdown",
   "id": "a48bb76c",
   "metadata": {},
   "source": [
    "# 12. any(), all(): Returns True if any or all elements in an iterable are true."
   ]
  },
  {
   "cell_type": "code",
   "execution_count": 17,
   "id": "d705cd1c",
   "metadata": {},
   "outputs": [],
   "source": [
    "bool_list = [True, False, True, True, False]\n",
    "any_true = any(bool_list)\n",
    "all_true = all(bool_list)"
   ]
  },
  {
   "cell_type": "code",
   "execution_count": 18,
   "id": "a8122ce9",
   "metadata": {},
   "outputs": [
    {
     "data": {
      "text/plain": [
       "True"
      ]
     },
     "execution_count": 18,
     "metadata": {},
     "output_type": "execute_result"
    }
   ],
   "source": [
    "any_true"
   ]
  },
  {
   "cell_type": "code",
   "execution_count": 19,
   "id": "0cccbf40",
   "metadata": {},
   "outputs": [
    {
     "data": {
      "text/plain": [
       "False"
      ]
     },
     "execution_count": 19,
     "metadata": {},
     "output_type": "execute_result"
    }
   ],
   "source": [
    "all_true"
   ]
  },
  {
   "cell_type": "markdown",
   "id": "c15c8fce",
   "metadata": {},
   "source": [
    "# 13. str.join(): Joins elements of an iterable with a string as a separator."
   ]
  },
  {
   "cell_type": "code",
   "execution_count": 22,
   "id": "c060c6c9",
   "metadata": {},
   "outputs": [
    {
     "data": {
      "text/plain": [
       "'apple ; banana ; orange'"
      ]
     },
     "execution_count": 22,
     "metadata": {},
     "output_type": "execute_result"
    }
   ],
   "source": [
    "my_list = [\"apple\", \"banana\", \"orange\"]\n",
    "joined_str = \" ; \".join(my_list)\n",
    "joined_str"
   ]
  },
  {
   "cell_type": "markdown",
   "id": "d843d0e9",
   "metadata": {},
   "source": [
    "# 14. str.lower(), str.upper(): Converts a string to lowercase or uppercase."
   ]
  },
  {
   "cell_type": "code",
   "execution_count": 23,
   "id": "21f6f56a",
   "metadata": {},
   "outputs": [],
   "source": [
    "my_string = \"Hello, World!\"\n",
    "lower_case = my_string.lower()\n",
    "upper_case = my_string.upper()"
   ]
  },
  {
   "cell_type": "code",
   "execution_count": 24,
   "id": "a11433f5",
   "metadata": {},
   "outputs": [
    {
     "data": {
      "text/plain": [
       "'hello, world!'"
      ]
     },
     "execution_count": 24,
     "metadata": {},
     "output_type": "execute_result"
    }
   ],
   "source": [
    "lower_case"
   ]
  },
  {
   "cell_type": "code",
   "execution_count": 25,
   "id": "e68a09be",
   "metadata": {},
   "outputs": [
    {
     "data": {
      "text/plain": [
       "'HELLO, WORLD!'"
      ]
     },
     "execution_count": 25,
     "metadata": {},
     "output_type": "execute_result"
    }
   ],
   "source": [
    "upper_case"
   ]
  },
  {
   "cell_type": "markdown",
   "id": "55529524",
   "metadata": {},
   "source": [
    "# 15. list(), tuple(): Converts an iterable to a list or tuple."
   ]
  },
  {
   "cell_type": "code",
   "execution_count": 26,
   "id": "47d172c3",
   "metadata": {},
   "outputs": [
    {
     "data": {
      "text/plain": [
       "[1, 2, 3]"
      ]
     },
     "execution_count": 26,
     "metadata": {},
     "output_type": "execute_result"
    }
   ],
   "source": [
    "my_tuple = (1, 2, 3)\n",
    "tuple_to_list = list(my_tuple)\n",
    "tuple_to_list"
   ]
  },
  {
   "cell_type": "code",
   "execution_count": 27,
   "id": "e0a2d36c",
   "metadata": {},
   "outputs": [
    {
     "data": {
      "text/plain": [
       "(1, 2, 3)"
      ]
     },
     "execution_count": 27,
     "metadata": {},
     "output_type": "execute_result"
    }
   ],
   "source": [
    "tuple(tuple_to_list)"
   ]
  },
  {
   "cell_type": "markdown",
   "id": "fe0cfe2e",
   "metadata": {},
   "source": [
    "# 16. dict(): Creates a dictionary."
   ]
  },
  {
   "cell_type": "code",
   "execution_count": 28,
   "id": "2d1e7f3e",
   "metadata": {},
   "outputs": [
    {
     "data": {
      "text/plain": [
       "{'name': 'John', 'age': 25}"
      ]
     },
     "execution_count": 28,
     "metadata": {},
     "output_type": "execute_result"
    }
   ],
   "source": [
    "my_dict = dict(name=\"John\", age=25)\n",
    "my_dict"
   ]
  },
  {
   "cell_type": "code",
   "execution_count": 29,
   "id": "dc2da9a1",
   "metadata": {},
   "outputs": [
    {
     "data": {
      "text/plain": [
       "dict_keys(['name', 'age'])"
      ]
     },
     "execution_count": 29,
     "metadata": {},
     "output_type": "execute_result"
    }
   ],
   "source": [
    "my_dict.keys()"
   ]
  },
  {
   "cell_type": "code",
   "execution_count": 30,
   "id": "7ab576b3",
   "metadata": {},
   "outputs": [
    {
     "data": {
      "text/plain": [
       "dict_values(['John', 25])"
      ]
     },
     "execution_count": 30,
     "metadata": {},
     "output_type": "execute_result"
    }
   ],
   "source": [
    "my_dict.values()"
   ]
  },
  {
   "cell_type": "markdown",
   "id": "03cddd68",
   "metadata": {},
   "source": [
    "# 17. set(): Creates a set."
   ]
  },
  {
   "cell_type": "code",
   "execution_count": 31,
   "id": "1a34cad4",
   "metadata": {},
   "outputs": [
    {
     "data": {
      "text/plain": [
       "{1, 2, 3, 4}"
      ]
     },
     "execution_count": 31,
     "metadata": {},
     "output_type": "execute_result"
    }
   ],
   "source": [
    "my_set = set([1, 2, 3, 3, 4])\n",
    "my_set"
   ]
  },
  {
   "cell_type": "markdown",
   "id": "13bcd8b7",
   "metadata": {},
   "source": [
    "# 18. enumerate(): Returns tuples with the index and corresponding element."
   ]
  },
  {
   "cell_type": "code",
   "execution_count": 32,
   "id": "a3b1f7cf",
   "metadata": {},
   "outputs": [
    {
     "name": "stdout",
     "output_type": "stream",
     "text": [
      "0 a\n",
      "1 b\n",
      "2 c\n"
     ]
    }
   ],
   "source": [
    "my_list = [\"a\", \"b\", \"c\"]\n",
    "for index, value in enumerate(my_list):\n",
    "    print(index, value)\n"
   ]
  },
  {
   "cell_type": "markdown",
   "id": "c409ab97",
   "metadata": {},
   "source": [
    "# 19. zip(): Combines two or more iterables element-wise."
   ]
  },
  {
   "cell_type": "code",
   "execution_count": 33,
   "id": "d4eff230",
   "metadata": {},
   "outputs": [],
   "source": [
    "names = [\"Alice\", \"Bob\", \"Charlie\"]\n",
    "ages = [25, 30, 22]\n",
    "zipped_data = zip(names, ages)\n"
   ]
  },
  {
   "cell_type": "code",
   "execution_count": 34,
   "id": "31eb1747",
   "metadata": {},
   "outputs": [
    {
     "data": {
      "text/plain": [
       "<zip at 0x1f59465e100>"
      ]
     },
     "execution_count": 34,
     "metadata": {},
     "output_type": "execute_result"
    }
   ],
   "source": [
    "zipped_data"
   ]
  },
  {
   "cell_type": "code",
   "execution_count": 35,
   "id": "5e7b0dd8",
   "metadata": {},
   "outputs": [
    {
     "data": {
      "text/plain": [
       "zip"
      ]
     },
     "execution_count": 35,
     "metadata": {},
     "output_type": "execute_result"
    }
   ],
   "source": [
    "type(zipped_data)"
   ]
  },
  {
   "cell_type": "markdown",
   "id": "b785253f",
   "metadata": {},
   "source": [
    "# 21. reversed(): Returns a reverse iterator of a sequence."
   ]
  },
  {
   "cell_type": "code",
   "execution_count": 36,
   "id": "796c06d7",
   "metadata": {},
   "outputs": [
    {
     "data": {
      "text/plain": [
       "[3, 2, 1]"
      ]
     },
     "execution_count": 36,
     "metadata": {},
     "output_type": "execute_result"
    }
   ],
   "source": [
    "my_list = [1, 2, 3]\n",
    "reversed_list = list(reversed(my_list))\n",
    "reversed_list"
   ]
  },
  {
   "cell_type": "markdown",
   "id": "fd70da62",
   "metadata": {},
   "source": [
    "# 22. sum() (with start argument): Returns the sum of an iterable with an optional starting value."
   ]
  },
  {
   "cell_type": "code",
   "execution_count": 37,
   "id": "320c4108",
   "metadata": {},
   "outputs": [],
   "source": [
    "numbers = [1, 2, 3]\n",
    "total = sum(numbers, 100)  # sum starting from 10"
   ]
  },
  {
   "cell_type": "code",
   "execution_count": 38,
   "id": "eae3f340",
   "metadata": {},
   "outputs": [
    {
     "data": {
      "text/plain": [
       "106"
      ]
     },
     "execution_count": 38,
     "metadata": {},
     "output_type": "execute_result"
    }
   ],
   "source": [
    "total"
   ]
  },
  {
   "cell_type": "markdown",
   "id": "597f5977",
   "metadata": {},
   "source": [
    "# 23. abs() (for complex numbers): Returns the magnitude of a complex number."
   ]
  },
  {
   "cell_type": "markdown",
   "id": "6576c6b9",
   "metadata": {},
   "source": [
    "The magnitude of a complex number is the distance from the origin (0,0) to the point representing the complex number in the complex plane. For a complex number \\(a + bi\\), where \\(a\\) is the real part and \\(b\\) is the imaginary part, the magnitude (or modulus) is given by the formula:\n",
    "\n",
    "\\[ |a + bi| = \\sqrt{a^2 + b^2} \\]\n",
    "\n",
    "In other words, it's the square root of the sum of the squares of the real and imaginary parts. This magnitude represents the length of the vector in the complex plane."
   ]
  },
  {
   "cell_type": "code",
   "execution_count": 39,
   "id": "edb5e018",
   "metadata": {},
   "outputs": [],
   "source": [
    "complex_num = 3 + 4j\n",
    "magnitude = abs(complex_num)"
   ]
  },
  {
   "cell_type": "code",
   "execution_count": 40,
   "id": "a45aed3f",
   "metadata": {},
   "outputs": [
    {
     "data": {
      "text/plain": [
       "5.0"
      ]
     },
     "execution_count": 40,
     "metadata": {},
     "output_type": "execute_result"
    }
   ],
   "source": [
    "magnitude"
   ]
  },
  {
   "cell_type": "markdown",
   "id": "9bf0ba4b",
   "metadata": {},
   "source": [
    "# 24. slice(): Creates a slice object that can be used to slice sequences like lists and strings.\n"
   ]
  },
  {
   "cell_type": "code",
   "execution_count": 41,
   "id": "25ed7894",
   "metadata": {},
   "outputs": [
    {
     "data": {
      "text/plain": [
       "[2, 3, 4]"
      ]
     },
     "execution_count": 41,
     "metadata": {},
     "output_type": "execute_result"
    }
   ],
   "source": [
    "my_list = [1, 2, 3, 4, 5]\n",
    "my_slice = slice(1, 4)\n",
    "sliced_list = my_list[my_slice]\n",
    "sliced_list"
   ]
  },
  {
   "cell_type": "markdown",
   "id": "56888e37",
   "metadata": {},
   "source": [
    "# 25. chr(), ord() (extended usage): Handling Unicode characters and code points."
   ]
  },
  {
   "cell_type": "code",
   "execution_count": 42,
   "id": "5c889c65",
   "metadata": {},
   "outputs": [],
   "source": [
    "euro_symbol = chr(8364)  # returns '€'\n",
    "code_point = ord('€')  # returns 8364"
   ]
  },
  {
   "cell_type": "code",
   "execution_count": 43,
   "id": "15b0a2e2",
   "metadata": {},
   "outputs": [
    {
     "data": {
      "text/plain": [
       "'€'"
      ]
     },
     "execution_count": 43,
     "metadata": {},
     "output_type": "execute_result"
    }
   ],
   "source": [
    "euro_symbol"
   ]
  },
  {
   "cell_type": "code",
   "execution_count": 44,
   "id": "7506584c",
   "metadata": {},
   "outputs": [
    {
     "data": {
      "text/plain": [
       "8364"
      ]
     },
     "execution_count": 44,
     "metadata": {},
     "output_type": "execute_result"
    }
   ],
   "source": [
    "code_point"
   ]
  },
  {
   "cell_type": "code",
   "execution_count": 45,
   "id": "efa2a603",
   "metadata": {},
   "outputs": [
    {
     "name": "stdout",
     "output_type": "stream",
     "text": [
      "A\n"
     ]
    }
   ],
   "source": [
    "char = chr(65)\n",
    "print(char)  # Output: 'A'"
   ]
  },
  {
   "cell_type": "code",
   "execution_count": 46,
   "id": "5e27ccfe",
   "metadata": {},
   "outputs": [
    {
     "name": "stdout",
     "output_type": "stream",
     "text": [
      "65\n"
     ]
    }
   ],
   "source": [
    "code_point = ord('A')\n",
    "print(code_point)  # Output: 65"
   ]
  },
  {
   "cell_type": "markdown",
   "id": "cbb23783",
   "metadata": {},
   "source": [
    "Join: https://www.facebook.com/groups/StudyMart\n",
    "\n",
    "Visit: https://aiquest.org\n",
    "\n",
    "Learn Python: https://aiquest.org/courses/python-for-everybody/"
   ]
  }
 ],
 "metadata": {
  "kernelspec": {
   "display_name": "Python 3 (ipykernel)",
   "language": "python",
   "name": "python3"
  },
  "language_info": {
   "codemirror_mode": {
    "name": "ipython",
    "version": 3
   },
   "file_extension": ".py",
   "mimetype": "text/x-python",
   "name": "python",
   "nbconvert_exporter": "python",
   "pygments_lexer": "ipython3",
   "version": "3.9.13"
  }
 },
 "nbformat": 4,
 "nbformat_minor": 5
}
