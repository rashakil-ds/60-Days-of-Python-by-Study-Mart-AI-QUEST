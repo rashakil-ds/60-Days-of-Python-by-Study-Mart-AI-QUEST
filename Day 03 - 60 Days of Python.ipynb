{
 "cells": [
  {
   "cell_type": "markdown",
   "id": "3f57fa73",
   "metadata": {},
   "source": [
    "# input function"
   ]
  },
  {
   "cell_type": "code",
   "execution_count": 1,
   "id": "68c4f1cf",
   "metadata": {},
   "outputs": [],
   "source": [
    "data = 'data science fun'"
   ]
  },
  {
   "cell_type": "code",
   "execution_count": 2,
   "id": "82d009a2",
   "metadata": {},
   "outputs": [
    {
     "data": {
      "text/plain": [
       "str"
      ]
     },
     "execution_count": 2,
     "metadata": {},
     "output_type": "execute_result"
    }
   ],
   "source": [
    "type(data)"
   ]
  },
  {
   "cell_type": "code",
   "execution_count": 3,
   "id": "be47b3c6",
   "metadata": {},
   "outputs": [
    {
     "name": "stdout",
     "output_type": "stream",
     "text": [
      "data science fun!\n"
     ]
    }
   ],
   "source": [
    "data = input()"
   ]
  },
  {
   "cell_type": "code",
   "execution_count": 4,
   "id": "c7a8345c",
   "metadata": {},
   "outputs": [
    {
     "data": {
      "text/plain": [
       "'data science fun!'"
      ]
     },
     "execution_count": 4,
     "metadata": {},
     "output_type": "execute_result"
    }
   ],
   "source": [
    "data"
   ]
  },
  {
   "cell_type": "code",
   "execution_count": 5,
   "id": "88e9c7af",
   "metadata": {},
   "outputs": [
    {
     "data": {
      "text/plain": [
       "str"
      ]
     },
     "execution_count": 5,
     "metadata": {},
     "output_type": "execute_result"
    }
   ],
   "source": [
    "type(data)"
   ]
  },
  {
   "cell_type": "code",
   "execution_count": 7,
   "id": "2edf98cd",
   "metadata": {},
   "outputs": [
    {
     "name": "stdout",
     "output_type": "stream",
     "text": [
      "10\n",
      "20\n"
     ]
    }
   ],
   "source": [
    "x = input()\n",
    "y = input()"
   ]
  },
  {
   "cell_type": "code",
   "execution_count": 8,
   "id": "3e993a2a",
   "metadata": {},
   "outputs": [
    {
     "data": {
      "text/plain": [
       "'1020'"
      ]
     },
     "execution_count": 8,
     "metadata": {},
     "output_type": "execute_result"
    }
   ],
   "source": [
    "x+y"
   ]
  },
  {
   "cell_type": "code",
   "execution_count": 9,
   "id": "c6029a73",
   "metadata": {},
   "outputs": [
    {
     "data": {
      "text/plain": [
       "str"
      ]
     },
     "execution_count": 9,
     "metadata": {},
     "output_type": "execute_result"
    }
   ],
   "source": [
    "type(x)"
   ]
  },
  {
   "cell_type": "code",
   "execution_count": 10,
   "id": "766bd60e",
   "metadata": {},
   "outputs": [
    {
     "data": {
      "text/plain": [
       "str"
      ]
     },
     "execution_count": 10,
     "metadata": {},
     "output_type": "execute_result"
    }
   ],
   "source": [
    "type(y)"
   ]
  },
  {
   "cell_type": "code",
   "execution_count": 11,
   "id": "f3c65394",
   "metadata": {},
   "outputs": [],
   "source": [
    "x = int(x)\n",
    "y = int(y)"
   ]
  },
  {
   "cell_type": "code",
   "execution_count": 12,
   "id": "f0883acb",
   "metadata": {},
   "outputs": [
    {
     "data": {
      "text/plain": [
       "30"
      ]
     },
     "execution_count": 12,
     "metadata": {},
     "output_type": "execute_result"
    }
   ],
   "source": [
    "x+y"
   ]
  },
  {
   "cell_type": "code",
   "execution_count": 13,
   "id": "0b386728",
   "metadata": {},
   "outputs": [
    {
     "data": {
      "text/plain": [
       "int"
      ]
     },
     "execution_count": 13,
     "metadata": {},
     "output_type": "execute_result"
    }
   ],
   "source": [
    "type(x)"
   ]
  },
  {
   "cell_type": "code",
   "execution_count": 14,
   "id": "8a9a8cc9",
   "metadata": {},
   "outputs": [
    {
     "name": "stdout",
     "output_type": "stream",
     "text": [
      "Enter your 1st num: 200\n"
     ]
    }
   ],
   "source": [
    "x  = int(input('Enter your 1st num: '))"
   ]
  },
  {
   "cell_type": "code",
   "execution_count": 15,
   "id": "d638dba2",
   "metadata": {},
   "outputs": [
    {
     "data": {
      "text/plain": [
       "200"
      ]
     },
     "execution_count": 15,
     "metadata": {},
     "output_type": "execute_result"
    }
   ],
   "source": [
    "x"
   ]
  },
  {
   "cell_type": "code",
   "execution_count": 16,
   "id": "0e20f84f",
   "metadata": {},
   "outputs": [
    {
     "name": "stdout",
     "output_type": "stream",
     "text": [
      "Enter your 2nd num: 10.5\n"
     ]
    },
    {
     "ename": "ValueError",
     "evalue": "invalid literal for int() with base 10: '10.5'",
     "output_type": "error",
     "traceback": [
      "\u001b[1;31m---------------------------------------------------------------------------\u001b[0m",
      "\u001b[1;31mValueError\u001b[0m                                Traceback (most recent call last)",
      "\u001b[1;32m<ipython-input-16-3e46230e187c>\u001b[0m in \u001b[0;36m<module>\u001b[1;34m\u001b[0m\n\u001b[1;32m----> 1\u001b[1;33m \u001b[0my\u001b[0m  \u001b[1;33m=\u001b[0m \u001b[0mint\u001b[0m\u001b[1;33m(\u001b[0m\u001b[0minput\u001b[0m\u001b[1;33m(\u001b[0m\u001b[1;34m'Enter your 2nd num: '\u001b[0m\u001b[1;33m)\u001b[0m\u001b[1;33m)\u001b[0m\u001b[1;33m\u001b[0m\u001b[1;33m\u001b[0m\u001b[0m\n\u001b[0m",
      "\u001b[1;31mValueError\u001b[0m: invalid literal for int() with base 10: '10.5'"
     ]
    }
   ],
   "source": [
    "y  = int(input('Enter your 2nd num: '))"
   ]
  },
  {
   "cell_type": "code",
   "execution_count": 18,
   "id": "1901751c",
   "metadata": {},
   "outputs": [
    {
     "name": "stdout",
     "output_type": "stream",
     "text": [
      "Enter your 2nd num: 10.5\n"
     ]
    }
   ],
   "source": [
    "y  = float(input('Enter your 2nd num: '))"
   ]
  },
  {
   "cell_type": "code",
   "execution_count": 19,
   "id": "f301d6b1",
   "metadata": {},
   "outputs": [
    {
     "data": {
      "text/plain": [
       "210.5"
      ]
     },
     "execution_count": 19,
     "metadata": {},
     "output_type": "execute_result"
    }
   ],
   "source": [
    "x+y"
   ]
  },
  {
   "cell_type": "code",
   "execution_count": 20,
   "id": "df822062",
   "metadata": {},
   "outputs": [],
   "source": [
    "data = '60 Days of python'"
   ]
  },
  {
   "cell_type": "code",
   "execution_count": 21,
   "id": "7e150965",
   "metadata": {},
   "outputs": [
    {
     "data": {
      "text/plain": [
       "str"
      ]
     },
     "execution_count": 21,
     "metadata": {},
     "output_type": "execute_result"
    }
   ],
   "source": [
    "type(data)"
   ]
  },
  {
   "cell_type": "code",
   "execution_count": 22,
   "id": "0a21eef5",
   "metadata": {},
   "outputs": [
    {
     "data": {
      "text/plain": [
       "17"
      ]
     },
     "execution_count": 22,
     "metadata": {},
     "output_type": "execute_result"
    }
   ],
   "source": [
    "len(data)"
   ]
  },
  {
   "cell_type": "code",
   "execution_count": 23,
   "id": "507dda5b",
   "metadata": {},
   "outputs": [
    {
     "data": {
      "text/plain": [
       "66"
      ]
     },
     "execution_count": 23,
     "metadata": {},
     "output_type": "execute_result"
    }
   ],
   "source": [
    "import sys\n",
    "sys.getsizeof(data)"
   ]
  },
  {
   "cell_type": "code",
   "execution_count": 24,
   "id": "2bbefd01",
   "metadata": {},
   "outputs": [
    {
     "data": {
      "text/plain": [
       "1"
      ]
     },
     "execution_count": 24,
     "metadata": {},
     "output_type": "execute_result"
    }
   ],
   "source": [
    "data.count('python')"
   ]
  },
  {
   "cell_type": "code",
   "execution_count": 25,
   "id": "7713d0cb",
   "metadata": {},
   "outputs": [],
   "source": [
    "sub = 'Days of'"
   ]
  },
  {
   "cell_type": "code",
   "execution_count": 26,
   "id": "3f574132",
   "metadata": {},
   "outputs": [
    {
     "data": {
      "text/plain": [
       "1"
      ]
     },
     "execution_count": 26,
     "metadata": {},
     "output_type": "execute_result"
    }
   ],
   "source": [
    "data.count(sub)"
   ]
  },
  {
   "cell_type": "markdown",
   "id": "b113ba1b",
   "metadata": {},
   "source": [
    "# Python String Methods"
   ]
  },
  {
   "cell_type": "code",
   "execution_count": 27,
   "id": "66fd61a4",
   "metadata": {},
   "outputs": [
    {
     "data": {
      "text/plain": [
       "8"
      ]
     },
     "execution_count": 27,
     "metadata": {},
     "output_type": "execute_result"
    }
   ],
   "source": [
    "data = '60 Days of python'\n",
    "data.find('of')"
   ]
  },
  {
   "cell_type": "code",
   "execution_count": 29,
   "id": "f02df2b7",
   "metadata": {},
   "outputs": [
    {
     "data": {
      "text/plain": [
       "9"
      ]
     },
     "execution_count": 29,
     "metadata": {},
     "output_type": "execute_result"
    }
   ],
   "source": [
    "data.find('f') #find value from string"
   ]
  },
  {
   "cell_type": "code",
   "execution_count": 31,
   "id": "4909eb41",
   "metadata": {},
   "outputs": [
    {
     "data": {
      "text/plain": [
       "-1"
      ]
     },
     "execution_count": 31,
     "metadata": {},
     "output_type": "execute_result"
    }
   ],
   "source": [
    "data.find('y',6,10) #not exist"
   ]
  },
  {
   "cell_type": "code",
   "execution_count": 32,
   "id": "bd817588",
   "metadata": {},
   "outputs": [
    {
     "data": {
      "text/plain": [
       "12"
      ]
     },
     "execution_count": 32,
     "metadata": {},
     "output_type": "execute_result"
    }
   ],
   "source": [
    "data.find('y',6,14)"
   ]
  },
  {
   "cell_type": "code",
   "execution_count": 33,
   "id": "cdc974c9",
   "metadata": {},
   "outputs": [
    {
     "data": {
      "text/plain": [
       "5"
      ]
     },
     "execution_count": 33,
     "metadata": {},
     "output_type": "execute_result"
    }
   ],
   "source": [
    "data.index('y')"
   ]
  },
  {
   "cell_type": "code",
   "execution_count": 34,
   "id": "aa637b1a",
   "metadata": {},
   "outputs": [
    {
     "data": {
      "text/plain": [
       "12"
      ]
     },
     "execution_count": 34,
     "metadata": {},
     "output_type": "execute_result"
    }
   ],
   "source": [
    "data.index('y',6,13)"
   ]
  },
  {
   "cell_type": "code",
   "execution_count": 35,
   "id": "4ea8299d",
   "metadata": {},
   "outputs": [
    {
     "ename": "ValueError",
     "evalue": "substring not found",
     "output_type": "error",
     "traceback": [
      "\u001b[1;31m---------------------------------------------------------------------------\u001b[0m",
      "\u001b[1;31mValueError\u001b[0m                                Traceback (most recent call last)",
      "\u001b[1;32m<ipython-input-35-dc2f3200ece3>\u001b[0m in \u001b[0;36m<module>\u001b[1;34m\u001b[0m\n\u001b[1;32m----> 1\u001b[1;33m \u001b[0mdata\u001b[0m\u001b[1;33m.\u001b[0m\u001b[0mindex\u001b[0m\u001b[1;33m(\u001b[0m\u001b[1;34m'ai'\u001b[0m\u001b[1;33m)\u001b[0m\u001b[1;33m\u001b[0m\u001b[1;33m\u001b[0m\u001b[0m\n\u001b[0m",
      "\u001b[1;31mValueError\u001b[0m: substring not found"
     ]
    }
   ],
   "source": [
    "data.index('ai')"
   ]
  },
  {
   "cell_type": "code",
   "execution_count": 36,
   "id": "0667ff78",
   "metadata": {},
   "outputs": [
    {
     "data": {
      "text/plain": [
       "'60 days of python'"
      ]
     },
     "execution_count": 36,
     "metadata": {},
     "output_type": "execute_result"
    }
   ],
   "source": [
    "data.lower() #convert all char into lower case"
   ]
  },
  {
   "cell_type": "code",
   "execution_count": 37,
   "id": "503a27e0",
   "metadata": {},
   "outputs": [
    {
     "data": {
      "text/plain": [
       "'60 DAYS OF PYTHON'"
      ]
     },
     "execution_count": 37,
     "metadata": {},
     "output_type": "execute_result"
    }
   ],
   "source": [
    "data.upper() #convert all char into upper case"
   ]
  },
  {
   "cell_type": "code",
   "execution_count": 38,
   "id": "7e3e40c6",
   "metadata": {},
   "outputs": [
    {
     "data": {
      "text/plain": [
       "'60 days of python'"
      ]
     },
     "execution_count": 38,
     "metadata": {},
     "output_type": "execute_result"
    }
   ],
   "source": [
    "data.casefold() #lower"
   ]
  },
  {
   "cell_type": "code",
   "execution_count": 40,
   "id": "df714b1e",
   "metadata": {},
   "outputs": [],
   "source": [
    "x = 'data SCIENCE is Fun'"
   ]
  },
  {
   "cell_type": "code",
   "execution_count": 41,
   "id": "047895f8",
   "metadata": {},
   "outputs": [
    {
     "data": {
      "text/plain": [
       "'Data science is fun'"
      ]
     },
     "execution_count": 41,
     "metadata": {},
     "output_type": "execute_result"
    }
   ],
   "source": [
    "x.capitalize() #conver only first char into upper case"
   ]
  },
  {
   "cell_type": "code",
   "execution_count": 42,
   "id": "b8a0f9b0",
   "metadata": {},
   "outputs": [
    {
     "data": {
      "text/plain": [
       "'DATA science IS fUN'"
      ]
     },
     "execution_count": 42,
     "metadata": {},
     "output_type": "execute_result"
    }
   ],
   "source": [
    "x.swapcase()"
   ]
  },
  {
   "cell_type": "code",
   "execution_count": 43,
   "id": "903b9c0a",
   "metadata": {},
   "outputs": [
    {
     "data": {
      "text/plain": [
       "'Data Science Is Fun'"
      ]
     },
     "execution_count": 43,
     "metadata": {},
     "output_type": "execute_result"
    }
   ],
   "source": [
    "x.title()"
   ]
  },
  {
   "cell_type": "code",
   "execution_count": 44,
   "id": "bbac026d",
   "metadata": {},
   "outputs": [
    {
     "data": {
      "text/plain": [
       "False"
      ]
     },
     "execution_count": 44,
     "metadata": {},
     "output_type": "execute_result"
    }
   ],
   "source": [
    "x.islower()"
   ]
  },
  {
   "cell_type": "code",
   "execution_count": 45,
   "id": "ebb74ecf",
   "metadata": {},
   "outputs": [
    {
     "data": {
      "text/plain": [
       "'DATA SCIENCE IS FUN'"
      ]
     },
     "execution_count": 45,
     "metadata": {},
     "output_type": "execute_result"
    }
   ],
   "source": [
    "x.upper()"
   ]
  },
  {
   "cell_type": "code",
   "execution_count": 46,
   "id": "c80951a1",
   "metadata": {},
   "outputs": [
    {
     "data": {
      "text/plain": [
       "False"
      ]
     },
     "execution_count": 46,
     "metadata": {},
     "output_type": "execute_result"
    }
   ],
   "source": [
    "x.isupper()"
   ]
  },
  {
   "cell_type": "code",
   "execution_count": 47,
   "id": "7b4ab93d",
   "metadata": {},
   "outputs": [
    {
     "data": {
      "text/plain": [
       "False"
      ]
     },
     "execution_count": 47,
     "metadata": {},
     "output_type": "execute_result"
    }
   ],
   "source": [
    "x.isdigit()"
   ]
  },
  {
   "cell_type": "code",
   "execution_count": 48,
   "id": "a3965c9d",
   "metadata": {},
   "outputs": [
    {
     "data": {
      "text/plain": [
       "b'data SCIENCE is Fun'"
      ]
     },
     "execution_count": 48,
     "metadata": {},
     "output_type": "execute_result"
    }
   ],
   "source": [
    "x.encode()"
   ]
  },
  {
   "cell_type": "code",
   "execution_count": 50,
   "id": "0962597e",
   "metadata": {},
   "outputs": [
    {
     "data": {
      "text/plain": [
       "bytes"
      ]
     },
     "execution_count": 50,
     "metadata": {},
     "output_type": "execute_result"
    }
   ],
   "source": [
    "type(x.encode())"
   ]
  },
  {
   "cell_type": "code",
   "execution_count": 51,
   "id": "356e57aa",
   "metadata": {},
   "outputs": [
    {
     "data": {
      "text/plain": [
       "'data SCIENCE is Fun'"
      ]
     },
     "execution_count": 51,
     "metadata": {},
     "output_type": "execute_result"
    }
   ],
   "source": [
    "x"
   ]
  },
  {
   "cell_type": "code",
   "execution_count": 52,
   "id": "96ecd837",
   "metadata": {},
   "outputs": [
    {
     "data": {
      "text/plain": [
       "['data', 'SCIENCE', 'is', 'Fun']"
      ]
     },
     "execution_count": 52,
     "metadata": {},
     "output_type": "execute_result"
    }
   ],
   "source": [
    "x.split()"
   ]
  },
  {
   "cell_type": "code",
   "execution_count": 53,
   "id": "0cecf92b",
   "metadata": {},
   "outputs": [
    {
     "data": {
      "text/plain": [
       "'data'"
      ]
     },
     "execution_count": 53,
     "metadata": {},
     "output_type": "execute_result"
    }
   ],
   "source": [
    "x.split()[0]"
   ]
  },
  {
   "cell_type": "code",
   "execution_count": 54,
   "id": "90f5b5f2",
   "metadata": {},
   "outputs": [
    {
     "data": {
      "text/plain": [
       "'SCIENCE'"
      ]
     },
     "execution_count": 54,
     "metadata": {},
     "output_type": "execute_result"
    }
   ],
   "source": [
    "x.split()[1]"
   ]
  },
  {
   "cell_type": "code",
   "execution_count": 57,
   "id": "f03ac1af",
   "metadata": {},
   "outputs": [
    {
     "data": {
      "text/plain": [
       "'                                        data SCIENCE is Fun                                         '"
      ]
     },
     "execution_count": 57,
     "metadata": {},
     "output_type": "execute_result"
    }
   ],
   "source": [
    "x.center(100)"
   ]
  },
  {
   "cell_type": "code",
   "execution_count": 58,
   "id": "aa7790d9",
   "metadata": {},
   "outputs": [
    {
     "data": {
      "text/plain": [
       "'AI SCIENCE is Fun'"
      ]
     },
     "execution_count": 58,
     "metadata": {},
     "output_type": "execute_result"
    }
   ],
   "source": [
    "x.replace('data','AI')"
   ]
  },
  {
   "cell_type": "code",
   "execution_count": 61,
   "id": "3063a8da",
   "metadata": {},
   "outputs": [
    {
     "name": "stdout",
     "output_type": "stream",
     "text": [
      "I have  1000 taka\n"
     ]
    }
   ],
   "source": [
    "x = 10\n",
    "y = 100\n",
    "z = x*y\n",
    "\n",
    "print('I have ',z,'taka')"
   ]
  },
  {
   "cell_type": "code",
   "execution_count": 62,
   "id": "34e36294",
   "metadata": {},
   "outputs": [
    {
     "name": "stdout",
     "output_type": "stream",
     "text": [
      "I have 1000 taka\n"
     ]
    }
   ],
   "source": [
    "print('I have {} taka'.format(z))"
   ]
  },
  {
   "cell_type": "markdown",
   "id": "0c0ab297",
   "metadata": {},
   "source": [
    "# Important Links"
   ]
  },
  {
   "cell_type": "markdown",
   "id": "870580e7",
   "metadata": {},
   "source": [
    "Learn Data Science: https://aiquest.org/ <br>\n",
    "Python for Everybody: https://aiquest.org/courses/python-for-everybody/ <br>\n",
    "Join Facebook Group: https://www.facebook.com/groups/StudyMart <br>\n",
    "Cell/WhatsApp: +8801704265972"
   ]
  }
 ],
 "metadata": {
  "kernelspec": {
   "display_name": "Python 3 (ipykernel)",
   "language": "python",
   "name": "python3"
  },
  "language_info": {
   "codemirror_mode": {
    "name": "ipython",
    "version": 3
   },
   "file_extension": ".py",
   "mimetype": "text/x-python",
   "name": "python",
   "nbconvert_exporter": "python",
   "pygments_lexer": "ipython3",
   "version": "3.9.13"
  }
 },
 "nbformat": 4,
 "nbformat_minor": 5
}
