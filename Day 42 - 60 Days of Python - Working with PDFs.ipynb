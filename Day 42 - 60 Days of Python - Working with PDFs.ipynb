{
 "cells": [
  {
   "cell_type": "markdown",
   "id": "65dcb67e",
   "metadata": {},
   "source": [
    "# PDF Reader"
   ]
  },
  {
   "cell_type": "code",
   "execution_count": 1,
   "id": "92302fc0",
   "metadata": {},
   "outputs": [],
   "source": [
    "# !pip install pypdf"
   ]
  },
  {
   "cell_type": "code",
   "execution_count": 2,
   "id": "a4aa7b0e",
   "metadata": {},
   "outputs": [],
   "source": [
    "from pypdf import PdfReader\n",
    "pdf = PdfReader('PyPrb.pdf')"
   ]
  },
  {
   "cell_type": "code",
   "execution_count": 3,
   "id": "f60a3ca3",
   "metadata": {},
   "outputs": [
    {
     "data": {
      "text/plain": [
       "2"
      ]
     },
     "execution_count": 3,
     "metadata": {},
     "output_type": "execute_result"
    }
   ],
   "source": [
    "len(pdf.pages)"
   ]
  },
  {
   "cell_type": "code",
   "execution_count": 4,
   "id": "67b279a3",
   "metadata": {},
   "outputs": [
    {
     "data": {
      "text/plain": [
       "' \\nLearn data science: www.aiquest.org  \\n \\nPython Conditions:  \\n1. Take  values  of the length  & breadth  of a rectangle  from  user  input  and check  if it is square  or not. \\n2. Take  three  integer  values  from  the user  and print  the greatest  among  them.  \\n3. A student  will not be allowed  to sit in an exam  if his/her  attendance  is less than  75%.  \\n4. A school  has the following  rules  for the grading  system:  \\nBelow  25 – F, 25 to 44 – E, 45 to 49 – D, 50 to 59 – C, 60 to 79 – B, 80 to 89 - A, Above  90 - A+ \\nNow,  Ask the user  to enter  marks  and print  the corresponding  grade.  \\n \\nLoop Problem:  \\n5. Print the following pattern  using for and while  loop . \\n1 2 3 4 5 6 7  \\n1 2 3 4 5 6  \\n1 2 3 4 5  \\n1 2 3 4  \\n6. Display  numbers  from  -100 to -10 using  for loop . \\n7. Write  a program  to sum  all prime  numbers  within  a range  of 10 to 1000.  \\n8. Find  the factorial  of an n! (Hint , n=7:  7*6*5*4*3*2*1) . \\n9. Reverse  a given  integer  number  27956240710.  \\n10. Print the following pattern  using for and while loop . \\n#  #  # \\n#  #  #  # \\n#  #  #   \\n#  # \\n11. Display the Fibonacci series of 15 element s using the for and while loop.  \\n'"
      ]
     },
     "execution_count": 4,
     "metadata": {},
     "output_type": "execute_result"
    }
   ],
   "source": [
    "page = pdf.pages[0]\n",
    "page.extract_text()"
   ]
  },
  {
   "cell_type": "code",
   "execution_count": 5,
   "id": "b50d954e",
   "metadata": {},
   "outputs": [],
   "source": [
    "import PyPDF2"
   ]
  },
  {
   "cell_type": "code",
   "execution_count": 6,
   "id": "0d375ea6",
   "metadata": {},
   "outputs": [
    {
     "name": "stdout",
     "output_type": "stream",
     "text": [
      " \n",
      "Learn data science: www.aiquest.org  \n",
      " \n",
      "Python Conditions:  \n",
      "1. Take  values  of the length  & breadth  of a rectangle  from  user  input  and check  if it is square  or not. \n",
      "2. Take  three  integer  values  from  the user  and print  the greatest  among  them.  \n",
      "3. A student  will not be allowed  to sit in an exam  if his/her  attendance  is less than  75%.  \n",
      "4. A school  has the following  rules  for the grading  system:  \n",
      "Below  25 – F, 25 to 44 – E, 45 to 49 – D, 50 to 59 – C, 60 to 79 – B, 80 to 89 - A, Above  90 - A+ \n",
      "Now,  Ask the user  to enter  marks  and print  the corresponding  grade.  \n",
      " \n",
      "Loop Problem:  \n",
      "5. Print the following pattern  using for and while  loop . \n",
      "1 2 3 4 5 6 7  \n",
      "1 2 3 4 5 6  \n",
      "1 2 3 4 5  \n",
      "1 2 3 4  \n",
      "6. Display  numbers  from  -100 to -10 using  for loop . \n",
      "7. Write  a program  to sum  all prime  numbers  within  a range  of 10 to 1000.  \n",
      "8. Find  the factorial  of an n! (Hint , n=7:  7*6*5*4*3*2*1) . \n",
      "9. Reverse  a given  integer  number  27956240710.  \n",
      "10. Print the following pattern  using for and while loop . \n",
      "#  #  # \n",
      "#  #  #  # \n",
      "#  #  #   \n",
      "#  # \n",
      "11. Display the Fibonacci series of 15 element s using the for and while loop.  \n",
      "\n",
      "\n",
      "\n",
      "Python  inbuilt  Data Structure : \n",
      "12. Remove  2 and add  3 to the list and replace True with  False.  \n",
      "Li = [1, 3,5, [2,3],  True]  \n",
      "Output = [1,3,5, [3,3], False ] \n",
      "13. Find the intersection (common) of two sets.  \n",
      "S1 = {1,4,6,8}  \n",
      "S2 = {True, 1,2,10 } \n",
      "14. Input a list from the user  then Remove duplicates from a list and create a set and find the max \n",
      "number . User_input  = [1,9,3,4,5,200,54]  \n",
      "15. Rename the key of a dictionary . \n",
      "Dict = { \"name\": \" Shakil \", \"age\":2 7, \"city\": “Berlin”, \"country \": \"Germany \" } \n",
      "Write a program to rename a key ‘country’ to a ‘region’ in the following dictionary.  \n",
      "16. Creating a data frame  using the list. \n",
      "num  = [10,100,300]  (column  name is number ) \n",
      "17. Change the value of a key in a given  dictionary.  \n",
      "Write a Python program to change ‘age’ to 28 in the following dictionary.  \n",
      "Dict = { \"name\": \" Shakil \", \"age\":2 7, \"city\": “Berlin”, \"country \": \"Germany \" } \n",
      " \n",
      "\n",
      "\n"
     ]
    }
   ],
   "source": [
    "path = 'PyPrb.pdf'\n",
    "with open(path, \"rb\") as file:\n",
    "    reader = PyPDF2.PdfReader(file)\n",
    "    \n",
    "    #first_page = reader.pages[1].extract_text()\n",
    "    #print(first_page)\n",
    "    \n",
    "    for page in reader.pages:\n",
    "        text = page.extract_text()\n",
    "        print(text)\n",
    "        print('\\n')\n"
   ]
  },
  {
   "cell_type": "code",
   "execution_count": null,
   "id": "b06ce165",
   "metadata": {},
   "outputs": [],
   "source": []
  }
 ],
 "metadata": {
  "kernelspec": {
   "display_name": "Python 3 (ipykernel)",
   "language": "python",
   "name": "python3"
  },
  "language_info": {
   "codemirror_mode": {
    "name": "ipython",
    "version": 3
   },
   "file_extension": ".py",
   "mimetype": "text/x-python",
   "name": "python",
   "nbconvert_exporter": "python",
   "pygments_lexer": "ipython3",
   "version": "3.9.13"
  }
 },
 "nbformat": 4,
 "nbformat_minor": 5
}
