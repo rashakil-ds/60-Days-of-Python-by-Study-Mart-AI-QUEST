{
 "cells": [
  {
   "cell_type": "markdown",
   "id": "458feeeb",
   "metadata": {},
   "source": [
    "Learn Data Science: https://aiquest.org/ <br>\n",
    "Python for Everybody: https://aiquest.org/courses/python-for-everybody/ <br>\n",
    "Join Facebook Group: https://www.facebook.com/groups/StudyMart <br>\n",
    "Cell/WhatsApp: +8801704265972"
   ]
  },
  {
   "cell_type": "markdown",
   "id": "59cc7f91",
   "metadata": {},
   "source": [
    "# More about return"
   ]
  },
  {
   "cell_type": "code",
   "execution_count": 1,
   "id": "e8803bec",
   "metadata": {},
   "outputs": [],
   "source": [
    "def user_input():\n",
    "    x1 = int(input())\n",
    "    x2 = int(input())\n",
    "    y1 = int(input())\n",
    "    y2 = int(input())\n",
    "    \n",
    "    return x1, x2"
   ]
  },
  {
   "cell_type": "code",
   "execution_count": 2,
   "id": "9833fdaa",
   "metadata": {},
   "outputs": [
    {
     "name": "stdout",
     "output_type": "stream",
     "text": [
      "1\n",
      "2\n",
      "3\n",
      "4\n"
     ]
    },
    {
     "data": {
      "text/plain": [
       "(1, 2)"
      ]
     },
     "execution_count": 2,
     "metadata": {},
     "output_type": "execute_result"
    }
   ],
   "source": [
    "user_input()"
   ]
  },
  {
   "cell_type": "code",
   "execution_count": 3,
   "id": "d5773e5b",
   "metadata": {},
   "outputs": [],
   "source": [
    "def user_input():\n",
    "    x1 = int(input())\n",
    "    x2 = int(input())\n",
    "    y1 = int(input())\n",
    "    y2 = int(input())\n",
    "    \n",
    "    return x1, y1, x2, y2"
   ]
  },
  {
   "cell_type": "code",
   "execution_count": 4,
   "id": "1dfe1d3d",
   "metadata": {},
   "outputs": [
    {
     "name": "stdout",
     "output_type": "stream",
     "text": [
      "1\n",
      "3\n",
      "2\n",
      "4\n"
     ]
    },
    {
     "data": {
      "text/plain": [
       "(1, 2, 3, 4)"
      ]
     },
     "execution_count": 4,
     "metadata": {},
     "output_type": "execute_result"
    }
   ],
   "source": [
    "user_input()"
   ]
  },
  {
   "cell_type": "code",
   "execution_count": 5,
   "id": "ad7993d4",
   "metadata": {},
   "outputs": [],
   "source": [
    "def user_input():\n",
    "    x1 = int(input())\n",
    "    x2 = int(input())\n",
    "    y1 = int(input())\n",
    "    y2 = int(input())\n",
    "    \n",
    "    return (x1, y1), (x2, y2)"
   ]
  },
  {
   "cell_type": "code",
   "execution_count": 6,
   "id": "8f2b1136",
   "metadata": {},
   "outputs": [
    {
     "name": "stdout",
     "output_type": "stream",
     "text": [
      "1\n",
      "2\n",
      "3\n",
      "4\n"
     ]
    },
    {
     "data": {
      "text/plain": [
       "((1, 3), (2, 4))"
      ]
     },
     "execution_count": 6,
     "metadata": {},
     "output_type": "execute_result"
    }
   ],
   "source": [
    "user_input()\n"
   ]
  },
  {
   "cell_type": "code",
   "execution_count": 7,
   "id": "d3541083",
   "metadata": {},
   "outputs": [],
   "source": [
    "def user_input():\n",
    "    x1 = int(input())\n",
    "    x2 = int(input())\n",
    "    y1 = int(input())\n",
    "    y2 = int(input())\n",
    "    \n",
    "    return (x1, y1), (x2, y2)"
   ]
  },
  {
   "cell_type": "code",
   "execution_count": 8,
   "id": "b077854c",
   "metadata": {},
   "outputs": [
    {
     "name": "stdout",
     "output_type": "stream",
     "text": [
      "1\n",
      "2\n",
      "3\n",
      "4\n"
     ]
    }
   ],
   "source": [
    "r1, r2 = user_input()"
   ]
  },
  {
   "cell_type": "code",
   "execution_count": 9,
   "id": "a4471214",
   "metadata": {},
   "outputs": [
    {
     "data": {
      "text/plain": [
       "(1, 3)"
      ]
     },
     "execution_count": 9,
     "metadata": {},
     "output_type": "execute_result"
    }
   ],
   "source": [
    "r1"
   ]
  },
  {
   "cell_type": "code",
   "execution_count": 10,
   "id": "3a6f0904",
   "metadata": {},
   "outputs": [
    {
     "data": {
      "text/plain": [
       "(2, 4)"
      ]
     },
     "execution_count": 10,
     "metadata": {},
     "output_type": "execute_result"
    }
   ],
   "source": [
    "r2"
   ]
  },
  {
   "cell_type": "code",
   "execution_count": 11,
   "id": "61971425",
   "metadata": {},
   "outputs": [],
   "source": [
    "def user_input():\n",
    "    x1 = int(input())\n",
    "    x2 = int(input())\n",
    "    y1 = int(input())\n",
    "    y2 = int(input())\n",
    "    \n",
    "    return (x1, y1), (x2, y2)"
   ]
  },
  {
   "cell_type": "code",
   "execution_count": 12,
   "id": "f7d3d110",
   "metadata": {},
   "outputs": [
    {
     "name": "stdout",
     "output_type": "stream",
     "text": [
      "1\n",
      "2\n",
      "3\n",
      "4\n"
     ]
    }
   ],
   "source": [
    "r1, _ = user_input()"
   ]
  },
  {
   "cell_type": "code",
   "execution_count": 13,
   "id": "5097e583",
   "metadata": {},
   "outputs": [
    {
     "data": {
      "text/plain": [
       "(1, 3)"
      ]
     },
     "execution_count": 13,
     "metadata": {},
     "output_type": "execute_result"
    }
   ],
   "source": [
    "r1"
   ]
  },
  {
   "cell_type": "code",
   "execution_count": 14,
   "id": "bc94086a",
   "metadata": {},
   "outputs": [
    {
     "name": "stdout",
     "output_type": "stream",
     "text": [
      "1\n",
      "2\n",
      "3\n",
      "4\n"
     ]
    }
   ],
   "source": [
    "r1 = user_input()"
   ]
  },
  {
   "cell_type": "code",
   "execution_count": 15,
   "id": "58c4f515",
   "metadata": {},
   "outputs": [
    {
     "data": {
      "text/plain": [
       "((1, 3), (2, 4))"
      ]
     },
     "execution_count": 15,
     "metadata": {},
     "output_type": "execute_result"
    }
   ],
   "source": [
    "r1"
   ]
  },
  {
   "cell_type": "code",
   "execution_count": 17,
   "id": "3daac1d8",
   "metadata": {},
   "outputs": [
    {
     "data": {
      "text/plain": [
       "(9, 27)"
      ]
     },
     "execution_count": 17,
     "metadata": {},
     "output_type": "execute_result"
    }
   ],
   "source": [
    "def sq_and_cube(x):\n",
    "    sq = x**2\n",
    "    cube = x**3\n",
    "    return sq, cube\n",
    "\n",
    "sq_and_cube(3)"
   ]
  },
  {
   "cell_type": "code",
   "execution_count": null,
   "id": "de759a70",
   "metadata": {},
   "outputs": [],
   "source": []
  }
 ],
 "metadata": {
  "kernelspec": {
   "display_name": "Python 3 (ipykernel)",
   "language": "python",
   "name": "python3"
  },
  "language_info": {
   "codemirror_mode": {
    "name": "ipython",
    "version": 3
   },
   "file_extension": ".py",
   "mimetype": "text/x-python",
   "name": "python",
   "nbconvert_exporter": "python",
   "pygments_lexer": "ipython3",
   "version": "3.9.13"
  }
 },
 "nbformat": 4,
 "nbformat_minor": 5
}
