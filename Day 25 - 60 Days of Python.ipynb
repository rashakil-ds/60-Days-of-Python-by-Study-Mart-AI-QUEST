{
 "cells": [
  {
   "cell_type": "markdown",
   "id": "f9011963",
   "metadata": {},
   "source": [
    "Learn Data Science: https://aiquest.org/ <br>\n",
    "Python for Everybody: https://aiquest.org/courses/python-for-everybody/ <br>\n",
    "Join Facebook Group: https://www.facebook.com/groups/StudyMart <br>\n",
    "Cell/WhatsApp: +8801704265972"
   ]
  },
  {
   "cell_type": "markdown",
   "id": "18eb8f35",
   "metadata": {},
   "source": [
    "# Unpacking Elements"
   ]
  },
  {
   "cell_type": "code",
   "execution_count": 1,
   "id": "63f35819",
   "metadata": {},
   "outputs": [],
   "source": [
    "ids = (1,2,3)\n",
    "name = ('shakil','mejbah','sohan')"
   ]
  },
  {
   "cell_type": "code",
   "execution_count": 2,
   "id": "51409ff1",
   "metadata": {},
   "outputs": [
    {
     "data": {
      "text/plain": [
       "((1, 'shakil'), (2, 'mejbah'), (3, 'sohan'))"
      ]
     },
     "execution_count": 2,
     "metadata": {},
     "output_type": "execute_result"
    }
   ],
   "source": [
    "zipped = tuple(zip(ids, name))\n",
    "zipped"
   ]
  },
  {
   "cell_type": "code",
   "execution_count": 3,
   "id": "031f3fa4",
   "metadata": {},
   "outputs": [],
   "source": [
    "ids_new, name_new = zip(*zipped)"
   ]
  },
  {
   "cell_type": "code",
   "execution_count": 4,
   "id": "56e31d2b",
   "metadata": {},
   "outputs": [
    {
     "data": {
      "text/plain": [
       "(1, 2, 3)"
      ]
     },
     "execution_count": 4,
     "metadata": {},
     "output_type": "execute_result"
    }
   ],
   "source": [
    "ids_new"
   ]
  },
  {
   "cell_type": "code",
   "execution_count": 5,
   "id": "cab75753",
   "metadata": {},
   "outputs": [
    {
     "data": {
      "text/plain": [
       "('shakil', 'mejbah', 'sohan')"
      ]
     },
     "execution_count": 5,
     "metadata": {},
     "output_type": "execute_result"
    }
   ],
   "source": [
    "name_new"
   ]
  },
  {
   "cell_type": "code",
   "execution_count": 6,
   "id": "0013b664",
   "metadata": {},
   "outputs": [
    {
     "data": {
      "text/plain": [
       "1"
      ]
     },
     "execution_count": 6,
     "metadata": {},
     "output_type": "execute_result"
    }
   ],
   "source": [
    "i1, n1 = zipped[0]\n",
    "i1"
   ]
  },
  {
   "cell_type": "code",
   "execution_count": 7,
   "id": "d763ae6d",
   "metadata": {},
   "outputs": [
    {
     "data": {
      "text/plain": [
       "'shakil'"
      ]
     },
     "execution_count": 7,
     "metadata": {},
     "output_type": "execute_result"
    }
   ],
   "source": [
    "n1"
   ]
  },
  {
   "cell_type": "code",
   "execution_count": 8,
   "id": "6fe91279",
   "metadata": {},
   "outputs": [
    {
     "data": {
      "text/plain": [
       "((1, 'shakil'), (2, 'mejbah'), (3, 'sohan'))"
      ]
     },
     "execution_count": 8,
     "metadata": {},
     "output_type": "execute_result"
    }
   ],
   "source": [
    "zipped"
   ]
  },
  {
   "cell_type": "code",
   "execution_count": 9,
   "id": "d8912e9f",
   "metadata": {},
   "outputs": [
    {
     "name": "stdout",
     "output_type": "stream",
     "text": [
      "1 shakil\n",
      "2 mejbah\n",
      "3 sohan\n"
     ]
    }
   ],
   "source": [
    "#Unpacking using loop\n",
    "for ids, names in zipped:\n",
    "    print(ids, names)"
   ]
  },
  {
   "cell_type": "code",
   "execution_count": 10,
   "id": "0657dbff",
   "metadata": {},
   "outputs": [
    {
     "name": "stdout",
     "output_type": "stream",
     "text": [
      "(0, (1, 'shakil'))\n",
      "(1, (2, 'mejbah'))\n",
      "(2, (3, 'sohan'))\n"
     ]
    }
   ],
   "source": [
    "#Enumerating: Iterate over pairs\n",
    "for data in enumerate(zipped):\n",
    "    # Unpack pair: ids, name\n",
    "    ids, name = data\n",
    "    print(data)"
   ]
  },
  {
   "cell_type": "code",
   "execution_count": 13,
   "id": "2c7db1de",
   "metadata": {},
   "outputs": [
    {
     "name": "stdout",
     "output_type": "stream",
     "text": [
      "Rank 0, id= 1, Name= shakil\n",
      "Rank 1, id= 2, Name= mejbah\n",
      "Rank 2, id= 3, Name= sohan\n"
     ]
    }
   ],
   "source": [
    "#Enumerating: Iterate over pairs\n",
    "for index, pair in enumerate(zipped):\n",
    "    # Unpack pair: ids, name\n",
    "    ids, name = pair\n",
    "    print('Rank {}, id= {}, Name= {}'.format(index,ids, name))"
   ]
  },
  {
   "cell_type": "code",
   "execution_count": null,
   "id": "cfb1c054",
   "metadata": {},
   "outputs": [],
   "source": []
  }
 ],
 "metadata": {
  "kernelspec": {
   "display_name": "Python 3 (ipykernel)",
   "language": "python",
   "name": "python3"
  },
  "language_info": {
   "codemirror_mode": {
    "name": "ipython",
    "version": 3
   },
   "file_extension": ".py",
   "mimetype": "text/x-python",
   "name": "python",
   "nbconvert_exporter": "python",
   "pygments_lexer": "ipython3",
   "version": "3.9.13"
  }
 },
 "nbformat": 4,
 "nbformat_minor": 5
}
