{
 "cells": [
  {
   "cell_type": "code",
   "execution_count": 1,
   "id": "15c0a973",
   "metadata": {},
   "outputs": [],
   "source": [
    "# 5! = 5*4*3*2*1 = 120\n",
    "def facto(x):\n",
    "    if x==0:\n",
    "        return 1\n",
    "    return x* facto(x-1)"
   ]
  },
  {
   "cell_type": "code",
   "execution_count": 2,
   "id": "f7a18e93",
   "metadata": {},
   "outputs": [
    {
     "data": {
      "text/plain": [
       "120"
      ]
     },
     "execution_count": 2,
     "metadata": {},
     "output_type": "execute_result"
    }
   ],
   "source": [
    "facto(5)"
   ]
  },
  {
   "cell_type": "code",
   "execution_count": 3,
   "id": "d8b0a6cb",
   "metadata": {},
   "outputs": [
    {
     "name": "stdout",
     "output_type": "stream",
     "text": [
      "aiquest.org\n"
     ]
    }
   ],
   "source": [
    "def web():\n",
    "    print('aiquest.org')\n",
    "web()"
   ]
  },
  {
   "cell_type": "code",
   "execution_count": null,
   "id": "e37fe1bf",
   "metadata": {},
   "outputs": [],
   "source": [
    "def web():\n",
    "    print('aiquest.org')\n",
    "    web()\n",
    "web()"
   ]
  },
  {
   "cell_type": "code",
   "execution_count": 1,
   "id": "06b48ab2",
   "metadata": {},
   "outputs": [
    {
     "data": {
      "text/plain": [
       "3000"
      ]
     },
     "execution_count": 1,
     "metadata": {},
     "output_type": "execute_result"
    }
   ],
   "source": [
    "import sys\n",
    "sys.getrecursionlimit()"
   ]
  },
  {
   "cell_type": "code",
   "execution_count": null,
   "id": "5983b14c",
   "metadata": {},
   "outputs": [],
   "source": []
  }
 ],
 "metadata": {
  "kernelspec": {
   "display_name": "Python 3 (ipykernel)",
   "language": "python",
   "name": "python3"
  },
  "language_info": {
   "codemirror_mode": {
    "name": "ipython",
    "version": 3
   },
   "file_extension": ".py",
   "mimetype": "text/x-python",
   "name": "python",
   "nbconvert_exporter": "python",
   "pygments_lexer": "ipython3",
   "version": "3.9.13"
  }
 },
 "nbformat": 4,
 "nbformat_minor": 5
}
