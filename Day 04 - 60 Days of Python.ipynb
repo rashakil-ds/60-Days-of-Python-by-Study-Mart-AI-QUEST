{
 "cells": [
  {
   "cell_type": "markdown",
   "id": "7f47545d",
   "metadata": {},
   "source": [
    "Learn Data Science: https://aiquest.org/ <br>\n",
    "Python for Everybody: https://aiquest.org/courses/python-for-everybody/ <br>\n",
    "Join Facebook Group: https://www.facebook.com/groups/StudyMart <br>\n",
    "Cell/WhatsApp: +8801704265972"
   ]
  },
  {
   "cell_type": "markdown",
   "id": "4e5cb648",
   "metadata": {},
   "source": [
    "# All About Data Types in Python"
   ]
  },
  {
   "cell_type": "code",
   "execution_count": 1,
   "id": "fe0a748b",
   "metadata": {},
   "outputs": [],
   "source": [
    "#Numeric Data \n",
    "\n",
    "x = 10 #int\n",
    "y = 10.5 #float\n",
    "z = 10+5j #10 is real number and 5j is imaginary\n"
   ]
  },
  {
   "cell_type": "code",
   "execution_count": 2,
   "id": "091105e1",
   "metadata": {},
   "outputs": [
    {
     "data": {
      "text/plain": [
       "int"
      ]
     },
     "execution_count": 2,
     "metadata": {},
     "output_type": "execute_result"
    }
   ],
   "source": [
    "type(x)"
   ]
  },
  {
   "cell_type": "code",
   "execution_count": 3,
   "id": "6f0da96b",
   "metadata": {},
   "outputs": [
    {
     "data": {
      "text/plain": [
       "float"
      ]
     },
     "execution_count": 3,
     "metadata": {},
     "output_type": "execute_result"
    }
   ],
   "source": [
    "type(y)"
   ]
  },
  {
   "cell_type": "code",
   "execution_count": 4,
   "id": "39ed5302",
   "metadata": {},
   "outputs": [
    {
     "data": {
      "text/plain": [
       "complex"
      ]
     },
     "execution_count": 4,
     "metadata": {},
     "output_type": "execute_result"
    }
   ],
   "source": [
    "type(z)"
   ]
  },
  {
   "cell_type": "code",
   "execution_count": 5,
   "id": "e1d56308",
   "metadata": {},
   "outputs": [
    {
     "data": {
      "text/plain": [
       "True"
      ]
     },
     "execution_count": 5,
     "metadata": {},
     "output_type": "execute_result"
    }
   ],
   "source": [
    "isinstance(z,complex)"
   ]
  },
  {
   "cell_type": "code",
   "execution_count": 6,
   "id": "57d55be6",
   "metadata": {},
   "outputs": [
    {
     "data": {
      "text/plain": [
       "False"
      ]
     },
     "execution_count": 6,
     "metadata": {},
     "output_type": "execute_result"
    }
   ],
   "source": [
    "isinstance(10,float)"
   ]
  },
  {
   "cell_type": "code",
   "execution_count": 7,
   "id": "a2c1071b",
   "metadata": {},
   "outputs": [
    {
     "data": {
      "text/plain": [
       "True"
      ]
     },
     "execution_count": 7,
     "metadata": {},
     "output_type": "execute_result"
    }
   ],
   "source": [
    "isinstance(10,int)"
   ]
  },
  {
   "cell_type": "code",
   "execution_count": 8,
   "id": "f5fc5dad",
   "metadata": {},
   "outputs": [],
   "source": [
    "#int to float\n",
    "n = float(x) # n=float"
   ]
  },
  {
   "cell_type": "code",
   "execution_count": 9,
   "id": "54936a89",
   "metadata": {},
   "outputs": [
    {
     "data": {
      "text/plain": [
       "10.0"
      ]
     },
     "execution_count": 9,
     "metadata": {},
     "output_type": "execute_result"
    }
   ],
   "source": [
    "n"
   ]
  },
  {
   "cell_type": "code",
   "execution_count": 10,
   "id": "18781b0f",
   "metadata": {},
   "outputs": [
    {
     "data": {
      "text/plain": [
       "float"
      ]
     },
     "execution_count": 10,
     "metadata": {},
     "output_type": "execute_result"
    }
   ],
   "source": [
    "type(n)"
   ]
  },
  {
   "cell_type": "code",
   "execution_count": 11,
   "id": "314ac717",
   "metadata": {},
   "outputs": [
    {
     "data": {
      "text/plain": [
       "int"
      ]
     },
     "execution_count": 11,
     "metadata": {},
     "output_type": "execute_result"
    }
   ],
   "source": [
    "n = int(n)\n",
    "type(n)"
   ]
  },
  {
   "cell_type": "code",
   "execution_count": 12,
   "id": "2793afcc",
   "metadata": {},
   "outputs": [
    {
     "data": {
      "text/plain": [
       "10"
      ]
     },
     "execution_count": 12,
     "metadata": {},
     "output_type": "execute_result"
    }
   ],
   "source": [
    "n"
   ]
  },
  {
   "cell_type": "code",
   "execution_count": 13,
   "id": "0be4570f",
   "metadata": {},
   "outputs": [],
   "source": [
    "#int to complex\n",
    "n = complex(n) #10+0j"
   ]
  },
  {
   "cell_type": "code",
   "execution_count": 14,
   "id": "6362cb43",
   "metadata": {},
   "outputs": [
    {
     "data": {
      "text/plain": [
       "(10+0j)"
      ]
     },
     "execution_count": 14,
     "metadata": {},
     "output_type": "execute_result"
    }
   ],
   "source": [
    "n"
   ]
  },
  {
   "cell_type": "code",
   "execution_count": 15,
   "id": "f2e51a46",
   "metadata": {},
   "outputs": [
    {
     "data": {
      "text/plain": [
       "complex"
      ]
     },
     "execution_count": 15,
     "metadata": {},
     "output_type": "execute_result"
    }
   ],
   "source": [
    "type(n)"
   ]
  },
  {
   "cell_type": "code",
   "execution_count": 16,
   "id": "1432838d",
   "metadata": {},
   "outputs": [
    {
     "ename": "TypeError",
     "evalue": "can't convert complex to int",
     "output_type": "error",
     "traceback": [
      "\u001b[1;31m---------------------------------------------------------------------------\u001b[0m",
      "\u001b[1;31mTypeError\u001b[0m                                 Traceback (most recent call last)",
      "\u001b[1;32m<ipython-input-16-6ec09e303b2f>\u001b[0m in \u001b[0;36m<module>\u001b[1;34m\u001b[0m\n\u001b[1;32m----> 1\u001b[1;33m \u001b[0mn\u001b[0m \u001b[1;33m=\u001b[0m \u001b[0mint\u001b[0m\u001b[1;33m(\u001b[0m\u001b[0mn\u001b[0m\u001b[1;33m)\u001b[0m\u001b[1;33m\u001b[0m\u001b[1;33m\u001b[0m\u001b[0m\n\u001b[0m",
      "\u001b[1;31mTypeError\u001b[0m: can't convert complex to int"
     ]
    }
   ],
   "source": [
    "n = int(n)"
   ]
  },
  {
   "cell_type": "code",
   "execution_count": 17,
   "id": "dddd72ae",
   "metadata": {},
   "outputs": [
    {
     "ename": "TypeError",
     "evalue": "can't convert complex to float",
     "output_type": "error",
     "traceback": [
      "\u001b[1;31m---------------------------------------------------------------------------\u001b[0m",
      "\u001b[1;31mTypeError\u001b[0m                                 Traceback (most recent call last)",
      "\u001b[1;32m<ipython-input-17-81d7937edee3>\u001b[0m in \u001b[0;36m<module>\u001b[1;34m\u001b[0m\n\u001b[1;32m----> 1\u001b[1;33m \u001b[0mn\u001b[0m \u001b[1;33m=\u001b[0m \u001b[0mfloat\u001b[0m\u001b[1;33m(\u001b[0m\u001b[0mn\u001b[0m\u001b[1;33m)\u001b[0m\u001b[1;33m\u001b[0m\u001b[1;33m\u001b[0m\u001b[0m\n\u001b[0m",
      "\u001b[1;31mTypeError\u001b[0m: can't convert complex to float"
     ]
    }
   ],
   "source": [
    "n = float(n)"
   ]
  },
  {
   "cell_type": "code",
   "execution_count": 18,
   "id": "cbfd2a20",
   "metadata": {},
   "outputs": [
    {
     "name": "stdout",
     "output_type": "stream",
     "text": [
      "Enter your complex number :- 1\n"
     ]
    }
   ],
   "source": [
    "n = complex(input('Enter your complex number :- '))"
   ]
  },
  {
   "cell_type": "code",
   "execution_count": 19,
   "id": "fe7b3c24",
   "metadata": {},
   "outputs": [
    {
     "data": {
      "text/plain": [
       "(1+0j)"
      ]
     },
     "execution_count": 19,
     "metadata": {},
     "output_type": "execute_result"
    }
   ],
   "source": [
    "n"
   ]
  },
  {
   "cell_type": "code",
   "execution_count": 20,
   "id": "f9767fa6",
   "metadata": {},
   "outputs": [
    {
     "name": "stdout",
     "output_type": "stream",
     "text": [
      "Enter your complex number :- 1+5j\n"
     ]
    }
   ],
   "source": [
    "n = complex(input('Enter your complex number :- '))"
   ]
  },
  {
   "cell_type": "code",
   "execution_count": 21,
   "id": "b9accd81",
   "metadata": {},
   "outputs": [
    {
     "data": {
      "text/plain": [
       "(1+5j)"
      ]
     },
     "execution_count": 21,
     "metadata": {},
     "output_type": "execute_result"
    }
   ],
   "source": [
    "n"
   ]
  },
  {
   "cell_type": "code",
   "execution_count": 22,
   "id": "1c6ab0f7",
   "metadata": {},
   "outputs": [
    {
     "data": {
      "text/plain": [
       "complex"
      ]
     },
     "execution_count": 22,
     "metadata": {},
     "output_type": "execute_result"
    }
   ],
   "source": [
    "type(n)"
   ]
  },
  {
   "cell_type": "markdown",
   "id": "d99115ab",
   "metadata": {},
   "source": [
    "# Bool"
   ]
  },
  {
   "cell_type": "code",
   "execution_count": 23,
   "id": "35797338",
   "metadata": {},
   "outputs": [],
   "source": [
    "x = True\n",
    "y = False"
   ]
  },
  {
   "cell_type": "code",
   "execution_count": 24,
   "id": "d2d69ace",
   "metadata": {},
   "outputs": [
    {
     "data": {
      "text/plain": [
       "True"
      ]
     },
     "execution_count": 24,
     "metadata": {},
     "output_type": "execute_result"
    }
   ],
   "source": [
    "x"
   ]
  },
  {
   "cell_type": "code",
   "execution_count": 25,
   "id": "d950816e",
   "metadata": {},
   "outputs": [
    {
     "data": {
      "text/plain": [
       "False"
      ]
     },
     "execution_count": 25,
     "metadata": {},
     "output_type": "execute_result"
    }
   ],
   "source": [
    "y"
   ]
  },
  {
   "cell_type": "code",
   "execution_count": 26,
   "id": "acf99153",
   "metadata": {},
   "outputs": [
    {
     "ename": "NameError",
     "evalue": "name 'true' is not defined",
     "output_type": "error",
     "traceback": [
      "\u001b[1;31m---------------------------------------------------------------------------\u001b[0m",
      "\u001b[1;31mNameError\u001b[0m                                 Traceback (most recent call last)",
      "\u001b[1;32m<ipython-input-26-724ba28f4a9a>\u001b[0m in \u001b[0;36m<module>\u001b[1;34m\u001b[0m\n\u001b[1;32m----> 1\u001b[1;33m \u001b[0mtrue\u001b[0m\u001b[1;33m\u001b[0m\u001b[1;33m\u001b[0m\u001b[0m\n\u001b[0m",
      "\u001b[1;31mNameError\u001b[0m: name 'true' is not defined"
     ]
    }
   ],
   "source": [
    "true"
   ]
  },
  {
   "cell_type": "markdown",
   "id": "6d87fd5b",
   "metadata": {},
   "source": [
    "# Sequence Data"
   ]
  },
  {
   "cell_type": "code",
   "execution_count": 27,
   "id": "1966b401",
   "metadata": {},
   "outputs": [],
   "source": [
    "#List []\n",
    "l = [1,2,3,4,True,[1,2],'data',(1,2,3,8)]"
   ]
  },
  {
   "cell_type": "code",
   "execution_count": 28,
   "id": "7498a7a6",
   "metadata": {},
   "outputs": [
    {
     "data": {
      "text/plain": [
       "[1, 2, 3, 4, True, [1, 2], 'data', (1, 2, 3, 8)]"
      ]
     },
     "execution_count": 28,
     "metadata": {},
     "output_type": "execute_result"
    }
   ],
   "source": [
    "l"
   ]
  },
  {
   "cell_type": "code",
   "execution_count": 29,
   "id": "e934accf",
   "metadata": {},
   "outputs": [
    {
     "data": {
      "text/plain": [
       "1"
      ]
     },
     "execution_count": 29,
     "metadata": {},
     "output_type": "execute_result"
    }
   ],
   "source": [
    "l[0]"
   ]
  },
  {
   "cell_type": "code",
   "execution_count": 30,
   "id": "e8000b60",
   "metadata": {},
   "outputs": [
    {
     "data": {
      "text/plain": [
       "(1, 2, 3, 8)"
      ]
     },
     "execution_count": 30,
     "metadata": {},
     "output_type": "execute_result"
    }
   ],
   "source": [
    "l[-1]"
   ]
  },
  {
   "cell_type": "code",
   "execution_count": 32,
   "id": "acaa4027",
   "metadata": {},
   "outputs": [
    {
     "data": {
      "text/plain": [
       "8"
      ]
     },
     "execution_count": 32,
     "metadata": {},
     "output_type": "execute_result"
    }
   ],
   "source": [
    "l[-1][-1]"
   ]
  },
  {
   "cell_type": "code",
   "execution_count": 33,
   "id": "fe4627a7",
   "metadata": {},
   "outputs": [
    {
     "data": {
      "text/plain": [
       "list"
      ]
     },
     "execution_count": 33,
     "metadata": {},
     "output_type": "execute_result"
    }
   ],
   "source": [
    "type(l)"
   ]
  },
  {
   "cell_type": "code",
   "execution_count": 34,
   "id": "a0550feb",
   "metadata": {},
   "outputs": [
    {
     "data": {
      "text/plain": [
       "True"
      ]
     },
     "execution_count": 34,
     "metadata": {},
     "output_type": "execute_result"
    }
   ],
   "source": [
    "isinstance(l,list)"
   ]
  },
  {
   "cell_type": "code",
   "execution_count": 35,
   "id": "3f7218f2",
   "metadata": {},
   "outputs": [
    {
     "data": {
      "text/plain": [
       "tuple"
      ]
     },
     "execution_count": 35,
     "metadata": {},
     "output_type": "execute_result"
    }
   ],
   "source": [
    "#Tupe ()\n",
    "\n",
    "t = (1,5,8,9,'Ai')\n",
    "type(t)"
   ]
  },
  {
   "cell_type": "code",
   "execution_count": 36,
   "id": "577ec2be",
   "metadata": {},
   "outputs": [
    {
     "data": {
      "text/plain": [
       "1"
      ]
     },
     "execution_count": 36,
     "metadata": {},
     "output_type": "execute_result"
    }
   ],
   "source": [
    "t[0]"
   ]
  },
  {
   "cell_type": "code",
   "execution_count": 37,
   "id": "0270f12a",
   "metadata": {},
   "outputs": [
    {
     "data": {
      "text/plain": [
       "(1, 5, 8, 9)"
      ]
     },
     "execution_count": 37,
     "metadata": {},
     "output_type": "execute_result"
    }
   ],
   "source": [
    "t[0:4] # colon means to ; 0 to 4-1"
   ]
  },
  {
   "cell_type": "code",
   "execution_count": 38,
   "id": "5518ccb9",
   "metadata": {},
   "outputs": [],
   "source": [
    "#Range()\n",
    "\n",
    "x = range(10) #1st case"
   ]
  },
  {
   "cell_type": "code",
   "execution_count": 39,
   "id": "d4cf05a1",
   "metadata": {},
   "outputs": [
    {
     "data": {
      "text/plain": [
       "range(0, 10)"
      ]
     },
     "execution_count": 39,
     "metadata": {},
     "output_type": "execute_result"
    }
   ],
   "source": [
    "x"
   ]
  },
  {
   "cell_type": "code",
   "execution_count": 42,
   "id": "9d2c01b1",
   "metadata": {},
   "outputs": [
    {
     "name": "stdout",
     "output_type": "stream",
     "text": [
      "0\n",
      "1\n",
      "2\n",
      "3\n",
      "4\n",
      "5\n",
      "6\n",
      "7\n",
      "8\n",
      "9\n"
     ]
    }
   ],
   "source": [
    "for i in x:\n",
    "    print(i)\n",
    "    "
   ]
  },
  {
   "cell_type": "code",
   "execution_count": 43,
   "id": "be81ec4b",
   "metadata": {},
   "outputs": [
    {
     "name": "stdout",
     "output_type": "stream",
     "text": [
      "5\n",
      "6\n",
      "7\n",
      "8\n",
      "9\n",
      "10\n",
      "11\n",
      "12\n",
      "13\n",
      "14\n",
      "15\n",
      "16\n",
      "17\n",
      "18\n",
      "19\n"
     ]
    }
   ],
   "source": [
    "x = range(5,20) #2nd case\n",
    "for i in x:\n",
    "    print(i)"
   ]
  },
  {
   "cell_type": "code",
   "execution_count": 44,
   "id": "7f817118",
   "metadata": {},
   "outputs": [
    {
     "name": "stdout",
     "output_type": "stream",
     "text": [
      "5\n",
      "8\n",
      "11\n",
      "14\n",
      "17\n"
     ]
    }
   ],
   "source": [
    "x = range(5,20,3) #3rd case\n",
    "for i in x:\n",
    "    print(i)"
   ]
  },
  {
   "cell_type": "code",
   "execution_count": 45,
   "id": "c54136b5",
   "metadata": {},
   "outputs": [
    {
     "name": "stdout",
     "output_type": "stream",
     "text": [
      "20\n",
      "17\n",
      "14\n",
      "11\n",
      "8\n"
     ]
    }
   ],
   "source": [
    "x = range(20,5,-3) #4th case\n",
    "for i in x:\n",
    "    print(i)"
   ]
  },
  {
   "cell_type": "code",
   "execution_count": 46,
   "id": "315b4146",
   "metadata": {},
   "outputs": [],
   "source": [
    "#array\n",
    "import array as ar"
   ]
  },
  {
   "cell_type": "code",
   "execution_count": 47,
   "id": "66727c63",
   "metadata": {},
   "outputs": [
    {
     "ename": "TypeError",
     "evalue": "array() argument 1 must be a unicode character, not list",
     "output_type": "error",
     "traceback": [
      "\u001b[1;31m---------------------------------------------------------------------------\u001b[0m",
      "\u001b[1;31mTypeError\u001b[0m                                 Traceback (most recent call last)",
      "\u001b[1;32m<ipython-input-47-235b847635f2>\u001b[0m in \u001b[0;36m<module>\u001b[1;34m\u001b[0m\n\u001b[1;32m----> 1\u001b[1;33m \u001b[0ma\u001b[0m \u001b[1;33m=\u001b[0m \u001b[0mar\u001b[0m\u001b[1;33m.\u001b[0m\u001b[0marray\u001b[0m\u001b[1;33m(\u001b[0m\u001b[1;33m[\u001b[0m\u001b[1;36m1\u001b[0m\u001b[1;33m,\u001b[0m\u001b[1;36m2\u001b[0m\u001b[1;33m,\u001b[0m\u001b[1;36m3\u001b[0m\u001b[1;33m,\u001b[0m\u001b[1;36m4\u001b[0m\u001b[1;33m]\u001b[0m\u001b[1;33m)\u001b[0m\u001b[1;33m\u001b[0m\u001b[1;33m\u001b[0m\u001b[0m\n\u001b[0m\u001b[0;32m      2\u001b[0m \u001b[0ma\u001b[0m\u001b[1;33m\u001b[0m\u001b[1;33m\u001b[0m\u001b[0m\n",
      "\u001b[1;31mTypeError\u001b[0m: array() argument 1 must be a unicode character, not list"
     ]
    }
   ],
   "source": [
    "a = ar.array([1,2,3,4])\n",
    "a"
   ]
  },
  {
   "cell_type": "code",
   "execution_count": 48,
   "id": "a642844c",
   "metadata": {},
   "outputs": [
    {
     "data": {
      "text/plain": [
       "array('i', [1, 2, 3, 4])"
      ]
     },
     "execution_count": 48,
     "metadata": {},
     "output_type": "execute_result"
    }
   ],
   "source": [
    "a = ar.array('i',[1,2,3,4])\n",
    "a"
   ]
  },
  {
   "cell_type": "code",
   "execution_count": 49,
   "id": "000134ad",
   "metadata": {},
   "outputs": [
    {
     "data": {
      "text/plain": [
       "array.array"
      ]
     },
     "execution_count": 49,
     "metadata": {},
     "output_type": "execute_result"
    }
   ],
   "source": [
    "type(a)"
   ]
  },
  {
   "cell_type": "code",
   "execution_count": 51,
   "id": "5892a2bf",
   "metadata": {},
   "outputs": [
    {
     "data": {
      "text/plain": [
       "array('f', [1.5, 2.0, 3.0, 4.0])"
      ]
     },
     "execution_count": 51,
     "metadata": {},
     "output_type": "execute_result"
    }
   ],
   "source": [
    "a = ar.array('f',[1.5,2,3,4])\n",
    "a"
   ]
  },
  {
   "cell_type": "code",
   "execution_count": 52,
   "id": "50b7f071",
   "metadata": {},
   "outputs": [
    {
     "data": {
      "text/plain": [
       "str"
      ]
     },
     "execution_count": 52,
     "metadata": {},
     "output_type": "execute_result"
    }
   ],
   "source": [
    "#string\n",
    "x = 'data'\n",
    "type(x)"
   ]
  },
  {
   "cell_type": "code",
   "execution_count": 53,
   "id": "663f13b6",
   "metadata": {},
   "outputs": [
    {
     "data": {
      "text/plain": [
       "str"
      ]
     },
     "execution_count": 53,
     "metadata": {},
     "output_type": "execute_result"
    }
   ],
   "source": [
    "x = \"data\"\n",
    "type(x)"
   ]
  },
  {
   "cell_type": "code",
   "execution_count": 54,
   "id": "677ebdb8",
   "metadata": {},
   "outputs": [],
   "source": [
    "x = '''\n",
    "I love\n",
    "Data Science\n",
    "'''"
   ]
  },
  {
   "cell_type": "code",
   "execution_count": 55,
   "id": "be4a0e2b",
   "metadata": {},
   "outputs": [
    {
     "data": {
      "text/plain": [
       "'\\nI love\\nData Science\\n'"
      ]
     },
     "execution_count": 55,
     "metadata": {},
     "output_type": "execute_result"
    }
   ],
   "source": [
    "x"
   ]
  },
  {
   "cell_type": "code",
   "execution_count": 56,
   "id": "9324bed9",
   "metadata": {},
   "outputs": [
    {
     "data": {
      "text/plain": [
       "str"
      ]
     },
     "execution_count": 56,
     "metadata": {},
     "output_type": "execute_result"
    }
   ],
   "source": [
    "type(x)"
   ]
  },
  {
   "cell_type": "code",
   "execution_count": 57,
   "id": "22594aa5",
   "metadata": {},
   "outputs": [],
   "source": [
    "#Set\n",
    "\n",
    "s = {1,2,3,5}"
   ]
  },
  {
   "cell_type": "code",
   "execution_count": 58,
   "id": "b4f523bd",
   "metadata": {},
   "outputs": [
    {
     "data": {
      "text/plain": [
       "set"
      ]
     },
     "execution_count": 58,
     "metadata": {},
     "output_type": "execute_result"
    }
   ],
   "source": [
    "type(s)"
   ]
  },
  {
   "cell_type": "code",
   "execution_count": 59,
   "id": "3e8fabf8",
   "metadata": {},
   "outputs": [],
   "source": [
    "#Dictionary\n",
    "\n",
    "dic={\n",
    "    'varsity': 'FAU Germany',\n",
    "    'Dept': 'Data Science'\n",
    "}"
   ]
  },
  {
   "cell_type": "code",
   "execution_count": 60,
   "id": "939685d4",
   "metadata": {},
   "outputs": [
    {
     "data": {
      "text/plain": [
       "{'varsity': 'FAU Germany', 'Dept': 'Data Science'}"
      ]
     },
     "execution_count": 60,
     "metadata": {},
     "output_type": "execute_result"
    }
   ],
   "source": [
    "dic"
   ]
  },
  {
   "cell_type": "code",
   "execution_count": 61,
   "id": "9e9c3067",
   "metadata": {},
   "outputs": [
    {
     "data": {
      "text/plain": [
       "dict"
      ]
     },
     "execution_count": 61,
     "metadata": {},
     "output_type": "execute_result"
    }
   ],
   "source": [
    "type(dic)"
   ]
  },
  {
   "cell_type": "code",
   "execution_count": 63,
   "id": "83a6f414",
   "metadata": {},
   "outputs": [
    {
     "data": {
      "text/plain": [
       "dict_keys(['varsity', 'Dept'])"
      ]
     },
     "execution_count": 63,
     "metadata": {},
     "output_type": "execute_result"
    }
   ],
   "source": [
    "dic.keys()"
   ]
  },
  {
   "cell_type": "code",
   "execution_count": 64,
   "id": "cf1118bd",
   "metadata": {},
   "outputs": [
    {
     "data": {
      "text/plain": [
       "dict_values(['FAU Germany', 'Data Science'])"
      ]
     },
     "execution_count": 64,
     "metadata": {},
     "output_type": "execute_result"
    }
   ],
   "source": [
    "dic.values()"
   ]
  },
  {
   "cell_type": "code",
   "execution_count": 67,
   "id": "fb3cdb39",
   "metadata": {},
   "outputs": [],
   "source": [
    "#Data Frame (Pandas)\n",
    "\n",
    "import pandas as pd\n",
    "\n",
    "df = pd.read_csv('study mart.csv')"
   ]
  },
  {
   "cell_type": "code",
   "execution_count": 70,
   "id": "3f415e05",
   "metadata": {},
   "outputs": [
    {
     "data": {
      "text/html": [
       "<div>\n",
       "<style scoped>\n",
       "    .dataframe tbody tr th:only-of-type {\n",
       "        vertical-align: middle;\n",
       "    }\n",
       "\n",
       "    .dataframe tbody tr th {\n",
       "        vertical-align: top;\n",
       "    }\n",
       "\n",
       "    .dataframe thead th {\n",
       "        text-align: right;\n",
       "    }\n",
       "</style>\n",
       "<table border=\"1\" class=\"dataframe\">\n",
       "  <thead>\n",
       "    <tr style=\"text-align: right;\">\n",
       "      <th></th>\n",
       "      <th>ID</th>\n",
       "      <th>TITLE</th>\n",
       "      <th>DESCRIPTION</th>\n",
       "      <th>DURATION</th>\n",
       "      <th>STATUS</th>\n",
       "      <th>DATE PUBLISHED</th>\n",
       "      <th>KEYWORDS</th>\n",
       "      <th>VIDIQ SCORE</th>\n",
       "      <th>VIEWS</th>\n",
       "      <th>YT LIKES</th>\n",
       "      <th>...</th>\n",
       "      <th>FB COMMENTS</th>\n",
       "      <th>FB SHARES</th>\n",
       "      <th>TWEETS</th>\n",
       "      <th>REDDIT UPVOTES</th>\n",
       "      <th>REDDIT POSTS</th>\n",
       "      <th>REDDIT COMMENTS</th>\n",
       "      <th>DESC LINK COUNT</th>\n",
       "      <th>DESC WORD COUNT</th>\n",
       "      <th>CREATOR SUGGESTED</th>\n",
       "      <th>ENGAGEMENT RATE</th>\n",
       "    </tr>\n",
       "  </thead>\n",
       "  <tbody>\n",
       "    <tr>\n",
       "      <th>0</th>\n",
       "      <td>l7EbRlgEi0k</td>\n",
       "      <td>Complete Data Analysis: Become a Data Analyst ...</td>\n",
       "      <td>✅ Course Outline: https://deluxe-airmail-22b.n...</td>\n",
       "      <td>09:46</td>\n",
       "      <td>public</td>\n",
       "      <td>1/11/2022</td>\n",
       "      <td>data analytics, data analysis, data analysis c...</td>\n",
       "      <td>25.788569</td>\n",
       "      <td>387</td>\n",
       "      <td>23</td>\n",
       "      <td>...</td>\n",
       "      <td>0</td>\n",
       "      <td>0</td>\n",
       "      <td>0</td>\n",
       "      <td>0</td>\n",
       "      <td>0</td>\n",
       "      <td>0</td>\n",
       "      <td>21</td>\n",
       "      <td>160</td>\n",
       "      <td>5</td>\n",
       "      <td>3</td>\n",
       "    </tr>\n",
       "    <tr>\n",
       "      <th>1</th>\n",
       "      <td>lEqFqZlG_-8</td>\n",
       "      <td>Day-3 #60 Days of Python | All About Python St...</td>\n",
       "      <td>What is string in Python in simple words? Well...</td>\n",
       "      <td>28:47</td>\n",
       "      <td>public</td>\n",
       "      <td>1/11/2022</td>\n",
       "      <td>python tutorial, python bangla tutorial, pytho...</td>\n",
       "      <td>23.536470</td>\n",
       "      <td>230</td>\n",
       "      <td>20</td>\n",
       "      <td>...</td>\n",
       "      <td>0</td>\n",
       "      <td>0</td>\n",
       "      <td>0</td>\n",
       "      <td>0</td>\n",
       "      <td>0</td>\n",
       "      <td>0</td>\n",
       "      <td>20</td>\n",
       "      <td>216</td>\n",
       "      <td>8</td>\n",
       "      <td>3</td>\n",
       "    </tr>\n",
       "    <tr>\n",
       "      <th>2</th>\n",
       "      <td>Y4j91DOyLHs</td>\n",
       "      <td>Day-2 #60 Days of Python | Variables &amp; I/O Fun...</td>\n",
       "      <td>What is a Variable in Python? Well, A Python v...</td>\n",
       "      <td>39:57</td>\n",
       "      <td>public</td>\n",
       "      <td>1/3/2022</td>\n",
       "      <td>python course, python tutorial, best python co...</td>\n",
       "      <td>30.313796</td>\n",
       "      <td>1101</td>\n",
       "      <td>67</td>\n",
       "      <td>...</td>\n",
       "      <td>0</td>\n",
       "      <td>0</td>\n",
       "      <td>0</td>\n",
       "      <td>0</td>\n",
       "      <td>0</td>\n",
       "      <td>0</td>\n",
       "      <td>23</td>\n",
       "      <td>171</td>\n",
       "      <td>3</td>\n",
       "      <td>3</td>\n",
       "    </tr>\n",
       "    <tr>\n",
       "      <th>3</th>\n",
       "      <td>FZmPnTVOAR4</td>\n",
       "      <td>Day-1 #60 Days of Python Bangla Tutorial | Fut...</td>\n",
       "      <td>Introduction to Python Basic to Advance Course...</td>\n",
       "      <td>15:53</td>\n",
       "      <td>public</td>\n",
       "      <td>1/1/2022</td>\n",
       "      <td>python course, python tutorial, 60 days of pyt...</td>\n",
       "      <td>31.732286</td>\n",
       "      <td>1528</td>\n",
       "      <td>118</td>\n",
       "      <td>...</td>\n",
       "      <td>0</td>\n",
       "      <td>0</td>\n",
       "      <td>0</td>\n",
       "      <td>0</td>\n",
       "      <td>0</td>\n",
       "      <td>0</td>\n",
       "      <td>25</td>\n",
       "      <td>191</td>\n",
       "      <td>5</td>\n",
       "      <td>3</td>\n",
       "    </tr>\n",
       "    <tr>\n",
       "      <th>4</th>\n",
       "      <td>-qjfnjvyoDM</td>\n",
       "      <td>JOIN NOW - Largest Data Science Community in B...</td>\n",
       "      <td>✅ Must Join the Facebook Group: https://facebo...</td>\n",
       "      <td>00:27</td>\n",
       "      <td>public</td>\n",
       "      <td>11/10/2021</td>\n",
       "      <td>python, data science, machine learning, commun...</td>\n",
       "      <td>29.910318</td>\n",
       "      <td>1003</td>\n",
       "      <td>40</td>\n",
       "      <td>...</td>\n",
       "      <td>0</td>\n",
       "      <td>0</td>\n",
       "      <td>0</td>\n",
       "      <td>0</td>\n",
       "      <td>0</td>\n",
       "      <td>0</td>\n",
       "      <td>18</td>\n",
       "      <td>111</td>\n",
       "      <td>5</td>\n",
       "      <td>2</td>\n",
       "    </tr>\n",
       "    <tr>\n",
       "      <th>5</th>\n",
       "      <td>taRfyV__zFs</td>\n",
       "      <td>Data Science &amp; Machine Learning with PYTHON (F...</td>\n",
       "      <td>✅  Course Outline: https://drive.google.com/fi...</td>\n",
       "      <td>15:59</td>\n",
       "      <td>public</td>\n",
       "      <td>11/7/2021</td>\n",
       "      <td>python full course, machine learning, python t...</td>\n",
       "      <td>36.199277</td>\n",
       "      <td>4289</td>\n",
       "      <td>117</td>\n",
       "      <td>...</td>\n",
       "      <td>0</td>\n",
       "      <td>0</td>\n",
       "      <td>0</td>\n",
       "      <td>0</td>\n",
       "      <td>0</td>\n",
       "      <td>0</td>\n",
       "      <td>22</td>\n",
       "      <td>445</td>\n",
       "      <td>3</td>\n",
       "      <td>2</td>\n",
       "    </tr>\n",
       "    <tr>\n",
       "      <th>6</th>\n",
       "      <td>GjfbGb3YhjU</td>\n",
       "      <td>@AI QUEST Introduction to Deep Learning &amp; Natu...</td>\n",
       "      <td>DL-Batch-03 - Introduction to Deep Learning &amp; ...</td>\n",
       "      <td>02:19:38</td>\n",
       "      <td>public</td>\n",
       "      <td>11/2/2021</td>\n",
       "      <td>deep learning, python, data science, nlp, nlp ...</td>\n",
       "      <td>28.990674</td>\n",
       "      <td>811</td>\n",
       "      <td>33</td>\n",
       "      <td>...</td>\n",
       "      <td>0</td>\n",
       "      <td>0</td>\n",
       "      <td>0</td>\n",
       "      <td>0</td>\n",
       "      <td>0</td>\n",
       "      <td>0</td>\n",
       "      <td>18</td>\n",
       "      <td>204</td>\n",
       "      <td>9</td>\n",
       "      <td>2</td>\n",
       "    </tr>\n",
       "    <tr>\n",
       "      <th>7</th>\n",
       "      <td>SM0eeoe_wYA</td>\n",
       "      <td>@AI QUEST | Convolutional Neural Network: All ...</td>\n",
       "      <td>✅ Must Join the Facebook Group: https://facebo...</td>\n",
       "      <td>47:19</td>\n",
       "      <td>public</td>\n",
       "      <td>10/31/2021</td>\n",
       "      <td>convolutional neural network, cnn, deep learni...</td>\n",
       "      <td>28.617476</td>\n",
       "      <td>744</td>\n",
       "      <td>24</td>\n",
       "      <td>...</td>\n",
       "      <td>0</td>\n",
       "      <td>0</td>\n",
       "      <td>0</td>\n",
       "      <td>0</td>\n",
       "      <td>0</td>\n",
       "      <td>0</td>\n",
       "      <td>18</td>\n",
       "      <td>125</td>\n",
       "      <td>3</td>\n",
       "      <td>2</td>\n",
       "    </tr>\n",
       "    <tr>\n",
       "      <th>8</th>\n",
       "      <td>nKI84zHZ9UE</td>\n",
       "      <td>Don't Watch My Video | Announcement: Ads Free ...</td>\n",
       "      <td>✅ Join the Facebook Group: https://facebook.co...</td>\n",
       "      <td>06:17</td>\n",
       "      <td>public</td>\n",
       "      <td>10/29/2021</td>\n",
       "      <td>data science, python, learn python, data scien...</td>\n",
       "      <td>35.798859</td>\n",
       "      <td>3910</td>\n",
       "      <td>148</td>\n",
       "      <td>...</td>\n",
       "      <td>0</td>\n",
       "      <td>0</td>\n",
       "      <td>0</td>\n",
       "      <td>0</td>\n",
       "      <td>0</td>\n",
       "      <td>0</td>\n",
       "      <td>20</td>\n",
       "      <td>132</td>\n",
       "      <td>5</td>\n",
       "      <td>2</td>\n",
       "    </tr>\n",
       "    <tr>\n",
       "      <th>9</th>\n",
       "      <td>td6XxVdDSco</td>\n",
       "      <td>26. Standard Deviation in Data Science | R Pro...</td>\n",
       "      <td>A standard deviation (or σ) is a measure of ho...</td>\n",
       "      <td>10:49</td>\n",
       "      <td>public</td>\n",
       "      <td>10/28/2021</td>\n",
       "      <td>standard deviation, std in r, standard deviati...</td>\n",
       "      <td>28.535258</td>\n",
       "      <td>730</td>\n",
       "      <td>32</td>\n",
       "      <td>...</td>\n",
       "      <td>0</td>\n",
       "      <td>0</td>\n",
       "      <td>0</td>\n",
       "      <td>0</td>\n",
       "      <td>0</td>\n",
       "      <td>0</td>\n",
       "      <td>20</td>\n",
       "      <td>164</td>\n",
       "      <td>7</td>\n",
       "      <td>2</td>\n",
       "    </tr>\n",
       "  </tbody>\n",
       "</table>\n",
       "<p>10 rows × 24 columns</p>\n",
       "</div>"
      ],
      "text/plain": [
       "            ID                                              TITLE  \\\n",
       "0  l7EbRlgEi0k  Complete Data Analysis: Become a Data Analyst ...   \n",
       "1  lEqFqZlG_-8  Day-3 #60 Days of Python | All About Python St...   \n",
       "2  Y4j91DOyLHs  Day-2 #60 Days of Python | Variables & I/O Fun...   \n",
       "3  FZmPnTVOAR4  Day-1 #60 Days of Python Bangla Tutorial | Fut...   \n",
       "4  -qjfnjvyoDM  JOIN NOW - Largest Data Science Community in B...   \n",
       "5  taRfyV__zFs  Data Science & Machine Learning with PYTHON (F...   \n",
       "6  GjfbGb3YhjU  @AI QUEST Introduction to Deep Learning & Natu...   \n",
       "7  SM0eeoe_wYA  @AI QUEST | Convolutional Neural Network: All ...   \n",
       "8  nKI84zHZ9UE  Don't Watch My Video | Announcement: Ads Free ...   \n",
       "9  td6XxVdDSco  26. Standard Deviation in Data Science | R Pro...   \n",
       "\n",
       "                                         DESCRIPTION  DURATION  STATUS  \\\n",
       "0  ✅ Course Outline: https://deluxe-airmail-22b.n...     09:46  public   \n",
       "1  What is string in Python in simple words? Well...     28:47  public   \n",
       "2  What is a Variable in Python? Well, A Python v...     39:57  public   \n",
       "3  Introduction to Python Basic to Advance Course...     15:53  public   \n",
       "4  ✅ Must Join the Facebook Group: https://facebo...     00:27  public   \n",
       "5  ✅  Course Outline: https://drive.google.com/fi...     15:59  public   \n",
       "6  DL-Batch-03 - Introduction to Deep Learning & ...  02:19:38  public   \n",
       "7  ✅ Must Join the Facebook Group: https://facebo...     47:19  public   \n",
       "8  ✅ Join the Facebook Group: https://facebook.co...     06:17  public   \n",
       "9  A standard deviation (or σ) is a measure of ho...     10:49  public   \n",
       "\n",
       "  DATE PUBLISHED                                           KEYWORDS  \\\n",
       "0      1/11/2022  data analytics, data analysis, data analysis c...   \n",
       "1      1/11/2022  python tutorial, python bangla tutorial, pytho...   \n",
       "2       1/3/2022  python course, python tutorial, best python co...   \n",
       "3       1/1/2022  python course, python tutorial, 60 days of pyt...   \n",
       "4     11/10/2021  python, data science, machine learning, commun...   \n",
       "5      11/7/2021  python full course, machine learning, python t...   \n",
       "6      11/2/2021  deep learning, python, data science, nlp, nlp ...   \n",
       "7     10/31/2021  convolutional neural network, cnn, deep learni...   \n",
       "8     10/29/2021  data science, python, learn python, data scien...   \n",
       "9     10/28/2021  standard deviation, std in r, standard deviati...   \n",
       "\n",
       "   VIDIQ SCORE  VIEWS  YT LIKES  ...  FB COMMENTS  FB SHARES  TWEETS  \\\n",
       "0    25.788569    387        23  ...            0          0       0   \n",
       "1    23.536470    230        20  ...            0          0       0   \n",
       "2    30.313796   1101        67  ...            0          0       0   \n",
       "3    31.732286   1528       118  ...            0          0       0   \n",
       "4    29.910318   1003        40  ...            0          0       0   \n",
       "5    36.199277   4289       117  ...            0          0       0   \n",
       "6    28.990674    811        33  ...            0          0       0   \n",
       "7    28.617476    744        24  ...            0          0       0   \n",
       "8    35.798859   3910       148  ...            0          0       0   \n",
       "9    28.535258    730        32  ...            0          0       0   \n",
       "\n",
       "   REDDIT UPVOTES  REDDIT POSTS  REDDIT COMMENTS  DESC LINK COUNT  \\\n",
       "0               0             0                0               21   \n",
       "1               0             0                0               20   \n",
       "2               0             0                0               23   \n",
       "3               0             0                0               25   \n",
       "4               0             0                0               18   \n",
       "5               0             0                0               22   \n",
       "6               0             0                0               18   \n",
       "7               0             0                0               18   \n",
       "8               0             0                0               20   \n",
       "9               0             0                0               20   \n",
       "\n",
       "   DESC WORD COUNT  CREATOR SUGGESTED  ENGAGEMENT RATE  \n",
       "0              160                  5                3  \n",
       "1              216                  8                3  \n",
       "2              171                  3                3  \n",
       "3              191                  5                3  \n",
       "4              111                  5                2  \n",
       "5              445                  3                2  \n",
       "6              204                  9                2  \n",
       "7              125                  3                2  \n",
       "8              132                  5                2  \n",
       "9              164                  7                2  \n",
       "\n",
       "[10 rows x 24 columns]"
      ]
     },
     "execution_count": 70,
     "metadata": {},
     "output_type": "execute_result"
    }
   ],
   "source": [
    "df.head(10)"
   ]
  },
  {
   "cell_type": "code",
   "execution_count": 69,
   "id": "dadc75d9",
   "metadata": {},
   "outputs": [
    {
     "data": {
      "text/plain": [
       "(10, 24)"
      ]
     },
     "execution_count": 69,
     "metadata": {},
     "output_type": "execute_result"
    }
   ],
   "source": [
    "df.shape"
   ]
  },
  {
   "cell_type": "code",
   "execution_count": 71,
   "id": "0e6d38f3",
   "metadata": {},
   "outputs": [
    {
     "name": "stdout",
     "output_type": "stream",
     "text": [
      "<class 'pandas.core.frame.DataFrame'>\n",
      "RangeIndex: 10 entries, 0 to 9\n",
      "Data columns (total 24 columns):\n",
      " #   Column             Non-Null Count  Dtype  \n",
      "---  ------             --------------  -----  \n",
      " 0   ID                 10 non-null     object \n",
      " 1   TITLE              10 non-null     object \n",
      " 2   DESCRIPTION        10 non-null     object \n",
      " 3   DURATION           10 non-null     object \n",
      " 4   STATUS             10 non-null     object \n",
      " 5   DATE PUBLISHED     10 non-null     object \n",
      " 6   KEYWORDS           10 non-null     object \n",
      " 7   VIDIQ SCORE        10 non-null     float64\n",
      " 8   VIEWS              10 non-null     int64  \n",
      " 9   YT LIKES           10 non-null     int64  \n",
      " 10  YT DISLIKES        10 non-null     int64  \n",
      " 11  YT COMMENTS        10 non-null     int64  \n",
      " 12  FB LIKES           10 non-null     int64  \n",
      " 13  FB REACTIONS       10 non-null     int64  \n",
      " 14  FB COMMENTS        10 non-null     int64  \n",
      " 15  FB SHARES          10 non-null     int64  \n",
      " 16  TWEETS             10 non-null     int64  \n",
      " 17  REDDIT UPVOTES     10 non-null     int64  \n",
      " 18  REDDIT POSTS       10 non-null     int64  \n",
      " 19  REDDIT COMMENTS    10 non-null     int64  \n",
      " 20  DESC LINK COUNT    10 non-null     int64  \n",
      " 21  DESC WORD COUNT    10 non-null     int64  \n",
      " 22  CREATOR SUGGESTED  10 non-null     int64  \n",
      " 23  ENGAGEMENT RATE    10 non-null     int64  \n",
      "dtypes: float64(1), int64(16), object(7)\n",
      "memory usage: 2.0+ KB\n"
     ]
    }
   ],
   "source": [
    "df.info()"
   ]
  },
  {
   "cell_type": "code",
   "execution_count": 72,
   "id": "19979171",
   "metadata": {},
   "outputs": [],
   "source": [
    "#Binary Types\n",
    "\n",
    "byte_arr = bytearray('ABCDEF','utf-8')"
   ]
  },
  {
   "cell_type": "code",
   "execution_count": 73,
   "id": "e543bf42",
   "metadata": {},
   "outputs": [
    {
     "data": {
      "text/plain": [
       "bytearray"
      ]
     },
     "execution_count": 73,
     "metadata": {},
     "output_type": "execute_result"
    }
   ],
   "source": [
    "type(byte_arr)"
   ]
  },
  {
   "cell_type": "code",
   "execution_count": 74,
   "id": "21d040a5",
   "metadata": {},
   "outputs": [
    {
     "data": {
      "text/plain": [
       "bytearray(b'ABCDEF')"
      ]
     },
     "execution_count": 74,
     "metadata": {},
     "output_type": "execute_result"
    }
   ],
   "source": [
    "byte_arr"
   ]
  },
  {
   "cell_type": "code",
   "execution_count": 75,
   "id": "a57a3b96",
   "metadata": {},
   "outputs": [
    {
     "data": {
      "text/plain": [
       "<memory at 0x000001F3D0FC54C0>"
      ]
     },
     "execution_count": 75,
     "metadata": {},
     "output_type": "execute_result"
    }
   ],
   "source": [
    "memoryview(byte_arr)"
   ]
  },
  {
   "cell_type": "code",
   "execution_count": 76,
   "id": "a4c19d5c",
   "metadata": {},
   "outputs": [
    {
     "data": {
      "text/plain": [
       "65"
      ]
     },
     "execution_count": 76,
     "metadata": {},
     "output_type": "execute_result"
    }
   ],
   "source": [
    "memoryview(byte_arr)[0]"
   ]
  },
  {
   "cell_type": "code",
   "execution_count": 77,
   "id": "b0536ec8",
   "metadata": {},
   "outputs": [],
   "source": [
    "mv = memoryview(byte_arr)\n",
    "mv[0] = 97"
   ]
  },
  {
   "cell_type": "code",
   "execution_count": 78,
   "id": "d4fcde61",
   "metadata": {},
   "outputs": [
    {
     "data": {
      "text/plain": [
       "97"
      ]
     },
     "execution_count": 78,
     "metadata": {},
     "output_type": "execute_result"
    }
   ],
   "source": [
    "memoryview(byte_arr)[0]"
   ]
  },
  {
   "cell_type": "code",
   "execution_count": 79,
   "id": "4337265e",
   "metadata": {},
   "outputs": [
    {
     "data": {
      "text/plain": [
       "bytearray(b'aBCDEF')"
      ]
     },
     "execution_count": 79,
     "metadata": {},
     "output_type": "execute_result"
    }
   ],
   "source": [
    "byte_arr"
   ]
  },
  {
   "cell_type": "code",
   "execution_count": null,
   "id": "bf80e1b1",
   "metadata": {},
   "outputs": [],
   "source": []
  }
 ],
 "metadata": {
  "kernelspec": {
   "display_name": "Python 3 (ipykernel)",
   "language": "python",
   "name": "python3"
  },
  "language_info": {
   "codemirror_mode": {
    "name": "ipython",
    "version": 3
   },
   "file_extension": ".py",
   "mimetype": "text/x-python",
   "name": "python",
   "nbconvert_exporter": "python",
   "pygments_lexer": "ipython3",
   "version": "3.9.13"
  }
 },
 "nbformat": 4,
 "nbformat_minor": 5
}
