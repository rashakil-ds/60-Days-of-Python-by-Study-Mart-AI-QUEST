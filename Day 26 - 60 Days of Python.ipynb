{
 "cells": [
  {
   "cell_type": "markdown",
   "id": "041f5e70",
   "metadata": {},
   "source": [
    "Learn Data Science: https://aiquest.org/ <br>\n",
    "Python for Everybody: https://aiquest.org/courses/python-for-everybody/ <br>\n",
    "Join Facebook Group: https://www.facebook.com/groups/StudyMart <br>\n",
    "Cell/WhatsApp: +8801704265972"
   ]
  },
  {
   "cell_type": "markdown",
   "id": "b8154138",
   "metadata": {},
   "source": [
    "# Python Break Statement"
   ]
  },
  {
   "cell_type": "code",
   "execution_count": 1,
   "id": "1b6840a8",
   "metadata": {},
   "outputs": [
    {
     "name": "stdout",
     "output_type": "stream",
     "text": [
      "1\n",
      "2\n",
      "3\n",
      "4\n",
      "5\n",
      "6\n",
      "7\n",
      "8\n",
      "9\n",
      "10\n"
     ]
    }
   ],
   "source": [
    "for i in range(1,100):\n",
    "    if i == 11:\n",
    "        break\n",
    "    print(i)"
   ]
  },
  {
   "cell_type": "code",
   "execution_count": 2,
   "id": "d9c906f1",
   "metadata": {},
   "outputs": [
    {
     "name": "stdout",
     "output_type": "stream",
     "text": [
      "3 * 1 =  3\n",
      "3 * 2 =  6\n",
      "3 * 3 =  9\n",
      "3 * 4 =  12\n",
      "3 * 5 =  15\n",
      "3 * 6 =  18\n",
      "3 * 7 =  21\n",
      "3 * 8 =  24\n",
      "3 * 9 =  27\n",
      "3 * 10 =  30\n"
     ]
    }
   ],
   "source": [
    "for i in range(1,100):\n",
    "    if i == 11:\n",
    "        break\n",
    "    print('3 *',i,'= ',i*3)"
   ]
  },
  {
   "cell_type": "code",
   "execution_count": 3,
   "id": "a29e3794",
   "metadata": {},
   "outputs": [],
   "source": [
    "sen = 'I love Bangladesh and Germany'"
   ]
  },
  {
   "cell_type": "code",
   "execution_count": 4,
   "id": "d636c7ff",
   "metadata": {},
   "outputs": [
    {
     "name": "stdout",
     "output_type": "stream",
     "text": [
      "I\n",
      "love\n",
      "Bangladesh\n"
     ]
    }
   ],
   "source": [
    "for i in sen.split():\n",
    "    if i=='and':\n",
    "        break\n",
    "    print(i)"
   ]
  },
  {
   "cell_type": "code",
   "execution_count": 5,
   "id": "a4dd8003",
   "metadata": {},
   "outputs": [
    {
     "name": "stdout",
     "output_type": "stream",
     "text": [
      "3 * 1 =  3\n",
      "3 * 2 =  6\n",
      "3 * 3 =  9\n",
      "3 * 4 =  12\n",
      "3 * 5 =  15\n",
      "3 * 6 =  18\n",
      "3 * 7 =  21\n",
      "3 * 8 =  24\n",
      "3 * 9 =  27\n",
      "3 * 10 =  30\n"
     ]
    }
   ],
   "source": [
    "for i in range(1,100):\n",
    "    if i == 11:\n",
    "        break\n",
    "    print('3 *',i,'= ',i*3)"
   ]
  },
  {
   "cell_type": "code",
   "execution_count": 6,
   "id": "054e85e0",
   "metadata": {},
   "outputs": [
    {
     "name": "stdout",
     "output_type": "stream",
     "text": [
      "5 * 1 = 3\n",
      "5 * 2 = 6\n",
      "5 * 3 = 9\n",
      "5 * 4 = 12\n",
      "5 * 5 = 15\n",
      "5 * 6 = 18\n",
      "5 * 7 = 21\n",
      "5 * 8 = 24\n",
      "5 * 9 = 27\n",
      "5 * 10 = 30\n"
     ]
    }
   ],
   "source": [
    "i = 1\n",
    "while i<=100:\n",
    "    if i==11:\n",
    "        break\n",
    "    print('5 *',i,'=',3*i)\n",
    "    i = i+1"
   ]
  },
  {
   "cell_type": "code",
   "execution_count": null,
   "id": "e250c0cd",
   "metadata": {},
   "outputs": [],
   "source": []
  }
 ],
 "metadata": {
  "kernelspec": {
   "display_name": "Python 3 (ipykernel)",
   "language": "python",
   "name": "python3"
  },
  "language_info": {
   "codemirror_mode": {
    "name": "ipython",
    "version": 3
   },
   "file_extension": ".py",
   "mimetype": "text/x-python",
   "name": "python",
   "nbconvert_exporter": "python",
   "pygments_lexer": "ipython3",
   "version": "3.9.13"
  }
 },
 "nbformat": 4,
 "nbformat_minor": 5
}
