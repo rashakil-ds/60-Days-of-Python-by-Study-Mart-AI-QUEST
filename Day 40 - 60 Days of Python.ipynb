{
 "cells": [
  {
   "cell_type": "code",
   "execution_count": 1,
   "id": "e05be992",
   "metadata": {},
   "outputs": [
    {
     "name": "stdout",
     "output_type": "stream",
     "text": [
      "Requirement already satisfied: pytube in c:\\users\\rashe\\anaconda3\\lib\\site-packages (15.0.0)\n"
     ]
    },
    {
     "name": "stderr",
     "output_type": "stream",
     "text": [
      "WARNING: Ignoring invalid distribution -rotobuf (c:\\users\\rashe\\anaconda3\\lib\\site-packages)\n",
      "WARNING: Ignoring invalid distribution -rotobuf (c:\\users\\rashe\\anaconda3\\lib\\site-packages)\n"
     ]
    }
   ],
   "source": [
    "!pip install pytube"
   ]
  },
  {
   "cell_type": "code",
   "execution_count": 2,
   "id": "32f0cae1",
   "metadata": {},
   "outputs": [],
   "source": [
    "from pytube import YouTube"
   ]
  },
  {
   "cell_type": "code",
   "execution_count": 3,
   "id": "fadeef66",
   "metadata": {},
   "outputs": [],
   "source": [
    "url = 'https://youtu.be/N8TuSqD7EcA'\n",
    "yt = YouTube(url)"
   ]
  },
  {
   "cell_type": "code",
   "execution_count": 5,
   "id": "cd78ff8f",
   "metadata": {},
   "outputs": [],
   "source": [
    "stream = yt.streams.get_highest_resolution()"
   ]
  },
  {
   "cell_type": "code",
   "execution_count": 6,
   "id": "75fd255d",
   "metadata": {},
   "outputs": [
    {
     "name": "stdout",
     "output_type": "stream",
     "text": [
      "Donwload Completed\n"
     ]
    }
   ],
   "source": [
    "stream.download()\n",
    "print('Donwload Completed')"
   ]
  },
  {
   "cell_type": "code",
   "execution_count": 10,
   "id": "e0cde1b7",
   "metadata": {},
   "outputs": [
    {
     "name": "stdout",
     "output_type": "stream",
     "text": [
      "4000p not available!\n"
     ]
    }
   ],
   "source": [
    "stream = yt.streams.filter(progressive=True, res='720p').first()\n",
    "\n",
    "if stream:\n",
    "    stream.download()\n",
    "    print('Donwload Completed')\n",
    "else:\n",
    "    print('720p not available!')"
   ]
  },
  {
   "cell_type": "code",
   "execution_count": null,
   "id": "1d26b5b9",
   "metadata": {},
   "outputs": [],
   "source": [
    "stream = yt.streams.filter(progressive=True, res='4000p').first()\n",
    "\n",
    "if stream:\n",
    "    stream.download()\n",
    "    print('Donwload Completed')\n",
    "else:\n",
    "    print('4000p not available!')"
   ]
  }
 ],
 "metadata": {
  "kernelspec": {
   "display_name": "Python 3 (ipykernel)",
   "language": "python",
   "name": "python3"
  },
  "language_info": {
   "codemirror_mode": {
    "name": "ipython",
    "version": 3
   },
   "file_extension": ".py",
   "mimetype": "text/x-python",
   "name": "python",
   "nbconvert_exporter": "python",
   "pygments_lexer": "ipython3",
   "version": "3.9.13"
  }
 },
 "nbformat": 4,
 "nbformat_minor": 5
}
