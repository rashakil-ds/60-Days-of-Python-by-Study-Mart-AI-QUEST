{
 "cells": [
  {
   "cell_type": "markdown",
   "id": "d65136cd",
   "metadata": {},
   "source": [
    "Learn Data Science: https://aiquest.org/ <br>\n",
    "Python for Everybody: https://aiquest.org/courses/python-for-everybody/ <br>\n",
    "Join Facebook Group: https://www.facebook.com/groups/StudyMart <br>\n",
    "Cell/WhatsApp: +8801704265972"
   ]
  },
  {
   "cell_type": "code",
   "execution_count": 1,
   "id": "e6384597",
   "metadata": {},
   "outputs": [],
   "source": [
    "main = 'You have got to be selected by a Barcelona scout'\n",
    "\n",
    "search_word = 'Barcelona'\n",
    "replace_word = \"Bayern Munich\"\n",
    "\n",
    "with open(r'text1.txt', 'r') as file:\n",
    "    data = file.read()\n",
    "    data = data.replace(search_word, replace_word)\n"
   ]
  },
  {
   "cell_type": "code",
   "execution_count": 2,
   "id": "e2e998a5",
   "metadata": {},
   "outputs": [],
   "source": [
    "with open(r'text1.txt', 'w') as file:\n",
    "    file.write(data)"
   ]
  },
  {
   "cell_type": "code",
   "execution_count": 3,
   "id": "843034fe",
   "metadata": {},
   "outputs": [],
   "source": [
    "import re"
   ]
  },
  {
   "cell_type": "code",
   "execution_count": 4,
   "id": "01a008f3",
   "metadata": {},
   "outputs": [
    {
     "data": {
      "text/plain": [
       "'You have got to be selected by a Bayern Munich scout'"
      ]
     },
     "execution_count": 4,
     "metadata": {},
     "output_type": "execute_result"
    }
   ],
   "source": [
    "re.sub(search_word , replace_word, main )"
   ]
  },
  {
   "cell_type": "markdown",
   "id": "ba9479cb",
   "metadata": {},
   "source": [
    "Our Paid Courses on Data Science: https://allmylinks.com/studymart-paid-courses"
   ]
  },
  {
   "cell_type": "code",
   "execution_count": null,
   "id": "beb32ea6",
   "metadata": {},
   "outputs": [],
   "source": []
  }
 ],
 "metadata": {
  "kernelspec": {
   "display_name": "Python 3 (ipykernel)",
   "language": "python",
   "name": "python3"
  },
  "language_info": {
   "codemirror_mode": {
    "name": "ipython",
    "version": 3
   },
   "file_extension": ".py",
   "mimetype": "text/x-python",
   "name": "python",
   "nbconvert_exporter": "python",
   "pygments_lexer": "ipython3",
   "version": "3.9.13"
  }
 },
 "nbformat": 4,
 "nbformat_minor": 5
}
