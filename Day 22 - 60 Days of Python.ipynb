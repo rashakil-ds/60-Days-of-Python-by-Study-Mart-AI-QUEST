{
 "cells": [
  {
   "cell_type": "markdown",
   "id": "ae2f30c4",
   "metadata": {},
   "source": [
    "Learn Data Science: https://aiquest.org/ <br>\n",
    "Python for Everybody: https://aiquest.org/courses/python-for-everybody/ <br>\n",
    "Join Facebook Group: https://www.facebook.com/groups/StudyMart <br>\n",
    "Cell/WhatsApp: +8801704265972"
   ]
  },
  {
   "cell_type": "code",
   "execution_count": 1,
   "id": "52515b65",
   "metadata": {},
   "outputs": [],
   "source": [
    "name = ['shakil', 'mejbah', 'sohan']\n",
    "varsity = ['diu', 'aiub','diu']"
   ]
  },
  {
   "cell_type": "code",
   "execution_count": 2,
   "id": "e8f49585",
   "metadata": {},
   "outputs": [
    {
     "name": "stdout",
     "output_type": "stream",
     "text": [
      "<zip object at 0x000001D2DDB66C40>\n"
     ]
    }
   ],
   "source": [
    "# ('shakil', 'diu'), ('mejbah,'aiub',..........)\n",
    "zipped = zip(name, varsity)\n",
    "print(zipped)"
   ]
  },
  {
   "cell_type": "code",
   "execution_count": 3,
   "id": "e5de0fa6",
   "metadata": {},
   "outputs": [
    {
     "name": "stdout",
     "output_type": "stream",
     "text": [
      "[('shakil', 'diu'), ('mejbah', 'aiub'), ('sohan', 'diu')]\n"
     ]
    }
   ],
   "source": [
    "zipped = list(zip(name, varsity))\n",
    "print(zipped)"
   ]
  },
  {
   "cell_type": "code",
   "execution_count": 4,
   "id": "c65935d7",
   "metadata": {},
   "outputs": [
    {
     "name": "stdout",
     "output_type": "stream",
     "text": [
      "(('shakil', 'diu'), ('mejbah', 'aiub'), ('sohan', 'diu'))\n"
     ]
    }
   ],
   "source": [
    "zipped = tuple(zip(name, varsity))\n",
    "print(zipped)"
   ]
  },
  {
   "cell_type": "code",
   "execution_count": 5,
   "id": "1a6ce917",
   "metadata": {},
   "outputs": [
    {
     "name": "stdout",
     "output_type": "stream",
     "text": [
      "{'shakil': 'diu', 'mejbah': 'aiub', 'sohan': 'diu'}\n"
     ]
    }
   ],
   "source": [
    "zipped = dict(zip(name, varsity))\n",
    "print(zipped)"
   ]
  },
  {
   "cell_type": "code",
   "execution_count": 6,
   "id": "c7a006e1",
   "metadata": {},
   "outputs": [
    {
     "data": {
      "text/plain": [
       "dict_keys(['shakil', 'mejbah', 'sohan'])"
      ]
     },
     "execution_count": 6,
     "metadata": {},
     "output_type": "execute_result"
    }
   ],
   "source": [
    "zipped.keys()"
   ]
  },
  {
   "cell_type": "code",
   "execution_count": 7,
   "id": "0e416325",
   "metadata": {},
   "outputs": [
    {
     "data": {
      "text/plain": [
       "dict_values(['diu', 'aiub', 'diu'])"
      ]
     },
     "execution_count": 7,
     "metadata": {},
     "output_type": "execute_result"
    }
   ],
   "source": [
    "zipped.values()"
   ]
  },
  {
   "cell_type": "code",
   "execution_count": 8,
   "id": "0e4449d5",
   "metadata": {},
   "outputs": [
    {
     "name": "stdout",
     "output_type": "stream",
     "text": [
      "{('mejbah', 'aiub'), ('sohan', 'diu'), ('shakil', 'diu')}\n"
     ]
    }
   ],
   "source": [
    "zipped = set(zip(name, varsity))\n",
    "print(zipped)"
   ]
  },
  {
   "cell_type": "markdown",
   "id": "b5978891",
   "metadata": {},
   "source": [
    "# Unzip"
   ]
  },
  {
   "cell_type": "code",
   "execution_count": 9,
   "id": "e5eb4740",
   "metadata": {},
   "outputs": [
    {
     "name": "stdout",
     "output_type": "stream",
     "text": [
      "[('shakil', 'diu'), ('mejbah', 'aiub'), ('sohan', 'diu')]\n"
     ]
    }
   ],
   "source": [
    "zipped = list(zip(name, varsity))\n",
    "print(zipped)"
   ]
  },
  {
   "cell_type": "code",
   "execution_count": 10,
   "id": "cc5633fb",
   "metadata": {},
   "outputs": [],
   "source": [
    "name1, varsity1 = zip(*zipped)"
   ]
  },
  {
   "cell_type": "code",
   "execution_count": 11,
   "id": "edd243bb",
   "metadata": {},
   "outputs": [
    {
     "data": {
      "text/plain": [
       "('shakil', 'mejbah', 'sohan')"
      ]
     },
     "execution_count": 11,
     "metadata": {},
     "output_type": "execute_result"
    }
   ],
   "source": [
    "name1"
   ]
  },
  {
   "cell_type": "code",
   "execution_count": 12,
   "id": "4d121f15",
   "metadata": {},
   "outputs": [
    {
     "data": {
      "text/plain": [
       "('diu', 'aiub', 'diu')"
      ]
     },
     "execution_count": 12,
     "metadata": {},
     "output_type": "execute_result"
    }
   ],
   "source": [
    "varsity1"
   ]
  },
  {
   "cell_type": "code",
   "execution_count": null,
   "id": "768d69c3",
   "metadata": {},
   "outputs": [],
   "source": []
  }
 ],
 "metadata": {
  "kernelspec": {
   "display_name": "Python 3 (ipykernel)",
   "language": "python",
   "name": "python3"
  },
  "language_info": {
   "codemirror_mode": {
    "name": "ipython",
    "version": 3
   },
   "file_extension": ".py",
   "mimetype": "text/x-python",
   "name": "python",
   "nbconvert_exporter": "python",
   "pygments_lexer": "ipython3",
   "version": "3.9.13"
  }
 },
 "nbformat": 4,
 "nbformat_minor": 5
}
