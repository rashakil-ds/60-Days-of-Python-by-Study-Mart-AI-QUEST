{
 "cells": [
  {
   "cell_type": "markdown",
   "id": "70eb7a62",
   "metadata": {},
   "source": [
    "Learn Data Science: https://aiquest.org/ <br>\n",
    "Python for Everybody: https://aiquest.org/courses/python-for-everybody/ <br>\n",
    "Join Facebook Group: https://www.facebook.com/groups/StudyMart <br>\n",
    "Cell/WhatsApp: +8801704265972"
   ]
  },
  {
   "cell_type": "markdown",
   "id": "3e79c503",
   "metadata": {},
   "source": [
    "# Dictionaries"
   ]
  },
  {
   "cell_type": "code",
   "execution_count": 1,
   "id": "fac980b1",
   "metadata": {},
   "outputs": [],
   "source": [
    "dic = {\n",
    "    'name':'shakil' ,\n",
    "    'varisty': 'DIU',\n",
    "}"
   ]
  },
  {
   "cell_type": "code",
   "execution_count": 2,
   "id": "5787eb08",
   "metadata": {},
   "outputs": [
    {
     "data": {
      "text/plain": [
       "{'name': 'shakil', 'varisty': 'DIU'}"
      ]
     },
     "execution_count": 2,
     "metadata": {},
     "output_type": "execute_result"
    }
   ],
   "source": [
    "dic"
   ]
  },
  {
   "cell_type": "code",
   "execution_count": 3,
   "id": "f459aa7d",
   "metadata": {},
   "outputs": [
    {
     "data": {
      "text/plain": [
       "dict_keys(['name', 'varisty'])"
      ]
     },
     "execution_count": 3,
     "metadata": {},
     "output_type": "execute_result"
    }
   ],
   "source": [
    "dic.keys()"
   ]
  },
  {
   "cell_type": "code",
   "execution_count": 4,
   "id": "399556f7",
   "metadata": {},
   "outputs": [
    {
     "data": {
      "text/plain": [
       "dict"
      ]
     },
     "execution_count": 4,
     "metadata": {},
     "output_type": "execute_result"
    }
   ],
   "source": [
    "type(dic)"
   ]
  },
  {
   "cell_type": "code",
   "execution_count": 5,
   "id": "a1aa695c",
   "metadata": {},
   "outputs": [
    {
     "data": {
      "text/plain": [
       "dict_values(['shakil', 'DIU'])"
      ]
     },
     "execution_count": 5,
     "metadata": {},
     "output_type": "execute_result"
    }
   ],
   "source": [
    "dic.values()"
   ]
  },
  {
   "cell_type": "code",
   "execution_count": 6,
   "id": "e3eeda7e",
   "metadata": {},
   "outputs": [],
   "source": [
    "#copy\n",
    "dic2 = dic.copy()"
   ]
  },
  {
   "cell_type": "code",
   "execution_count": 7,
   "id": "e0a63cad",
   "metadata": {},
   "outputs": [
    {
     "data": {
      "text/plain": [
       "{'name': 'shakil', 'varisty': 'DIU'}"
      ]
     },
     "execution_count": 7,
     "metadata": {},
     "output_type": "execute_result"
    }
   ],
   "source": [
    "dic2"
   ]
  },
  {
   "cell_type": "code",
   "execution_count": 10,
   "id": "1bd4e9ce",
   "metadata": {},
   "outputs": [],
   "source": [
    "dic['varisty'] = 'FAU'"
   ]
  },
  {
   "cell_type": "code",
   "execution_count": 11,
   "id": "be67f301",
   "metadata": {},
   "outputs": [
    {
     "data": {
      "text/plain": [
       "{'name': 'shakil', 'varisty': 'FAU'}"
      ]
     },
     "execution_count": 11,
     "metadata": {},
     "output_type": "execute_result"
    }
   ],
   "source": [
    "dic"
   ]
  },
  {
   "cell_type": "code",
   "execution_count": 14,
   "id": "e495fe23",
   "metadata": {},
   "outputs": [],
   "source": [
    "dic['dept'] = 'Data Science'"
   ]
  },
  {
   "cell_type": "code",
   "execution_count": 15,
   "id": "7f15fc66",
   "metadata": {},
   "outputs": [
    {
     "data": {
      "text/plain": [
       "{'name': 'shakil', 'varisty': 'FAU', 'dept': 'Data Science'}"
      ]
     },
     "execution_count": 15,
     "metadata": {},
     "output_type": "execute_result"
    }
   ],
   "source": [
    "dic"
   ]
  },
  {
   "cell_type": "code",
   "execution_count": 16,
   "id": "d87abeeb",
   "metadata": {},
   "outputs": [],
   "source": [
    "dic.update({'dept':'ai'})"
   ]
  },
  {
   "cell_type": "code",
   "execution_count": 17,
   "id": "6f2cf686",
   "metadata": {},
   "outputs": [
    {
     "data": {
      "text/plain": [
       "{'name': 'shakil', 'varisty': 'FAU', 'dept': 'ai'}"
      ]
     },
     "execution_count": 17,
     "metadata": {},
     "output_type": "execute_result"
    }
   ],
   "source": [
    "dic"
   ]
  },
  {
   "cell_type": "code",
   "execution_count": 18,
   "id": "49d8b494",
   "metadata": {},
   "outputs": [
    {
     "data": {
      "text/plain": [
       "('dept', 'ai')"
      ]
     },
     "execution_count": 18,
     "metadata": {},
     "output_type": "execute_result"
    }
   ],
   "source": [
    "dic.popitem()"
   ]
  },
  {
   "cell_type": "code",
   "execution_count": 19,
   "id": "af69630a",
   "metadata": {},
   "outputs": [
    {
     "data": {
      "text/plain": [
       "{'name': 'shakil', 'varisty': 'FAU'}"
      ]
     },
     "execution_count": 19,
     "metadata": {},
     "output_type": "execute_result"
    }
   ],
   "source": [
    "dic"
   ]
  },
  {
   "cell_type": "code",
   "execution_count": 21,
   "id": "60a1a335",
   "metadata": {},
   "outputs": [
    {
     "data": {
      "text/plain": [
       "'FAU'"
      ]
     },
     "execution_count": 21,
     "metadata": {},
     "output_type": "execute_result"
    }
   ],
   "source": [
    "dic.pop('varisty')"
   ]
  },
  {
   "cell_type": "code",
   "execution_count": 23,
   "id": "64801dd7",
   "metadata": {},
   "outputs": [
    {
     "data": {
      "text/plain": [
       "{'name': 'shakil'}"
      ]
     },
     "execution_count": 23,
     "metadata": {},
     "output_type": "execute_result"
    }
   ],
   "source": [
    "dic"
   ]
  },
  {
   "cell_type": "code",
   "execution_count": 24,
   "id": "89716edc",
   "metadata": {},
   "outputs": [],
   "source": [
    "dic['dept'] = 'Data Science'"
   ]
  },
  {
   "cell_type": "code",
   "execution_count": 25,
   "id": "03e230cd",
   "metadata": {},
   "outputs": [
    {
     "data": {
      "text/plain": [
       "{'name': 'shakil', 'dept': 'Data Science'}"
      ]
     },
     "execution_count": 25,
     "metadata": {},
     "output_type": "execute_result"
    }
   ],
   "source": [
    "dic"
   ]
  },
  {
   "cell_type": "code",
   "execution_count": 26,
   "id": "0bfbbb08",
   "metadata": {},
   "outputs": [],
   "source": [
    "del dic['name']"
   ]
  },
  {
   "cell_type": "code",
   "execution_count": 27,
   "id": "bcfa4c83",
   "metadata": {},
   "outputs": [
    {
     "data": {
      "text/plain": [
       "{'dept': 'Data Science'}"
      ]
     },
     "execution_count": 27,
     "metadata": {},
     "output_type": "execute_result"
    }
   ],
   "source": [
    "dic"
   ]
  },
  {
   "cell_type": "code",
   "execution_count": 28,
   "id": "997173ac",
   "metadata": {},
   "outputs": [],
   "source": [
    "dic['dept2'] = 'ai'"
   ]
  },
  {
   "cell_type": "code",
   "execution_count": 29,
   "id": "6ad16d1c",
   "metadata": {},
   "outputs": [
    {
     "data": {
      "text/plain": [
       "{'dept': 'Data Science', 'dept2': 'ai'}"
      ]
     },
     "execution_count": 29,
     "metadata": {},
     "output_type": "execute_result"
    }
   ],
   "source": [
    "dic"
   ]
  },
  {
   "cell_type": "code",
   "execution_count": 30,
   "id": "e2ec5fd6",
   "metadata": {},
   "outputs": [
    {
     "name": "stdout",
     "output_type": "stream",
     "text": [
      "Data Science\n",
      "ai\n"
     ]
    }
   ],
   "source": [
    "#print all items\n",
    "for x in dic:\n",
    "    print(dic[x])"
   ]
  },
  {
   "cell_type": "code",
   "execution_count": 31,
   "id": "c67c5225",
   "metadata": {},
   "outputs": [
    {
     "name": "stdout",
     "output_type": "stream",
     "text": [
      "dept\n",
      "dept2\n"
     ]
    }
   ],
   "source": [
    "for x in dic:\n",
    "    print(x)"
   ]
  },
  {
   "cell_type": "code",
   "execution_count": 32,
   "id": "666be943",
   "metadata": {},
   "outputs": [],
   "source": [
    "d2 = list(dic.keys())"
   ]
  },
  {
   "cell_type": "code",
   "execution_count": 33,
   "id": "5cb318c1",
   "metadata": {},
   "outputs": [
    {
     "data": {
      "text/plain": [
       "['dept', 'dept2']"
      ]
     },
     "execution_count": 33,
     "metadata": {},
     "output_type": "execute_result"
    }
   ],
   "source": [
    "d2"
   ]
  },
  {
   "cell_type": "code",
   "execution_count": 34,
   "id": "c6d3c3a1",
   "metadata": {},
   "outputs": [],
   "source": [
    "d3 = list(dic.values())"
   ]
  },
  {
   "cell_type": "code",
   "execution_count": 35,
   "id": "7d108025",
   "metadata": {},
   "outputs": [
    {
     "data": {
      "text/plain": [
       "['Data Science', 'ai']"
      ]
     },
     "execution_count": 35,
     "metadata": {},
     "output_type": "execute_result"
    }
   ],
   "source": [
    "d3"
   ]
  },
  {
   "cell_type": "code",
   "execution_count": 36,
   "id": "97b49f4d",
   "metadata": {},
   "outputs": [
    {
     "name": "stdout",
     "output_type": "stream",
     "text": [
      "3\n",
      "name\n",
      "shakil\n",
      "dept\n",
      "data science\n",
      "dept2\n",
      "NLP\n",
      "{'name': 'shakil', 'dept': 'data science', 'dept2': 'NLP'}\n"
     ]
    }
   ],
   "source": [
    "#dic from user input\n",
    "n = int(input())\n",
    "d = {}\n",
    "\n",
    "for i in range(n):\n",
    "    key = input()\n",
    "    value = input()\n",
    "    d[key]=value\n",
    "    \n",
    "print(d)\n"
   ]
  },
  {
   "cell_type": "code",
   "execution_count": 38,
   "id": "e558d4d8",
   "metadata": {},
   "outputs": [
    {
     "data": {
      "text/plain": [
       "{'name': 'shakil', 'dept': 'data science', 'dept2': 'NLP'}"
      ]
     },
     "execution_count": 38,
     "metadata": {},
     "output_type": "execute_result"
    }
   ],
   "source": [
    "d"
   ]
  },
  {
   "cell_type": "code",
   "execution_count": null,
   "id": "11745f8f",
   "metadata": {},
   "outputs": [],
   "source": []
  }
 ],
 "metadata": {
  "kernelspec": {
   "display_name": "Python 3 (ipykernel)",
   "language": "python",
   "name": "python3"
  },
  "language_info": {
   "codemirror_mode": {
    "name": "ipython",
    "version": 3
   },
   "file_extension": ".py",
   "mimetype": "text/x-python",
   "name": "python",
   "nbconvert_exporter": "python",
   "pygments_lexer": "ipython3",
   "version": "3.9.13"
  }
 },
 "nbformat": 4,
 "nbformat_minor": 5
}
