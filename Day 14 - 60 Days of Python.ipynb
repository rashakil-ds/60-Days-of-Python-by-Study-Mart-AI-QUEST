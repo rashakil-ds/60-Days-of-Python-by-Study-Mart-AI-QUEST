{
 "cells": [
  {
   "cell_type": "markdown",
   "id": "bc565d97",
   "metadata": {},
   "source": [
    "# List Comprehension: Elegant Way to Create List in Python\n",
    "\n",
    "List comprehensions provide a concise way to create lists in Python. It is a powerful feature that allows you to generate lists in a single line of code, making your code more readable and expressive.\n",
    "\n",
    "## Basic Syntax\n",
    "\n",
    "The basic syntax of a list comprehension is:\n",
    "\n",
    "```python\n",
    "[expression for item in iterable if condition]\n"
   ]
  },
  {
   "cell_type": "markdown",
   "id": "116ea9d9",
   "metadata": {},
   "source": [
    "1. expression: The expression to evaluate for each item in the iterable.\n",
    "2. item: The current item in the iterable.\n",
    "3. iterable: A collection of items.\n",
    "4. condition (optional): A conditional filter that can be applied to the items."
   ]
  },
  {
   "cell_type": "markdown",
   "id": "681f4ec8",
   "metadata": {},
   "source": [
    "# Simple List Comprehension\n",
    "Let's start with a simple example: creating a list of squares for numbers from 0 to 9."
   ]
  },
  {
   "cell_type": "code",
   "execution_count": 1,
   "id": "7a02cc08",
   "metadata": {},
   "outputs": [
    {
     "name": "stdout",
     "output_type": "stream",
     "text": [
      "[0, 1, 4, 9, 16, 25, 36, 49, 64, 81]\n"
     ]
    }
   ],
   "source": [
    "squares = [x**2 for x in range(10)]\n",
    "print(squares)"
   ]
  },
  {
   "cell_type": "code",
   "execution_count": 2,
   "id": "2b73c75a",
   "metadata": {},
   "outputs": [
    {
     "data": {
      "text/plain": [
       "[0, 1, 2, 3, 4, 5, 6, 7, 8, 9]"
      ]
     },
     "execution_count": 2,
     "metadata": {},
     "output_type": "execute_result"
    }
   ],
   "source": [
    "[ x for x in range(10)]"
   ]
  },
  {
   "cell_type": "code",
   "execution_count": 3,
   "id": "567b34c0",
   "metadata": {},
   "outputs": [
    {
     "name": "stdout",
     "output_type": "stream",
     "text": [
      "0\n",
      "1\n",
      "2\n",
      "3\n",
      "4\n",
      "5\n",
      "6\n",
      "7\n",
      "8\n",
      "9\n"
     ]
    }
   ],
   "source": [
    "for x in range(10):\n",
    "    print(x)"
   ]
  },
  {
   "cell_type": "markdown",
   "id": "f42b7dbd",
   "metadata": {},
   "source": [
    "# List Comprehension with Condition\n",
    "You can add a condition to the list comprehension to filter items. For example, creating a list of even numbers from 0 to 9:"
   ]
  },
  {
   "cell_type": "code",
   "execution_count": 4,
   "id": "d37bb4f9",
   "metadata": {},
   "outputs": [
    {
     "name": "stdout",
     "output_type": "stream",
     "text": [
      "[0, 2, 4, 6, 8]\n"
     ]
    }
   ],
   "source": [
    "evens = [x for x in range(10) if x % 2 == 0]\n",
    "print(evens)"
   ]
  },
  {
   "cell_type": "code",
   "execution_count": 5,
   "id": "f9f7d45d",
   "metadata": {},
   "outputs": [
    {
     "data": {
      "text/plain": [
       "['I',\n",
       " ' ',\n",
       " 'l',\n",
       " 'o',\n",
       " 'v',\n",
       " 'e',\n",
       " ' ',\n",
       " 'd',\n",
       " 'a',\n",
       " 't',\n",
       " 'a',\n",
       " ' ',\n",
       " 's',\n",
       " 'c',\n",
       " 'i',\n",
       " 'e',\n",
       " 'n',\n",
       " 'c',\n",
       " 'e']"
      ]
     },
     "execution_count": 5,
     "metadata": {},
     "output_type": "execute_result"
    }
   ],
   "source": [
    "data = 'I love data science'\n",
    "[ x for x in data]"
   ]
  },
  {
   "cell_type": "code",
   "execution_count": 6,
   "id": "06d360fd",
   "metadata": {},
   "outputs": [
    {
     "data": {
      "text/plain": [
       "['love', 'data', 'science']"
      ]
     },
     "execution_count": 6,
     "metadata": {},
     "output_type": "execute_result"
    }
   ],
   "source": [
    "data = 'I love data science'\n",
    "data = data.split()\n",
    "[ x for x in data if x!='I']"
   ]
  },
  {
   "cell_type": "markdown",
   "id": "3b2e4128",
   "metadata": {},
   "source": [
    "# Creating a Matrix Using List Comprehension in Python\n",
    "\n",
    "List comprehensions can be used to create complex data structures efficiently and concisely. Below is an example of using nested list comprehensions to create a matrix.\n",
    "\n",
    "```python\n",
    "matrix = [[j for j in range(5)] for i in range(3)]\n",
    "print(matrix)\n"
   ]
  },
  {
   "cell_type": "code",
   "execution_count": 7,
   "id": "81760b8a",
   "metadata": {},
   "outputs": [
    {
     "name": "stdout",
     "output_type": "stream",
     "text": [
      "[[0, 1, 2, 3, 4], [0, 1, 2, 3, 4], [0, 1, 2, 3, 4]]\n"
     ]
    }
   ],
   "source": [
    "matrix = [[j for j in range(5)] for i in range(3)]\n",
    "print(matrix)"
   ]
  },
  {
   "cell_type": "markdown",
   "id": "2853d6a1",
   "metadata": {},
   "source": [
    "# Using Functions in List Comprehensions\n",
    "You can also use functions within list comprehensions. For example, creating a list of lengths of each word in a list:"
   ]
  },
  {
   "cell_type": "code",
   "execution_count": 8,
   "id": "bd11d942",
   "metadata": {},
   "outputs": [
    {
     "name": "stdout",
     "output_type": "stream",
     "text": [
      "[6, 4, 13, 7]\n"
     ]
    }
   ],
   "source": [
    "words = [\"Python\", \"List\", \"Comprehension\", \"Example\"]\n",
    "lengths = [len(word) for word in words]\n",
    "print(lengths)"
   ]
  },
  {
   "cell_type": "code",
   "execution_count": null,
   "id": "7ea9d48e",
   "metadata": {},
   "outputs": [],
   "source": []
  },
  {
   "cell_type": "code",
   "execution_count": null,
   "id": "e1def2c6",
   "metadata": {},
   "outputs": [],
   "source": []
  }
 ],
 "metadata": {
  "kernelspec": {
   "display_name": "Python 3 (ipykernel)",
   "language": "python",
   "name": "python3"
  },
  "language_info": {
   "codemirror_mode": {
    "name": "ipython",
    "version": 3
   },
   "file_extension": ".py",
   "mimetype": "text/x-python",
   "name": "python",
   "nbconvert_exporter": "python",
   "pygments_lexer": "ipython3",
   "version": "3.9.13"
  }
 },
 "nbformat": 4,
 "nbformat_minor": 5
}
