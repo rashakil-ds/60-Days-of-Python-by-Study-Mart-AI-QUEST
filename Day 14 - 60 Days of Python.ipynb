{
 "cells": [
  {
   "cell_type": "markdown",
   "id": "fa3f02b8",
   "metadata": {},
   "source": [
    "Learn Data Science: https://aiquest.org/ <br>\n",
    "Python for Everybody: https://aiquest.org/courses/python-for-everybody/ <br>\n",
    "Join Facebook Group: https://www.facebook.com/groups/StudyMart <br>\n",
    "Cell/WhatsApp: +8801704265972"
   ]
  },
  {
   "cell_type": "markdown",
   "id": "3c9152af",
   "metadata": {},
   "source": [
    "# List Comprehension: Elegant Way to Create Lists"
   ]
  },
  {
   "cell_type": "code",
   "execution_count": 1,
   "id": "b18d3387",
   "metadata": {},
   "outputs": [
    {
     "data": {
      "text/plain": [
       "[0, 1, 2, 3, 4, 5, 6, 7, 8, 9]"
      ]
     },
     "execution_count": 1,
     "metadata": {},
     "output_type": "execute_result"
    }
   ],
   "source": [
    "list1 = [] #empty list\n",
    "\n",
    "for x in range(10):\n",
    "    list1.append(x)\n",
    "list1"
   ]
  },
  {
   "cell_type": "code",
   "execution_count": 2,
   "id": "eb16fe90",
   "metadata": {},
   "outputs": [
    {
     "data": {
      "text/plain": [
       "[0, 1, 2, 3, 4, 5, 6, 7, 8, 9]"
      ]
     },
     "execution_count": 2,
     "metadata": {},
     "output_type": "execute_result"
    }
   ],
   "source": [
    "list2 = [ x for x in range(10) ]\n",
    "list2"
   ]
  },
  {
   "cell_type": "code",
   "execution_count": 8,
   "id": "25e8fd09",
   "metadata": {},
   "outputs": [
    {
     "data": {
      "text/plain": [
       "[0, 2, 4, 6, 8]"
      ]
     },
     "execution_count": 8,
     "metadata": {},
     "output_type": "execute_result"
    }
   ],
   "source": [
    "list3 = [] #empty list\n",
    "\n",
    "for x in range(10):\n",
    "    if x%2 == 0: # even\n",
    "        list3.append(x)\n",
    "    \n",
    "list3"
   ]
  },
  {
   "cell_type": "code",
   "execution_count": 6,
   "id": "9e71da08",
   "metadata": {},
   "outputs": [
    {
     "data": {
      "text/plain": [
       "1"
      ]
     },
     "execution_count": 6,
     "metadata": {},
     "output_type": "execute_result"
    }
   ],
   "source": [
    "7%2"
   ]
  },
  {
   "cell_type": "code",
   "execution_count": 9,
   "id": "7d1c7b66",
   "metadata": {},
   "outputs": [
    {
     "data": {
      "text/plain": [
       "[1, 3, 5, 7, 9]"
      ]
     },
     "execution_count": 9,
     "metadata": {},
     "output_type": "execute_result"
    }
   ],
   "source": [
    "list3 = [] #empty list\n",
    "\n",
    "for x in range(10):\n",
    "    if x%2 == 1: # odd\n",
    "        list3.append(x)\n",
    "    \n",
    "list3"
   ]
  },
  {
   "cell_type": "code",
   "execution_count": 10,
   "id": "cb394bbb",
   "metadata": {},
   "outputs": [
    {
     "data": {
      "text/plain": [
       "[0, 2, 4, 6, 8]"
      ]
     },
     "execution_count": 10,
     "metadata": {},
     "output_type": "execute_result"
    }
   ],
   "source": [
    "list4 = [ x for x in range(10) if x%2 ==0 ] #even\n",
    "list4"
   ]
  },
  {
   "cell_type": "code",
   "execution_count": 11,
   "id": "d5f7b221",
   "metadata": {},
   "outputs": [
    {
     "data": {
      "text/plain": [
       "[1, 3, 5, 7, 9]"
      ]
     },
     "execution_count": 11,
     "metadata": {},
     "output_type": "execute_result"
    }
   ],
   "source": [
    "list4 = [ x for x in range(10) if x%2 ==1 ] #odd\n",
    "list4"
   ]
  },
  {
   "cell_type": "code",
   "execution_count": 12,
   "id": "10f401f3",
   "metadata": {},
   "outputs": [],
   "source": [
    "# Iteration through list\n",
    "list5 = ['ai','ds',1,2,5,6,9]\n",
    "list6 = [ x for x in list5 ]"
   ]
  },
  {
   "cell_type": "code",
   "execution_count": 13,
   "id": "1ed18e4a",
   "metadata": {},
   "outputs": [
    {
     "data": {
      "text/plain": [
       "['ai', 'ds', 1, 2, 5, 6, 9]"
      ]
     },
     "execution_count": 13,
     "metadata": {},
     "output_type": "execute_result"
    }
   ],
   "source": [
    "list5"
   ]
  },
  {
   "cell_type": "code",
   "execution_count": 14,
   "id": "3437d980",
   "metadata": {},
   "outputs": [
    {
     "data": {
      "text/plain": [
       "['ai', 'ds', 1, 2, 5, 6, 9]"
      ]
     },
     "execution_count": 14,
     "metadata": {},
     "output_type": "execute_result"
    }
   ],
   "source": [
    "list6"
   ]
  },
  {
   "cell_type": "code",
   "execution_count": 15,
   "id": "ecd32aa3",
   "metadata": {},
   "outputs": [
    {
     "data": {
      "text/plain": [
       "['ds', 1, 2, 5, 6, 9]"
      ]
     },
     "execution_count": 15,
     "metadata": {},
     "output_type": "execute_result"
    }
   ],
   "source": [
    "list6 = [ x for x in list5 if x !='ai']\n",
    "list6"
   ]
  },
  {
   "cell_type": "code",
   "execution_count": 16,
   "id": "2560afde",
   "metadata": {},
   "outputs": [
    {
     "data": {
      "text/plain": [
       "[1, 3, 9, 27, 81, 243, 729, 2187, 6561, 19683]"
      ]
     },
     "execution_count": 16,
     "metadata": {},
     "output_type": "execute_result"
    }
   ],
   "source": [
    "list6 = [ 3**x for x in range(10)] # last 3**9\n",
    "list6"
   ]
  },
  {
   "cell_type": "code",
   "execution_count": 17,
   "id": "9522a457",
   "metadata": {},
   "outputs": [
    {
     "data": {
      "text/plain": [
       "[0, 1, 2, 3, 4, 5, 6, 7, 8, 9]"
      ]
     },
     "execution_count": 17,
     "metadata": {},
     "output_type": "execute_result"
    }
   ],
   "source": [
    "# List membership testing\n",
    "list2"
   ]
  },
  {
   "cell_type": "code",
   "execution_count": 18,
   "id": "c55fc3cb",
   "metadata": {},
   "outputs": [
    {
     "data": {
      "text/plain": [
       "True"
      ]
     },
     "execution_count": 18,
     "metadata": {},
     "output_type": "execute_result"
    }
   ],
   "source": [
    "9 in list2"
   ]
  },
  {
   "cell_type": "code",
   "execution_count": 19,
   "id": "923503f6",
   "metadata": {},
   "outputs": [
    {
     "data": {
      "text/plain": [
       "False"
      ]
     },
     "execution_count": 19,
     "metadata": {},
     "output_type": "execute_result"
    }
   ],
   "source": [
    "10 in list2"
   ]
  },
  {
   "cell_type": "code",
   "execution_count": null,
   "id": "d46cf993",
   "metadata": {},
   "outputs": [],
   "source": []
  }
 ],
 "metadata": {
  "kernelspec": {
   "display_name": "Python 3 (ipykernel)",
   "language": "python",
   "name": "python3"
  },
  "language_info": {
   "codemirror_mode": {
    "name": "ipython",
    "version": 3
   },
   "file_extension": ".py",
   "mimetype": "text/x-python",
   "name": "python",
   "nbconvert_exporter": "python",
   "pygments_lexer": "ipython3",
   "version": "3.9.13"
  }
 },
 "nbformat": 4,
 "nbformat_minor": 5
}
