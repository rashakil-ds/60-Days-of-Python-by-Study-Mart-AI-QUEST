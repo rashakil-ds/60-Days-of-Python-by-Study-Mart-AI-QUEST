{
 "cells": [
  {
   "cell_type": "markdown",
   "id": "80b6525d",
   "metadata": {},
   "source": [
    "Learn Data Science: https://aiquest.org/ <br>\n",
    "Python for Everybody: https://aiquest.org/courses/python-for-everybody/ <br>\n",
    "Join Facebook Group: https://www.facebook.com/groups/StudyMart <br>\n",
    "Cell/WhatsApp: +8801704265972"
   ]
  },
  {
   "cell_type": "markdown",
   "id": "e6ab2ce2",
   "metadata": {},
   "source": [
    "# Problem 1: List Sum"
   ]
  },
  {
   "cell_type": "markdown",
   "id": "8dfb3453",
   "metadata": {},
   "source": [
    "Write a Python function that takes a list of numbers as input and returns the sum of all the elements in the list. <br>\n",
    "input_numbers = [1, 2, 3, 4, 5] <br>\n",
    "Sum: 15"
   ]
  },
  {
   "cell_type": "code",
   "execution_count": null,
   "id": "d41fd0cd",
   "metadata": {},
   "outputs": [],
   "source": [
    "def list_sum(input_numbers):\n",
    "    "
   ]
  },
  {
   "cell_type": "code",
   "execution_count": null,
   "id": "d7ad7bf8",
   "metadata": {},
   "outputs": [],
   "source": []
  },
  {
   "cell_type": "markdown",
   "id": "0392253b",
   "metadata": {},
   "source": [
    "# Problem 2: List Reversal"
   ]
  },
  {
   "cell_type": "markdown",
   "id": "3be50e74",
   "metadata": {},
   "source": [
    "Create a function that reverses a given list and returns the reversed list. <br>\n",
    "original_list = [10, 20, 30, 40, 50] <br>\n",
    "Reversed List: [50, 40, 30, 20, 10]\n"
   ]
  },
  {
   "cell_type": "code",
   "execution_count": null,
   "id": "6d0a5c4d",
   "metadata": {},
   "outputs": [],
   "source": [
    "def List_Reversal(original_list):\n",
    "    "
   ]
  },
  {
   "cell_type": "code",
   "execution_count": null,
   "id": "94c44207",
   "metadata": {},
   "outputs": [],
   "source": []
  },
  {
   "cell_type": "markdown",
   "id": "bf298361",
   "metadata": {},
   "source": [
    "# Problem 3: List Even Numbers"
   ]
  },
  {
   "cell_type": "markdown",
   "id": "ddf3d876",
   "metadata": {},
   "source": [
    "Write a function that takes a list of integers as input and returns a new list containing only the even numbers. <br>\n",
    "numbers = [1, 2, 3, 4, 5, 6, 7, 8, 9, 10] <br>\n",
    "Even Numbers: [2, 4, 6, 8, 10]"
   ]
  },
  {
   "cell_type": "code",
   "execution_count": null,
   "id": "9fa29705",
   "metadata": {},
   "outputs": [],
   "source": [
    "def even_num(numbers):\n",
    "    "
   ]
  },
  {
   "cell_type": "code",
   "execution_count": null,
   "id": "ef510490",
   "metadata": {},
   "outputs": [],
   "source": []
  },
  {
   "cell_type": "markdown",
   "id": "48d3d6f4",
   "metadata": {},
   "source": [
    "# Problem 4: List Duplicates"
   ]
  },
  {
   "cell_type": "markdown",
   "id": "04676d7b",
   "metadata": {},
   "source": [
    "Create a function that finds and returns a list of unique elements from a given list. <br>\n",
    "elements = [1, 2, 2, 3, 4, 4, 5] <br>\n",
    "Unique Elements: [1, 2, 3, 4, 5]"
   ]
  },
  {
   "cell_type": "code",
   "execution_count": null,
   "id": "1e4d1410",
   "metadata": {},
   "outputs": [],
   "source": [
    "def duplicates(elements):\n",
    "    "
   ]
  },
  {
   "cell_type": "code",
   "execution_count": null,
   "id": "283cd063",
   "metadata": {},
   "outputs": [],
   "source": []
  },
  {
   "cell_type": "markdown",
   "id": "39af1384",
   "metadata": {},
   "source": [
    "# Problem 5: List Concatenation"
   ]
  },
  {
   "cell_type": "markdown",
   "id": "36d0a6cc",
   "metadata": {},
   "source": [
    "Write a function that takes two lists as input and returns a new list that is the concatenation of the two input lists. <br>\n",
    "list1 = [1, 2, 3] <br>\n",
    "list2 = [4, 5, 6] <br>\n",
    "Concatenated List: [1, 2, 3, 4, 5, 6]\n",
    "\n"
   ]
  },
  {
   "cell_type": "code",
   "execution_count": null,
   "id": "a948c128",
   "metadata": {},
   "outputs": [],
   "source": []
  },
  {
   "cell_type": "code",
   "execution_count": null,
   "id": "aff73e5e",
   "metadata": {},
   "outputs": [],
   "source": []
  },
  {
   "cell_type": "markdown",
   "id": "aab3c1bf",
   "metadata": {},
   "source": [
    "বিশেষ দ্রষ্টব্য: অবশ্যই আপনাকে মাথা খাটিয়ে উত্তরগুলো বের করতে হবে! যদি চোরামি করে সলিউশন বের করেন, তাহলে আপনার ব্রেকআপ হয়ে যাবে! সেক্ষেত্রে কর্তৃপক্ষ দায়ী থাকবে না! ধন্যবাদ! <br>\n",
    "-shakil vai"
   ]
  }
 ],
 "metadata": {
  "kernelspec": {
   "display_name": "Python 3 (ipykernel)",
   "language": "python",
   "name": "python3"
  },
  "language_info": {
   "codemirror_mode": {
    "name": "ipython",
    "version": 3
   },
   "file_extension": ".py",
   "mimetype": "text/x-python",
   "name": "python",
   "nbconvert_exporter": "python",
   "pygments_lexer": "ipython3",
   "version": "3.9.13"
  }
 },
 "nbformat": 4,
 "nbformat_minor": 5
}
