{
 "cells": [
  {
   "cell_type": "markdown",
   "id": "e120f0d8",
   "metadata": {},
   "source": [
    "Learn Data Science: https://aiquest.org/ <br>\n",
    "Python for Everybody: https://aiquest.org/courses/python-for-everybody/ <br>\n",
    "Join Facebook Group: https://www.facebook.com/groups/StudyMart <br>\n",
    "Cell/WhatsApp: +8801704265972"
   ]
  },
  {
   "cell_type": "markdown",
   "id": "f8f069ca",
   "metadata": {},
   "source": [
    "# List Methods"
   ]
  },
  {
   "cell_type": "code",
   "execution_count": 1,
   "id": "d0afd1fa",
   "metadata": {},
   "outputs": [],
   "source": [
    "#list\n",
    "list1 = ['ai','dS','CS',150,20,True,[3,4],(1,2)]"
   ]
  },
  {
   "cell_type": "code",
   "execution_count": 2,
   "id": "55587db6",
   "metadata": {},
   "outputs": [
    {
     "data": {
      "text/plain": [
       "['ai', 'dS', 'CS', 150, 20, True, [3, 4], (1, 2)]"
      ]
     },
     "execution_count": 2,
     "metadata": {},
     "output_type": "execute_result"
    }
   ],
   "source": [
    "list1"
   ]
  },
  {
   "cell_type": "code",
   "execution_count": 3,
   "id": "8664db63",
   "metadata": {},
   "outputs": [
    {
     "data": {
      "text/plain": [
       "'ai'"
      ]
     },
     "execution_count": 3,
     "metadata": {},
     "output_type": "execute_result"
    }
   ],
   "source": [
    "list1[0]"
   ]
  },
  {
   "cell_type": "code",
   "execution_count": 4,
   "id": "a1999b6e",
   "metadata": {},
   "outputs": [
    {
     "data": {
      "text/plain": [
       "(1, 2)"
      ]
     },
     "execution_count": 4,
     "metadata": {},
     "output_type": "execute_result"
    }
   ],
   "source": [
    "list1[-1]"
   ]
  },
  {
   "cell_type": "code",
   "execution_count": 5,
   "id": "919dbcce",
   "metadata": {},
   "outputs": [
    {
     "data": {
      "text/plain": [
       "1"
      ]
     },
     "execution_count": 5,
     "metadata": {},
     "output_type": "execute_result"
    }
   ],
   "source": [
    "list1[-1][0]"
   ]
  },
  {
   "cell_type": "code",
   "execution_count": 6,
   "id": "167e1144",
   "metadata": {},
   "outputs": [
    {
     "data": {
      "text/plain": [
       "1"
      ]
     },
     "execution_count": 6,
     "metadata": {},
     "output_type": "execute_result"
    }
   ],
   "source": [
    "list1[-1][-2]"
   ]
  },
  {
   "cell_type": "markdown",
   "id": "4ba41d70",
   "metadata": {},
   "source": [
    "# Copy()"
   ]
  },
  {
   "cell_type": "code",
   "execution_count": 7,
   "id": "ec257472",
   "metadata": {},
   "outputs": [],
   "source": [
    "list2 = list1"
   ]
  },
  {
   "cell_type": "code",
   "execution_count": 8,
   "id": "6d543700",
   "metadata": {},
   "outputs": [
    {
     "data": {
      "text/plain": [
       "['ai', 'dS', 'CS', 150, 20, True, [3, 4], (1, 2)]"
      ]
     },
     "execution_count": 8,
     "metadata": {},
     "output_type": "execute_result"
    }
   ],
   "source": [
    "list2"
   ]
  },
  {
   "cell_type": "code",
   "execution_count": 9,
   "id": "fc1b6361",
   "metadata": {},
   "outputs": [
    {
     "data": {
      "text/plain": [
       "['ai', 'dS', 'CS', 150, 20, True, [3, 4], (1, 2)]"
      ]
     },
     "execution_count": 9,
     "metadata": {},
     "output_type": "execute_result"
    }
   ],
   "source": [
    "list1"
   ]
  },
  {
   "cell_type": "code",
   "execution_count": 11,
   "id": "e0c5f002",
   "metadata": {},
   "outputs": [],
   "source": [
    "list3 = list1.copy()"
   ]
  },
  {
   "cell_type": "code",
   "execution_count": 12,
   "id": "202c553d",
   "metadata": {},
   "outputs": [
    {
     "data": {
      "text/plain": [
       "['ai', 'dS', 'CS', 150, 20, True, [3, 4], (1, 2)]"
      ]
     },
     "execution_count": 12,
     "metadata": {},
     "output_type": "execute_result"
    }
   ],
   "source": [
    "list3"
   ]
  },
  {
   "cell_type": "code",
   "execution_count": 13,
   "id": "ce39d49a",
   "metadata": {},
   "outputs": [],
   "source": [
    "list1[0] = '1000'"
   ]
  },
  {
   "cell_type": "code",
   "execution_count": 14,
   "id": "4ec920e2",
   "metadata": {},
   "outputs": [
    {
     "data": {
      "text/plain": [
       "['1000', 'dS', 'CS', 150, 20, True, [3, 4], (1, 2)]"
      ]
     },
     "execution_count": 14,
     "metadata": {},
     "output_type": "execute_result"
    }
   ],
   "source": [
    "list1"
   ]
  },
  {
   "cell_type": "code",
   "execution_count": 15,
   "id": "efadbec3",
   "metadata": {},
   "outputs": [
    {
     "data": {
      "text/plain": [
       "['1000', 'dS', 'CS', 150, 20, True, [3, 4], (1, 2)]"
      ]
     },
     "execution_count": 15,
     "metadata": {},
     "output_type": "execute_result"
    }
   ],
   "source": [
    "list2"
   ]
  },
  {
   "cell_type": "code",
   "execution_count": 17,
   "id": "b6e99d2b",
   "metadata": {},
   "outputs": [],
   "source": [
    "list3[0] = 'data'"
   ]
  },
  {
   "cell_type": "code",
   "execution_count": 18,
   "id": "5f397a6f",
   "metadata": {},
   "outputs": [
    {
     "data": {
      "text/plain": [
       "['data', 'dS', 'CS', 150, 20, True, [3, 4], (1, 2)]"
      ]
     },
     "execution_count": 18,
     "metadata": {},
     "output_type": "execute_result"
    }
   ],
   "source": [
    "list3"
   ]
  },
  {
   "cell_type": "code",
   "execution_count": 19,
   "id": "2c98180f",
   "metadata": {},
   "outputs": [
    {
     "data": {
      "text/plain": [
       "['1000', 'dS', 'CS', 150, 20, True, [3, 4], (1, 2)]"
      ]
     },
     "execution_count": 19,
     "metadata": {},
     "output_type": "execute_result"
    }
   ],
   "source": [
    "list1"
   ]
  },
  {
   "cell_type": "markdown",
   "id": "66d76932",
   "metadata": {},
   "source": [
    "# Append()"
   ]
  },
  {
   "cell_type": "code",
   "execution_count": 20,
   "id": "2a4c314b",
   "metadata": {},
   "outputs": [],
   "source": [
    "list1.append(28)"
   ]
  },
  {
   "cell_type": "code",
   "execution_count": 21,
   "id": "8e08064a",
   "metadata": {},
   "outputs": [
    {
     "data": {
      "text/plain": [
       "['1000', 'dS', 'CS', 150, 20, True, [3, 4], (1, 2), 28]"
      ]
     },
     "execution_count": 21,
     "metadata": {},
     "output_type": "execute_result"
    }
   ],
   "source": [
    "list1"
   ]
  },
  {
   "cell_type": "code",
   "execution_count": 22,
   "id": "6c590b27",
   "metadata": {},
   "outputs": [],
   "source": [
    "l1 = [10,100.30]"
   ]
  },
  {
   "cell_type": "code",
   "execution_count": 23,
   "id": "a118d157",
   "metadata": {},
   "outputs": [
    {
     "data": {
      "text/plain": [
       "[10, 100.3]"
      ]
     },
     "execution_count": 23,
     "metadata": {},
     "output_type": "execute_result"
    }
   ],
   "source": [
    "l1"
   ]
  },
  {
   "cell_type": "code",
   "execution_count": 24,
   "id": "eaf718a3",
   "metadata": {},
   "outputs": [],
   "source": [
    "list1.append(l1)"
   ]
  },
  {
   "cell_type": "code",
   "execution_count": 25,
   "id": "4db69e15",
   "metadata": {},
   "outputs": [
    {
     "data": {
      "text/plain": [
       "['1000', 'dS', 'CS', 150, 20, True, [3, 4], (1, 2), 28, [10, 100.3]]"
      ]
     },
     "execution_count": 25,
     "metadata": {},
     "output_type": "execute_result"
    }
   ],
   "source": [
    "list1"
   ]
  },
  {
   "cell_type": "code",
   "execution_count": 26,
   "id": "b8149863",
   "metadata": {},
   "outputs": [
    {
     "data": {
      "text/plain": [
       "[10, 100.3]"
      ]
     },
     "execution_count": 26,
     "metadata": {},
     "output_type": "execute_result"
    }
   ],
   "source": [
    "list1[-1]"
   ]
  },
  {
   "cell_type": "code",
   "execution_count": 27,
   "id": "5c26d09c",
   "metadata": {},
   "outputs": [],
   "source": [
    "list1.append({1,2,3,4})"
   ]
  },
  {
   "cell_type": "code",
   "execution_count": 28,
   "id": "afa32619",
   "metadata": {},
   "outputs": [
    {
     "data": {
      "text/plain": [
       "['1000',\n",
       " 'dS',\n",
       " 'CS',\n",
       " 150,\n",
       " 20,\n",
       " True,\n",
       " [3, 4],\n",
       " (1, 2),\n",
       " 28,\n",
       " [10, 100.3],\n",
       " {1, 2, 3, 4}]"
      ]
     },
     "execution_count": 28,
     "metadata": {},
     "output_type": "execute_result"
    }
   ],
   "source": [
    "list1"
   ]
  },
  {
   "cell_type": "code",
   "execution_count": 29,
   "id": "7f08c139",
   "metadata": {},
   "outputs": [
    {
     "data": {
      "text/plain": [
       "{1, 2, 3, 4}"
      ]
     },
     "execution_count": 29,
     "metadata": {},
     "output_type": "execute_result"
    }
   ],
   "source": [
    "list1[-1]"
   ]
  },
  {
   "cell_type": "markdown",
   "id": "73e55360",
   "metadata": {},
   "source": [
    "# Extend()"
   ]
  },
  {
   "cell_type": "code",
   "execution_count": 30,
   "id": "8df6b5c0",
   "metadata": {},
   "outputs": [],
   "source": [
    "list1.extend(l1)"
   ]
  },
  {
   "cell_type": "code",
   "execution_count": 31,
   "id": "e45ee129",
   "metadata": {},
   "outputs": [
    {
     "data": {
      "text/plain": [
       "['1000',\n",
       " 'dS',\n",
       " 'CS',\n",
       " 150,\n",
       " 20,\n",
       " True,\n",
       " [3, 4],\n",
       " (1, 2),\n",
       " 28,\n",
       " [10, 100.3],\n",
       " {1, 2, 3, 4},\n",
       " 10,\n",
       " 100.3]"
      ]
     },
     "execution_count": 31,
     "metadata": {},
     "output_type": "execute_result"
    }
   ],
   "source": [
    "list1"
   ]
  },
  {
   "cell_type": "code",
   "execution_count": 33,
   "id": "8e9d87dc",
   "metadata": {},
   "outputs": [
    {
     "data": {
      "text/plain": [
       "10"
      ]
     },
     "execution_count": 33,
     "metadata": {},
     "output_type": "execute_result"
    }
   ],
   "source": [
    "list1[-2]"
   ]
  },
  {
   "cell_type": "markdown",
   "id": "020f3c43",
   "metadata": {},
   "source": [
    "# Insert()"
   ]
  },
  {
   "cell_type": "code",
   "execution_count": 35,
   "id": "68663a7b",
   "metadata": {},
   "outputs": [],
   "source": [
    "list1.insert(0,'FAU')"
   ]
  },
  {
   "cell_type": "code",
   "execution_count": 36,
   "id": "bb5c1963",
   "metadata": {},
   "outputs": [
    {
     "data": {
      "text/plain": [
       "['FAU',\n",
       " '1000',\n",
       " 'dS',\n",
       " 'CS',\n",
       " 150,\n",
       " 20,\n",
       " True,\n",
       " [3, 4],\n",
       " (1, 2),\n",
       " 28,\n",
       " [10, 100.3],\n",
       " {1, 2, 3, 4},\n",
       " 10,\n",
       " 100.3]"
      ]
     },
     "execution_count": 36,
     "metadata": {},
     "output_type": "execute_result"
    }
   ],
   "source": [
    "list1"
   ]
  },
  {
   "cell_type": "code",
   "execution_count": 37,
   "id": "bab5b2fc",
   "metadata": {},
   "outputs": [],
   "source": [
    "list1[0] = 'Germany'"
   ]
  },
  {
   "cell_type": "code",
   "execution_count": 38,
   "id": "6cfa65f0",
   "metadata": {},
   "outputs": [
    {
     "data": {
      "text/plain": [
       "['Germany',\n",
       " '1000',\n",
       " 'dS',\n",
       " 'CS',\n",
       " 150,\n",
       " 20,\n",
       " True,\n",
       " [3, 4],\n",
       " (1, 2),\n",
       " 28,\n",
       " [10, 100.3],\n",
       " {1, 2, 3, 4},\n",
       " 10,\n",
       " 100.3]"
      ]
     },
     "execution_count": 38,
     "metadata": {},
     "output_type": "execute_result"
    }
   ],
   "source": [
    "list1"
   ]
  },
  {
   "cell_type": "markdown",
   "id": "346c9407",
   "metadata": {},
   "source": [
    "# index()"
   ]
  },
  {
   "cell_type": "code",
   "execution_count": 39,
   "id": "4e3b90af",
   "metadata": {},
   "outputs": [
    {
     "data": {
      "text/plain": [
       "4"
      ]
     },
     "execution_count": 39,
     "metadata": {},
     "output_type": "execute_result"
    }
   ],
   "source": [
    "list1.index(150)"
   ]
  },
  {
   "cell_type": "code",
   "execution_count": 42,
   "id": "90cbdc52",
   "metadata": {},
   "outputs": [
    {
     "data": {
      "text/plain": [
       "11"
      ]
     },
     "execution_count": 42,
     "metadata": {},
     "output_type": "execute_result"
    }
   ],
   "source": [
    "list1.index({1, 2, 3, 4})"
   ]
  },
  {
   "cell_type": "markdown",
   "id": "ce9a847a",
   "metadata": {},
   "source": [
    "# Count()"
   ]
  },
  {
   "cell_type": "code",
   "execution_count": 43,
   "id": "51232776",
   "metadata": {},
   "outputs": [
    {
     "data": {
      "text/plain": [
       "1"
      ]
     },
     "execution_count": 43,
     "metadata": {},
     "output_type": "execute_result"
    }
   ],
   "source": [
    "list1.count({1, 2, 3, 4})"
   ]
  },
  {
   "cell_type": "code",
   "execution_count": 44,
   "id": "2c79cb45",
   "metadata": {},
   "outputs": [
    {
     "data": {
      "text/plain": [
       "1"
      ]
     },
     "execution_count": 44,
     "metadata": {},
     "output_type": "execute_result"
    }
   ],
   "source": [
    "list1.count(150)"
   ]
  },
  {
   "cell_type": "markdown",
   "id": "9bd0ff79",
   "metadata": {},
   "source": [
    "# sort()"
   ]
  },
  {
   "cell_type": "code",
   "execution_count": 45,
   "id": "7ba55e6f",
   "metadata": {},
   "outputs": [],
   "source": [
    "ls2 = [10,2,6,7,9,100]"
   ]
  },
  {
   "cell_type": "code",
   "execution_count": 47,
   "id": "b4c695c2",
   "metadata": {},
   "outputs": [],
   "source": [
    "ls2.sort()"
   ]
  },
  {
   "cell_type": "code",
   "execution_count": 48,
   "id": "82bd97ea",
   "metadata": {},
   "outputs": [
    {
     "data": {
      "text/plain": [
       "[2, 6, 7, 9, 10, 100]"
      ]
     },
     "execution_count": 48,
     "metadata": {},
     "output_type": "execute_result"
    }
   ],
   "source": [
    "ls2"
   ]
  },
  {
   "cell_type": "markdown",
   "id": "e3449c76",
   "metadata": {},
   "source": [
    "# reverse()  "
   ]
  },
  {
   "cell_type": "code",
   "execution_count": 49,
   "id": "d02604b4",
   "metadata": {},
   "outputs": [],
   "source": [
    "ls2.reverse()  "
   ]
  },
  {
   "cell_type": "code",
   "execution_count": 50,
   "id": "843ad66b",
   "metadata": {},
   "outputs": [
    {
     "data": {
      "text/plain": [
       "[100, 10, 9, 7, 6, 2]"
      ]
     },
     "execution_count": 50,
     "metadata": {},
     "output_type": "execute_result"
    }
   ],
   "source": [
    "ls2"
   ]
  },
  {
   "cell_type": "markdown",
   "id": "d5ee5cf9",
   "metadata": {},
   "source": [
    "# remove()"
   ]
  },
  {
   "cell_type": "code",
   "execution_count": 51,
   "id": "1cae7462",
   "metadata": {},
   "outputs": [],
   "source": [
    "ls2.remove(100)"
   ]
  },
  {
   "cell_type": "code",
   "execution_count": 52,
   "id": "a7d8d6a6",
   "metadata": {},
   "outputs": [
    {
     "data": {
      "text/plain": [
       "[10, 9, 7, 6, 2]"
      ]
     },
     "execution_count": 52,
     "metadata": {},
     "output_type": "execute_result"
    }
   ],
   "source": [
    "ls2"
   ]
  },
  {
   "cell_type": "markdown",
   "id": "4da6dcb2",
   "metadata": {},
   "source": [
    "# Pop()"
   ]
  },
  {
   "cell_type": "code",
   "execution_count": 53,
   "id": "3b9ca73a",
   "metadata": {},
   "outputs": [
    {
     "data": {
      "text/plain": [
       "2"
      ]
     },
     "execution_count": 53,
     "metadata": {},
     "output_type": "execute_result"
    }
   ],
   "source": [
    "ls2.pop(-1)"
   ]
  },
  {
   "cell_type": "code",
   "execution_count": 54,
   "id": "b13eb1eb",
   "metadata": {},
   "outputs": [
    {
     "data": {
      "text/plain": [
       "[10, 9, 7, 6]"
      ]
     },
     "execution_count": 54,
     "metadata": {},
     "output_type": "execute_result"
    }
   ],
   "source": [
    "ls2"
   ]
  },
  {
   "cell_type": "code",
   "execution_count": 56,
   "id": "36c88af5",
   "metadata": {},
   "outputs": [],
   "source": [
    "del ls2[0] # delete"
   ]
  },
  {
   "cell_type": "code",
   "execution_count": 57,
   "id": "dac8493d",
   "metadata": {},
   "outputs": [
    {
     "data": {
      "text/plain": [
       "[9, 7, 6]"
      ]
     },
     "execution_count": 57,
     "metadata": {},
     "output_type": "execute_result"
    }
   ],
   "source": [
    "ls2"
   ]
  },
  {
   "cell_type": "code",
   "execution_count": 58,
   "id": "752d77bf",
   "metadata": {},
   "outputs": [
    {
     "data": {
      "text/plain": [
       "[9, 7, 6]"
      ]
     },
     "execution_count": 58,
     "metadata": {},
     "output_type": "execute_result"
    }
   ],
   "source": [
    "ls2"
   ]
  },
  {
   "cell_type": "code",
   "execution_count": 59,
   "id": "428438b8",
   "metadata": {},
   "outputs": [],
   "source": [
    "ls2.clear()"
   ]
  },
  {
   "cell_type": "code",
   "execution_count": 60,
   "id": "f00e189c",
   "metadata": {},
   "outputs": [
    {
     "data": {
      "text/plain": [
       "[]"
      ]
     },
     "execution_count": 60,
     "metadata": {},
     "output_type": "execute_result"
    }
   ],
   "source": [
    "ls2"
   ]
  },
  {
   "cell_type": "code",
   "execution_count": 61,
   "id": "a0626603",
   "metadata": {},
   "outputs": [
    {
     "data": {
      "text/plain": [
       "list"
      ]
     },
     "execution_count": 61,
     "metadata": {},
     "output_type": "execute_result"
    }
   ],
   "source": [
    "type(ls2)"
   ]
  },
  {
   "cell_type": "code",
   "execution_count": null,
   "id": "5e91b1cb",
   "metadata": {},
   "outputs": [],
   "source": []
  }
 ],
 "metadata": {
  "kernelspec": {
   "display_name": "Python 3 (ipykernel)",
   "language": "python",
   "name": "python3"
  },
  "language_info": {
   "codemirror_mode": {
    "name": "ipython",
    "version": 3
   },
   "file_extension": ".py",
   "mimetype": "text/x-python",
   "name": "python",
   "nbconvert_exporter": "python",
   "pygments_lexer": "ipython3",
   "version": "3.9.13"
  }
 },
 "nbformat": 4,
 "nbformat_minor": 5
}
