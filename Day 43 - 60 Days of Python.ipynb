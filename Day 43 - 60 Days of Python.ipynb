{
 "cells": [
  {
   "cell_type": "markdown",
   "id": "e6c3ef53",
   "metadata": {},
   "source": [
    "# Generators in Python:\n",
    "\n",
    "Generator is a special type of iterator that allows you to iterate through a sequence of values one at a time, without having to store the entire sequence in memory at once. \n",
    "\n",
    "## What is a Generator?\n",
    "\n",
    "A generator is a function that returns an iterator object which we can iterate over (one value at a time). Generators are written like regular functions but use the `yield` statement whenever they want to return data. Each time `yield` is called, the generator function pauses and saves its state so that it can resume right where it left off on subsequent calls.\n",
    "\n",
    "## How to Create a Generator\n",
    "\n",
    "### Using Generator Functions\n",
    "\n",
    "A generator function is defined like a normal function but uses the `yield` statement to return values one at a time. After the `yield` keyword, the variable (or expression) that follows is the output produced by the generator. So, you can say that `yield` is a keyword that controls the data flow in a generator. \n",
    "\n",
    "```python\n",
    "def count_up_to(max):\n",
    "    count = 1\n",
    "    while count <= max:\n",
    "        yield count\n",
    "        count += 1\n",
    "\n",
    "counter = count_up_to(5)\n",
    "\n",
    "# Outputs\n",
    "print(next(counter))  # 1\n",
    "print(next(counter))  # 2\n",
    "print(next(counter))  # 3\n",
    "print(next(counter))  # 4\n",
    "print(next(counter))  # 5\n",
    "#print(next(counter)) # hoise ebar tham\n"
   ]
  },
  {
   "cell_type": "markdown",
   "id": "31c1ce44",
   "metadata": {},
   "source": [
    "# List"
   ]
  },
  {
   "cell_type": "code",
   "execution_count": 1,
   "id": "5684a15b",
   "metadata": {},
   "outputs": [],
   "source": [
    "def even_numbers_list(limit):\n",
    "    numbers = []\n",
    "    num = 0\n",
    "    while num < limit:\n",
    "        numbers.append(num)\n",
    "        num += 2\n",
    "    return numbers"
   ]
  },
  {
   "cell_type": "code",
   "execution_count": 2,
   "id": "1af49811",
   "metadata": {},
   "outputs": [
    {
     "data": {
      "text/plain": [
       "[0, 2, 4, 6, 8]"
      ]
     },
     "execution_count": 2,
     "metadata": {},
     "output_type": "execute_result"
    }
   ],
   "source": [
    "evens = even_numbers_list(10) #range dite hobe\n",
    "evens"
   ]
  },
  {
   "cell_type": "markdown",
   "id": "11994079",
   "metadata": {},
   "source": [
    "Suppose, you have a list of `n` data items and you want to use yield to create a generator that will yield each item from the list one by one."
   ]
  },
  {
   "cell_type": "code",
   "execution_count": 3,
   "id": "45c76b1f",
   "metadata": {},
   "outputs": [
    {
     "name": "stdout",
     "output_type": "stream",
     "text": [
      "10\n",
      "20\n",
      "30\n",
      "40\n",
      "50\n"
     ]
    }
   ],
   "source": [
    "data_list = [10, 20, 30, 40, 50]\n",
    "\n",
    "def data_generator(data): # Generator function\n",
    "    for item in data:\n",
    "        yield item\n",
    "\n",
    "gen = data_generator(data_list) # creating generator\n",
    "\n",
    "for item in gen:\n",
    "    print(item)"
   ]
  },
  {
   "cell_type": "markdown",
   "id": "05484d83",
   "metadata": {},
   "source": [
    "## Why Use `yield`?\n",
    "\n",
    "- **Memory Efficiency**: It avoids the need to store large data sets in memory.\n",
    "- **Lazy Evaluation**: Values are generated only as needed.\n",
    "- **Simpler Code**: Writing a generator function is often more straightforward and readable than manually managing state with an iterator class.\n",
    "- **Infinite Sequences**: Generators can represent infinite sequences, producing values on-demand without running out of memory.\n"
   ]
  },
  {
   "cell_type": "code",
   "execution_count": 4,
   "id": "3fb9b0ca",
   "metadata": {},
   "outputs": [],
   "source": [
    "import sys"
   ]
  },
  {
   "cell_type": "code",
   "execution_count": 5,
   "id": "ed8b6e3c",
   "metadata": {},
   "outputs": [
    {
     "data": {
      "text/plain": [
       "[0, 2, 4, 6, 8]"
      ]
     },
     "execution_count": 5,
     "metadata": {},
     "output_type": "execute_result"
    }
   ],
   "source": [
    "evens"
   ]
  },
  {
   "cell_type": "code",
   "execution_count": 6,
   "id": "f4bc49af",
   "metadata": {},
   "outputs": [
    {
     "data": {
      "text/plain": [
       "120"
      ]
     },
     "execution_count": 6,
     "metadata": {},
     "output_type": "execute_result"
    }
   ],
   "source": [
    "sys.getsizeof(evens)"
   ]
  },
  {
   "cell_type": "code",
   "execution_count": 7,
   "id": "a2eaff96",
   "metadata": {},
   "outputs": [
    {
     "name": "stdout",
     "output_type": "stream",
     "text": [
      "0\n",
      "2\n",
      "4\n",
      "6\n",
      "8\n",
      "10\n",
      "12\n",
      "14\n",
      "16\n",
      "18\n"
     ]
    }
   ],
   "source": [
    "def even_numbers():\n",
    "    num = 0\n",
    "    while True:\n",
    "        \n",
    "        yield num\n",
    "        num += 2\n",
    "\n",
    "gen = even_numbers()\n",
    "\n",
    "for _ in range(10):\n",
    "    print(next(gen))\n"
   ]
  },
  {
   "cell_type": "code",
   "execution_count": 8,
   "id": "2a456612",
   "metadata": {},
   "outputs": [
    {
     "data": {
      "text/plain": [
       "112"
      ]
     },
     "execution_count": 8,
     "metadata": {},
     "output_type": "execute_result"
    }
   ],
   "source": [
    "sys.getsizeof(gen)"
   ]
  },
  {
   "cell_type": "markdown",
   "id": "70e4e7c8",
   "metadata": {},
   "source": [
    "# Without yield"
   ]
  },
  {
   "cell_type": "markdown",
   "id": "68f47e85",
   "metadata": {},
   "source": [
    "You can directly access the data of a generator expression, but you need to understand that a generator produces values on-the-fly and doesn't store them all at once. This is why you can't directly access specific elements or get the length of a generator like you can with lists or tuples. Instead, you need to iterate through the generator to get its values."
   ]
  },
  {
   "cell_type": "code",
   "execution_count": 9,
   "id": "71f4a960",
   "metadata": {},
   "outputs": [
    {
     "data": {
      "text/plain": [
       "<generator object <genexpr> at 0x000002419F463BA0>"
      ]
     },
     "execution_count": 9,
     "metadata": {},
     "output_type": "execute_result"
    }
   ],
   "source": [
    "ev_gen = (x for x in range(10) if x%2==0)\n",
    "ev_gen"
   ]
  },
  {
   "cell_type": "code",
   "execution_count": 10,
   "id": "64af1bb0",
   "metadata": {},
   "outputs": [
    {
     "data": {
      "text/plain": [
       "112"
      ]
     },
     "execution_count": 10,
     "metadata": {},
     "output_type": "execute_result"
    }
   ],
   "source": [
    "sys.getsizeof(ev_gen)"
   ]
  },
  {
   "cell_type": "code",
   "execution_count": 11,
   "id": "c3377cae",
   "metadata": {},
   "outputs": [
    {
     "name": "stdout",
     "output_type": "stream",
     "text": [
      "0\n",
      "2\n",
      "4\n",
      "6\n",
      "8\n"
     ]
    }
   ],
   "source": [
    "for num in ev_gen:\n",
    "    print(num)"
   ]
  },
  {
   "cell_type": "code",
   "execution_count": 12,
   "id": "e2a31ef6",
   "metadata": {},
   "outputs": [
    {
     "name": "stdout",
     "output_type": "stream",
     "text": [
      "0\n",
      "1\n",
      "4\n",
      "9\n",
      "16\n",
      "25\n",
      "36\n",
      "49\n",
      "64\n",
      "81\n"
     ]
    }
   ],
   "source": [
    "squares_gen = (x**2 for x in range(10))\n",
    "\n",
    "for square in squares_gen:\n",
    "    print(square)\n"
   ]
  },
  {
   "cell_type": "code",
   "execution_count": 13,
   "id": "8e196364",
   "metadata": {},
   "outputs": [
    {
     "data": {
      "text/plain": [
       "[0, 1, 4, 9, 16, 25, 36, 49, 64, 81]"
      ]
     },
     "execution_count": 13,
     "metadata": {},
     "output_type": "execute_result"
    }
   ],
   "source": [
    "[x**2 for x in range(10)]"
   ]
  },
  {
   "cell_type": "code",
   "execution_count": 14,
   "id": "fce18263",
   "metadata": {},
   "outputs": [
    {
     "name": "stdout",
     "output_type": "stream",
     "text": [
      "0\n",
      "2\n",
      "4\n",
      "6\n",
      "8\n"
     ]
    },
    {
     "data": {
      "text/plain": [
       "[None, None, None, None, None]"
      ]
     },
     "execution_count": 14,
     "metadata": {},
     "output_type": "execute_result"
    }
   ],
   "source": [
    "[print(x) for x in range(10) if x%2==0]"
   ]
  },
  {
   "cell_type": "code",
   "execution_count": 15,
   "id": "60adb567",
   "metadata": {},
   "outputs": [
    {
     "data": {
      "text/plain": [
       "112"
      ]
     },
     "execution_count": 15,
     "metadata": {},
     "output_type": "execute_result"
    }
   ],
   "source": [
    "sys.getsizeof(ev_gen)"
   ]
  },
  {
   "cell_type": "markdown",
   "id": "fbf6561a",
   "metadata": {},
   "source": [
    "# List Comprehensions vs Generators in Python\n",
    "\n",
    "Both list comprehensions and generators provide concise ways to create iterators in Python. However, they serve different purposes and have different characteristics.\n",
    "\n",
    "## List Comprehensions\n",
    "\n",
    "List comprehensions are a compact way to create lists. They are enclosed in square brackets `[]` and can include conditions and nested loops.\n",
    "\n",
    "### Syntax\n",
    "\n",
    "```python\n",
    "[expression for item in iterable if condition] #List Comprehension\n",
    "(expression for item in iterable if condition) #Generator\n"
   ]
  },
  {
   "cell_type": "markdown",
   "id": "25abfbb0",
   "metadata": {},
   "source": [
    "| Feature                  | List Comprehensions                      | Generators                                  |\n",
    "|--------------------------|------------------------------------------|---------------------------------------------|\n",
    "| **Syntax**               | `[expression for item in iterable]`      | `(expression for item in iterable)`         |\n",
    "| **Evaluation**           | Immediate (all items at once)            | Lazy (one item at a time)                   |\n",
    "| **Memory Usage**         | Stores entire list in memory             | Memory efficient (no storage of entire list)|\n",
    "| **Iteration**            | Can be iterated multiple times           | Can be iterated only once                   |\n",
    "| **Use Case**             | Small to medium-sized lists              | Large datasets or infinite sequences        |\n",
    "| **Speed**                | Faster for small datasets                | Generally slower due to lazy evaluation     |\n"
   ]
  },
  {
   "cell_type": "code",
   "execution_count": 16,
   "id": "014336f6",
   "metadata": {},
   "outputs": [
    {
     "data": {
      "text/plain": [
       "[0, 4, 16, 36, 64]"
      ]
     },
     "execution_count": 16,
     "metadata": {},
     "output_type": "execute_result"
    }
   ],
   "source": [
    "# List comprehension\n",
    "even_squares = [x**2 for x in range(10) if x % 2 == 0]\n",
    "even_squares"
   ]
  },
  {
   "cell_type": "code",
   "execution_count": 17,
   "id": "4aa47902",
   "metadata": {},
   "outputs": [
    {
     "name": "stdout",
     "output_type": "stream",
     "text": [
      "0\n",
      "4\n",
      "16\n",
      "36\n",
      "64\n"
     ]
    }
   ],
   "source": [
    "# Generator expression\n",
    "even_squares_gen = (x**2 for x in range(10) if x % 2 == 0)\n",
    "\n",
    "for square in even_squares_gen:\n",
    "    print(square)"
   ]
  },
  {
   "cell_type": "code",
   "execution_count": 18,
   "id": "9e14a4d0",
   "metadata": {},
   "outputs": [
    {
     "name": "stdout",
     "output_type": "stream",
     "text": [
      "List comprehension = 120\n",
      "Generator = 112\n"
     ]
    }
   ],
   "source": [
    "print('List comprehension =',sys.getsizeof(even_squares))\n",
    "print('Generator =',sys.getsizeof(even_squares_gen))"
   ]
  },
  {
   "cell_type": "code",
   "execution_count": 19,
   "id": "5fe2a0a8",
   "metadata": {},
   "outputs": [
    {
     "data": {
      "text/plain": [
       "(0, 4, 16, 36, 64)"
      ]
     },
     "execution_count": 19,
     "metadata": {},
     "output_type": "execute_result"
    }
   ],
   "source": [
    "even_squares_tuple = tuple(x**2 for x in range(10) if x % 2 == 0)\n",
    "even_squares_tuple"
   ]
  },
  {
   "cell_type": "code",
   "execution_count": 20,
   "id": "b23c3749",
   "metadata": {},
   "outputs": [
    {
     "data": {
      "text/plain": [
       "[0, 4, 16, 36, 64]"
      ]
     },
     "execution_count": 20,
     "metadata": {},
     "output_type": "execute_result"
    }
   ],
   "source": [
    "even_squares_list = list(x**2 for x in range(10) if x % 2 == 0)\n",
    "even_squares_list"
   ]
  },
  {
   "cell_type": "code",
   "execution_count": null,
   "id": "a129805b",
   "metadata": {},
   "outputs": [],
   "source": []
  }
 ],
 "metadata": {
  "kernelspec": {
   "display_name": "Python 3 (ipykernel)",
   "language": "python",
   "name": "python3"
  },
  "language_info": {
   "codemirror_mode": {
    "name": "ipython",
    "version": 3
   },
   "file_extension": ".py",
   "mimetype": "text/x-python",
   "name": "python",
   "nbconvert_exporter": "python",
   "pygments_lexer": "ipython3",
   "version": "3.9.13"
  }
 },
 "nbformat": 4,
 "nbformat_minor": 5
}
